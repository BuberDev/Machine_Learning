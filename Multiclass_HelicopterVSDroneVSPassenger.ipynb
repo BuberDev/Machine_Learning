{
  "nbformat": 4,
  "nbformat_minor": 0,
  "metadata": {
    "colab": {
      "provenance": [],
      "gpuType": "T4",
      "authorship_tag": "ABX9TyMahAdIP5LNi+actEDCe6UR",
      "include_colab_link": true
    },
    "kernelspec": {
      "name": "python3",
      "display_name": "Python 3"
    },
    "language_info": {
      "name": "python"
    },
    "accelerator": "GPU"
  },
  "cells": [
    {
      "cell_type": "markdown",
      "metadata": {
        "id": "view-in-github",
        "colab_type": "text"
      },
      "source": [
        "<a href=\"https://colab.research.google.com/github/BuberDev/Machine_Learning/blob/main/Multiclass_HelicopterVSDroneVSPassenger.ipynb\" target=\"_parent\"><img src=\"https://colab.research.google.com/assets/colab-badge.svg\" alt=\"Open In Colab\"/></a>"
      ]
    },
    {
      "cell_type": "markdown",
      "source": [],
      "metadata": {
        "id": "ObkljSiR1yEg"
      }
    },
    {
      "cell_type": "markdown",
      "source": [
        "# Klasyfikator wieloklasowy - Image Classification - Drone vs. Passenger Plane vs. Helicopter"
      ],
      "metadata": {
        "id": "fY62__V91zkO"
      }
    },
    {
      "cell_type": "code",
      "execution_count": 2,
      "metadata": {
        "id": "D0-GNmrF1luj"
      },
      "outputs": [],
      "source": [
        "import numpy as np\n",
        "import pandas as pd\n",
        "import matplotlib.pyplot as plt\n",
        "import shutil\n",
        "import plotly.graph_objects as go\n",
        "from sklearn.metrics import confusion_matrix, classification_report\n",
        "\n",
        "from tensorflow.keras.preprocessing import image\n",
        "from tensorflow.keras.preprocessing.image import ImageDataGenerator\n",
        "from tensorflow.keras import layers\n",
        "from tensorflow.keras.models import Sequential\n",
        "from tensorflow.keras import optimizers\n",
        "from tensorflow.keras.callbacks import TensorBoard\n",
        "from tensorflow.keras.applications import VGG19\n",
        "\n",
        "np.set_printoptions(suppress=True, precision=6)"
      ]
    },
    {
      "cell_type": "code",
      "source": [
        "# Załadowanie danych\n",
        "!wget https://storage.googleapis.com/esmartdata-courses-files/ann-course/flying-vehicles.zip\n",
        "!unzip -q flying-vehicles.zip"
      ],
      "metadata": {
        "id": "oJFQUtgu4S2l"
      },
      "execution_count": null,
      "outputs": []
    },
    {
      "cell_type": "code",
      "source": [
        "# Przygotowanie zbiorów: treningowego, walidacyjnego i testowego\n",
        "!rm -rf ./images"
      ],
      "metadata": {
        "id": "CeKtpkiu4f0z"
      },
      "execution_count": null,
      "outputs": []
    },
    {
      "cell_type": "code",
      "source": [
        "base_dir = './data/planes'\n",
        "raw_no_of_files = {}\n",
        "classes = ['drone', 'fighter-jet', 'helicopter', 'missile', 'passenger-plane', 'rocket']\n",
        "for dir in classes:\n",
        "    raw_no_of_files[dir] = len(os.listdir(os.path.join(base_dir, dir)))\n",
        "\n",
        "raw_no_of_files.items()\n",
        ""
      ],
      "metadata": {
        "id": "7NkcjsJ84pGr"
      },
      "execution_count": null,
      "outputs": []
    },
    {
      "cell_type": "code",
      "source": [
        "data_dir = './images'\n",
        "\n",
        "if not os.path.exists(data_dir):\n",
        "    os.mkdir(data_dir)\n",
        "\n",
        "train_dir = os.path.join(data_dir, 'train')    # katalog zbioru treningowego\n",
        "valid_dir = os.path.join(data_dir, 'valid')    # katalog zbioru walidacyjnego\n",
        "test_dir = os.path.join(data_dir, 'test')      # katalog zbioru testowego\n",
        "\n",
        "train_drone_dir = os.path.join(train_dir, 'drone')\n",
        "train_passenger_dir = os.path.join(train_dir, 'passenger')\n",
        "train_helicopter_dir = os.path.join(train_dir, 'helicopter')\n",
        "\n",
        "valid_drone_dir = os.path.join(valid_dir, 'drone')\n",
        "valid_passenger_dir = os.path.join(valid_dir, 'passenger')\n",
        "valid_helicopter_dir = os.path.join(valid_dir, 'helicopter')\n",
        "\n",
        "test_drone_dir = os.path.join(test_dir, 'drone')\n",
        "test_passenger_dir = os.path.join(test_dir, 'passenger')\n",
        "test_helicopter_dir = os.path.join(test_dir, 'helicopter')\n",
        "\n",
        "for directory in (train_dir, valid_dir, test_dir):\n",
        "    if not os.path.exists(directory):\n",
        "        os.mkdir(directory)\n",
        "\n",
        "dirs = [train_drone_dir, train_passenger_dir, train_helicopter_dir,\n",
        "        valid_drone_dir, valid_passenger_dir, valid_helicopter_dir,\n",
        "        test_drone_dir, test_passenger_dir, test_helicopter_dir]\n",
        "\n",
        "for dir in dirs:\n",
        "    if not os.path.exists(dir):\n",
        "        os.mkdir(dir)\n",
        ""
      ],
      "metadata": {
        "id": "_mxPAgIRA6fG"
      },
      "execution_count": null,
      "outputs": []
    },
    {
      "cell_type": "code",
      "source": [
        "drone_fnames = os.listdir(os.path.join(base_dir, 'drone'))\n",
        "passenger_fnames = os.listdir(os.path.join(base_dir, 'passenger-plane'))\n",
        "helicopter_fnames = os.listdir(os.path.join(base_dir, 'helicopter'))\n",
        "\n",
        "drone_fnames = [fname for fname in drone_fnames if fname.split('.')[1].lower() in ['jpg', 'png', 'jpeg']]\n",
        "passenger_fnames = [fname for fname in passenger_fnames if fname.split('.')[1].lower() in ['jpg', 'png', 'jpeg']]\n",
        "helicopter_fnames = [fname for fname in helicopter_fnames if fname.split('.')[1].lower() in ['jpg', 'png', 'jpeg']]\n",
        ""
      ],
      "metadata": {
        "id": "wweV3vi_BFP1"
      },
      "execution_count": null,
      "outputs": []
    },
    {
      "cell_type": "code",
      "source": [
        "size = min(len(drone_fnames), len(passenger_fnames), len(helicopter_fnames))\n",
        "\n",
        "train_size = int(np.floor(0.7 * size))\n",
        "valid_size = int(np.floor(0.2 * size))\n",
        "test_size = size - train_size - valid_size\n",
        "\n",
        "train_idx = train_size\n",
        "valid_idx = train_size + valid_size\n",
        "test_idx = train_size + valid_size + test_size"
      ],
      "metadata": {
        "id": "2I-Vmi-DBHc_"
      },
      "execution_count": null,
      "outputs": []
    },
    {
      "cell_type": "code",
      "source": [
        "for i, fname in enumerate(drone_fnames):\n",
        "    if i <= train_idx:\n",
        "        src = os.path.join(base_dir, 'drone', fname)\n",
        "        dst = os.path.join(train_drone_dir, fname)\n",
        "        shutil.copyfile(src, dst)\n",
        "    elif train_idx < i <= valid_idx:\n",
        "        src = os.path.join(base_dir, 'drone', fname)\n",
        "        dst = os.path.join(valid_drone_dir, fname)\n",
        "        shutil.copyfile(src, dst)\n",
        "    elif valid_idx < i < test_idx:\n",
        "        src = os.path.join(base_dir, 'drone', fname)\n",
        "        dst = os.path.join(test_drone_dir, fname)\n",
        "        shutil.copyfile(src, dst)\n",
        "\n",
        "for i, fname in enumerate(passenger_fnames):\n",
        "    if i <= train_idx:\n",
        "        src = os.path.join(base_dir, 'passenger-plane', fname)\n",
        "        dst = os.path.join(train_passenger_dir, fname)\n",
        "        shutil.copyfile(src, dst)\n",
        "    elif train_idx < i <= valid_idx:\n",
        "        src = os.path.join(base_dir, 'passenger-plane', fname)\n",
        "        dst = os.path.join(valid_passenger_dir, fname)\n",
        "        shutil.copyfile(src, dst)\n",
        "    elif valid_idx < i < test_idx:\n",
        "        src = os.path.join(base_dir, 'passenger-plane', fname)\n",
        "        dst = os.path.join(test_passenger_dir, fname)\n",
        "        shutil.copyfile(src, dst)\n",
        "\n",
        "for i, fname in enumerate(helicopter_fnames):\n",
        "    if i <= train_idx:\n",
        "        src = os.path.join(base_dir, 'helicopter', fname)\n",
        "        dst = os.path.join(train_helicopter_dir, fname)\n",
        "        shutil.copyfile(src, dst)\n",
        "    elif train_idx < i <= valid_idx:\n",
        "        src = os.path.join(base_dir, 'helicopter', fname)\n",
        "        dst = os.path.join(valid_helicopter_dir, fname)\n",
        "        shutil.copyfile(src, dst)\n",
        "    elif valid_idx < i < test_idx:\n",
        "        src = os.path.join(base_dir, 'helicopter', fname)\n",
        "        dst = os.path.join(test_helicopter_dir, fname)\n",
        "        shutil.copyfile(src, dst)\n",
        "\n",
        "print('drone - zbiór treningowy', len(os.listdir(train_drone_dir)))\n",
        "print('drone - zbiór walidacyjny', len(os.listdir(valid_drone_dir)))\n",
        "print('drone - zbiór testowy', len(os.listdir(test_drone_dir)))\n",
        "\n",
        "print('passenger - zbiór treningowy', len(os.listdir(train_passenger_dir)))\n",
        "print('passenger - zbiór walidacyjny', len(os.listdir(valid_passenger_dir)))\n",
        "print('passenger - zbiór testowy', len(os.listdir(test_passenger_dir)))\n",
        "\n",
        "print('helicopter - zbiór treningowy', len(os.listdir(train_helicopter_dir)))\n",
        "print('helicopter - zbiór walidacyjny', len(os.listdir(valid_helicopter_dir)))\n",
        "print('helicopter - zbiór testowy', len(os.listdir(test_helicopter_dir)))"
      ],
      "metadata": {
        "id": "6rBdbVrroE7H"
      },
      "execution_count": null,
      "outputs": []
    }
  ]
}