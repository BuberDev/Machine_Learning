{
  "nbformat": 4,
  "nbformat_minor": 0,
  "metadata": {
    "colab": {
      "provenance": [],
      "gpuType": "T4",
      "authorship_tag": "ABX9TyO5S9gzmItNtg9wvdFAivou",
      "include_colab_link": true
    },
    "kernelspec": {
      "name": "python3",
      "display_name": "Python 3"
    },
    "language_info": {
      "name": "python"
    },
    "accelerator": "GPU"
  },
  "cells": [
    {
      "cell_type": "markdown",
      "metadata": {
        "id": "view-in-github",
        "colab_type": "text"
      },
      "source": [
        "<a href=\"https://colab.research.google.com/github/BuberDev/Machine_Learning/blob/main/Klasyfikator_wieloklasowy_Digit_Recognition.ipynb\" target=\"_parent\"><img src=\"https://colab.research.google.com/assets/colab-badge.svg\" alt=\"Open In Colab\"/></a>"
      ]
    },
    {
      "cell_type": "code",
      "execution_count": 1,
      "metadata": {
        "id": "KF4oRxzjxe61"
      },
      "outputs": [],
      "source": [
        "import numpy as np\n",
        "import pandas as pd\n",
        "import matplotlib.pyplot as plt\n",
        "\n",
        "import tensorflow as tf\n",
        "from tensorflow.keras.datasets import mnist\n",
        "from tensorflow.keras.models import Sequential\n",
        "from tensorflow.keras.layers import Dense, Flatten, Dropout\n",
        "\n",
        "import plotly.express as px\n",
        "import plotly.subplots as make_subplots\n",
        "import plotly.graph_objects as go\n",
        "\n"
      ]
    },
    {
      "cell_type": "code",
      "source": [
        "np.set_printoptions(precision=12, suppress=True, linewidth=120)\n"
      ],
      "metadata": {
        "id": "J_nifjhuyiVh"
      },
      "execution_count": 2,
      "outputs": []
    },
    {
      "cell_type": "code",
      "source": [
        "print(tf.__version__)"
      ],
      "metadata": {
        "colab": {
          "base_uri": "https://localhost:8080/"
        },
        "id": "LzuEXBkEy40a",
        "outputId": "ffd3952a-41cc-407a-8f78-17832eb3b340"
      },
      "execution_count": 3,
      "outputs": [
        {
          "output_type": "stream",
          "name": "stdout",
          "text": [
            "2.12.0\n"
          ]
        }
      ]
    },
    {
      "cell_type": "code",
      "source": [
        "(X_train, y_train), (X_test, y_test) = mnist.load_data()\n",
        "print(f'X_train shape:', X_train.shape)\n",
        "print(f'y_train shape:',y_train.shape)\n",
        "print(f'X_test shape:', X_test.shape)\n",
        "print(f'y_test shape', y_test.shape)"
      ],
      "metadata": {
        "colab": {
          "base_uri": "https://localhost:8080/"
        },
        "id": "Fm1VtTdwy9Be",
        "outputId": "83ddfc50-706d-4e94-8800-9fc3a2c6f1ec"
      },
      "execution_count": 4,
      "outputs": [
        {
          "output_type": "stream",
          "name": "stdout",
          "text": [
            "Downloading data from https://storage.googleapis.com/tensorflow/tf-keras-datasets/mnist.npz\n",
            "11490434/11490434 [==============================] - 0s 0us/step\n",
            "X_train shape: (60000, 28, 28)\n",
            "y_train shape: (60000,)\n",
            "X_test shape: (10000, 28, 28)\n",
            "y_test shape (10000,)\n"
          ]
        }
      ]
    },
    {
      "cell_type": "code",
      "source": [
        "print(X_train[0])"
      ],
      "metadata": {
        "colab": {
          "base_uri": "https://localhost:8080/"
        },
        "id": "h4eLDtltzwC6",
        "outputId": "9185477d-a7c6-42c5-d532-c53d31cbf4f0"
      },
      "execution_count": 5,
      "outputs": [
        {
          "output_type": "stream",
          "name": "stdout",
          "text": [
            "[[  0   0   0   0   0   0   0   0   0   0   0   0   0   0   0   0   0   0   0   0   0   0   0   0   0   0   0   0]\n",
            " [  0   0   0   0   0   0   0   0   0   0   0   0   0   0   0   0   0   0   0   0   0   0   0   0   0   0   0   0]\n",
            " [  0   0   0   0   0   0   0   0   0   0   0   0   0   0   0   0   0   0   0   0   0   0   0   0   0   0   0   0]\n",
            " [  0   0   0   0   0   0   0   0   0   0   0   0   0   0   0   0   0   0   0   0   0   0   0   0   0   0   0   0]\n",
            " [  0   0   0   0   0   0   0   0   0   0   0   0   0   0   0   0   0   0   0   0   0   0   0   0   0   0   0   0]\n",
            " [  0   0   0   0   0   0   0   0   0   0   0   0   3  18  18  18 126 136 175  26 166 255 247 127   0   0   0   0]\n",
            " [  0   0   0   0   0   0   0   0  30  36  94 154 170 253 253 253 253 253 225 172 253 242 195  64   0   0   0   0]\n",
            " [  0   0   0   0   0   0   0  49 238 253 253 253 253 253 253 253 253 251  93  82  82  56  39   0   0   0   0   0]\n",
            " [  0   0   0   0   0   0   0  18 219 253 253 253 253 253 198 182 247 241   0   0   0   0   0   0   0   0   0   0]\n",
            " [  0   0   0   0   0   0   0   0  80 156 107 253 253 205  11   0  43 154   0   0   0   0   0   0   0   0   0   0]\n",
            " [  0   0   0   0   0   0   0   0   0  14   1 154 253  90   0   0   0   0   0   0   0   0   0   0   0   0   0   0]\n",
            " [  0   0   0   0   0   0   0   0   0   0   0 139 253 190   2   0   0   0   0   0   0   0   0   0   0   0   0   0]\n",
            " [  0   0   0   0   0   0   0   0   0   0   0  11 190 253  70   0   0   0   0   0   0   0   0   0   0   0   0   0]\n",
            " [  0   0   0   0   0   0   0   0   0   0   0   0  35 241 225 160 108   1   0   0   0   0   0   0   0   0   0   0]\n",
            " [  0   0   0   0   0   0   0   0   0   0   0   0   0  81 240 253 253 119  25   0   0   0   0   0   0   0   0   0]\n",
            " [  0   0   0   0   0   0   0   0   0   0   0   0   0   0  45 186 253 253 150  27   0   0   0   0   0   0   0   0]\n",
            " [  0   0   0   0   0   0   0   0   0   0   0   0   0   0   0  16  93 252 253 187   0   0   0   0   0   0   0   0]\n",
            " [  0   0   0   0   0   0   0   0   0   0   0   0   0   0   0   0   0 249 253 249  64   0   0   0   0   0   0   0]\n",
            " [  0   0   0   0   0   0   0   0   0   0   0   0   0   0  46 130 183 253 253 207   2   0   0   0   0   0   0   0]\n",
            " [  0   0   0   0   0   0   0   0   0   0   0   0  39 148 229 253 253 253 250 182   0   0   0   0   0   0   0   0]\n",
            " [  0   0   0   0   0   0   0   0   0   0  24 114 221 253 253 253 253 201  78   0   0   0   0   0   0   0   0   0]\n",
            " [  0   0   0   0   0   0   0   0  23  66 213 253 253 253 253 198  81   2   0   0   0   0   0   0   0   0   0   0]\n",
            " [  0   0   0   0   0   0  18 171 219 253 253 253 253 195  80   9   0   0   0   0   0   0   0   0   0   0   0   0]\n",
            " [  0   0   0   0  55 172 226 253 253 253 253 244 133  11   0   0   0   0   0   0   0   0   0   0   0   0   0   0]\n",
            " [  0   0   0   0 136 253 253 253 212 135 132  16   0   0   0   0   0   0   0   0   0   0   0   0   0   0   0   0]\n",
            " [  0   0   0   0   0   0   0   0   0   0   0   0   0   0   0   0   0   0   0   0   0   0   0   0   0   0   0   0]\n",
            " [  0   0   0   0   0   0   0   0   0   0   0   0   0   0   0   0   0   0   0   0   0   0   0   0   0   0   0   0]\n",
            " [  0   0   0   0   0   0   0   0   0   0   0   0   0   0   0   0   0   0   0   0   0   0   0   0   0   0   0   0]]\n"
          ]
        }
      ]
    },
    {
      "cell_type": "code",
      "source": [
        "print(f'X_train[0] shape: {X_train[0].shape}')"
      ],
      "metadata": {
        "colab": {
          "base_uri": "https://localhost:8080/"
        },
        "id": "6EJSKGZ10GcF",
        "outputId": "d07cca42-b5dd-4ed2-b89b-1847b6ddbc46"
      },
      "execution_count": 6,
      "outputs": [
        {
          "output_type": "stream",
          "name": "stdout",
          "text": [
            "X_train[0] shape: (28, 28)\n"
          ]
        }
      ]
    },
    {
      "cell_type": "code",
      "source": [],
      "metadata": {
        "id": "dsjopTL_0nRm"
      },
      "execution_count": 6,
      "outputs": []
    },
    {
      "cell_type": "code",
      "source": [
        "X_train = X_train / 255\n",
        "X_test = X_test / 255"
      ],
      "metadata": {
        "id": "I0BtsGun0T_7"
      },
      "execution_count": 7,
      "outputs": []
    },
    {
      "cell_type": "code",
      "source": [
        "plt.imshow(X_train[0], cmap=\"gray_r\")"
      ],
      "metadata": {
        "colab": {
          "base_uri": "https://localhost:8080/",
          "height": 448
        },
        "id": "QHW6ZMSR0d2w",
        "outputId": "ad38fd92-1f6a-4e5a-c523-fe4464a6c217"
      },
      "execution_count": 8,
      "outputs": [
        {
          "output_type": "execute_result",
          "data": {
            "text/plain": [
              "<matplotlib.image.AxesImage at 0x7fd04c714b80>"
            ]
          },
          "metadata": {},
          "execution_count": 8
        },
        {
          "output_type": "display_data",
          "data": {
            "text/plain": [
              "<Figure size 640x480 with 1 Axes>"
            ],
            "image/png": "[encoded data removed]"
          },
          "metadata": {}
        }
      ]
    },
    {
      "cell_type": "code",
      "source": [
        "plt.imshow(X_train[2], cmap=\"gray\")\n",
        "plt.axis(\"off\")"
      ],
      "metadata": {
        "colab": {
          "base_uri": "https://localhost:8080/",
          "height": 424
        },
        "id": "K8xTrUZg03L7",
        "outputId": "4f2d6b41-6800-4fc3-8a9d-80324d3e0169"
      },
      "execution_count": 9,
      "outputs": [
        {
          "output_type": "execute_result",
          "data": {
            "text/plain": [
              "(-0.5, 27.5, 27.5, -0.5)"
            ]
          },
          "metadata": {},
          "execution_count": 9
        },
        {
          "output_type": "display_data",
          "data": {
            "text/plain": [
              "<Figure size 640x480 with 1 Axes>"
            ],
            "image/png": "[encoded data removed]"
          },
          "metadata": {}
        }
      ]
    },
    {
      "cell_type": "code",
      "source": [
        "plt.figure(figsize=(13,13))\n",
        "for i in range(1,11):\n",
        "  plt.subplot(1,10,i)\n",
        "  plt.axis(\"off\")\n",
        "  plt.imshow(X_train[i-1], cmap=\"gray\")\n",
        "  plt.title(y_train[i-1], color=\"white\", fontsize=16)\n",
        "plt.show()"
      ],
      "metadata": {
        "colab": {
          "base_uri": "https://localhost:8080/",
          "height": 146
        },
        "id": "Wyb6oecs1a7C",
        "outputId": "2c62aa1e-44f3-4afd-e320-55a4a5fa21ae"
      },
      "execution_count": 10,
      "outputs": [
        {
          "output_type": "display_data",
          "data": {
            "text/plain": [
              "<Figure size 1300x1300 with 10 Axes>"
            ],
            "image/png": "[encoded data removed]"
          },
          "metadata": {}
        }
      ]
    },
    {
      "cell_type": "code",
      "source": [
        "#Budowa sieci neuronowej\n",
        "def build_model():\n",
        "  model = Sequential()\n",
        "  model.add(Flatten(input_shape=(28,28)))\n",
        "  model.add(Dense(units=128, activation=\"relu\"))\n",
        "  model.add(Dropout(0.2))\n",
        "  model.add(Dense(units=10, activation=\"softmax\"))\n",
        "\n",
        "  model.compile(optimizer=\"adam\",\n",
        "                loss=\"sparse_categorical_crossentropy\",\n",
        "                metrics=[\"accuracy\"])\n",
        "\n",
        "  return model\n",
        "\n",
        "model = build_model()\n",
        "model.summary()\n"
      ],
      "metadata": {
        "colab": {
          "base_uri": "https://localhost:8080/"
        },
        "id": "-4WP3VB92lZg",
        "outputId": "58f926e1-e25f-45b5-8672-6932ffde12d2"
      },
      "execution_count": 11,
      "outputs": [
        {
          "output_type": "stream",
          "name": "stdout",
          "text": [
            "Model: \"sequential\"\n",
            "_________________________________________________________________\n",
            " Layer (type)                Output Shape              Param #   \n",
            "=================================================================\n",
            " flatten (Flatten)           (None, 784)               0         \n",
            "                                                                 \n",
            " dense (Dense)               (None, 128)               100480    \n",
            "                                                                 \n",
            " dropout (Dropout)           (None, 128)               0         \n",
            "                                                                 \n",
            " dense_1 (Dense)             (None, 10)                1290      \n",
            "                                                                 \n",
            "=================================================================\n",
            "Total params: 101,770\n",
            "Trainable params: 101,770\n",
            "Non-trainable params: 0\n",
            "_________________________________________________________________\n"
          ]
        }
      ]
    },
    {
      "cell_type": "code",
      "source": [],
      "metadata": {
        "id": "bKR3PMQr4Tw-"
      },
      "execution_count": 11,
      "outputs": []
    },
    {
      "cell_type": "code",
      "source": [
        "# Trenowanie modelu\n",
        "\n",
        "model.fit(X_train, y_train, epochs=10, validation_split=0.2, batch_size=32)"
      ],
      "metadata": {
        "colab": {
          "base_uri": "https://localhost:8080/"
        },
        "id": "LIRPGArk37h9",
        "outputId": "e767ad02-83ee-44d4-97e3-8eb08e0e6161"
      },
      "execution_count": 12,
      "outputs": [
        {
          "output_type": "stream",
          "name": "stdout",
          "text": [
            "Epoch 1/10\n",
            "1500/1500 [==============================] - 10s 3ms/step - loss: 0.3267 - accuracy: 0.9059 - val_loss: 0.1623 - val_accuracy: 0.9542\n",
            "Epoch 2/10\n",
            "1500/1500 [==============================] - 5s 4ms/step - loss: 0.1549 - accuracy: 0.9530 - val_loss: 0.1204 - val_accuracy: 0.9638\n",
            "Epoch 3/10\n",
            "1500/1500 [==============================] - 5s 3ms/step - loss: 0.1160 - accuracy: 0.9646 - val_loss: 0.0974 - val_accuracy: 0.9723\n",
            "Epoch 4/10\n",
            "1500/1500 [==============================] - 5s 3ms/step - loss: 0.0950 - accuracy: 0.9708 - val_loss: 0.0924 - val_accuracy: 0.9728\n",
            "Epoch 5/10\n",
            "1500/1500 [==============================] - 5s 3ms/step - loss: 0.0798 - accuracy: 0.9758 - val_loss: 0.0855 - val_accuracy: 0.9744\n",
            "Epoch 6/10\n",
            "1500/1500 [==============================] - 4s 3ms/step - loss: 0.0701 - accuracy: 0.9781 - val_loss: 0.0836 - val_accuracy: 0.9759\n",
            "Epoch 7/10\n",
            "1500/1500 [==============================] - 5s 3ms/step - loss: 0.0609 - accuracy: 0.9804 - val_loss: 0.0790 - val_accuracy: 0.9776\n",
            "Epoch 8/10\n",
            "1500/1500 [==============================] - 5s 3ms/step - loss: 0.0544 - accuracy: 0.9824 - val_loss: 0.0825 - val_accuracy: 0.9772\n",
            "Epoch 9/10\n",
            "1500/1500 [==============================] - 4s 3ms/step - loss: 0.0503 - accuracy: 0.9834 - val_loss: 0.0822 - val_accuracy: 0.9775\n",
            "Epoch 10/10\n",
            "1500/1500 [==============================] - 5s 3ms/step - loss: 0.0449 - accuracy: 0.9855 - val_loss: 0.0820 - val_accuracy: 0.9772\n"
          ]
        },
        {
          "output_type": "execute_result",
          "data": {
            "text/plain": [
              "<keras.callbacks.History at 0x7fd04915e170>"
            ]
          },
          "metadata": {},
          "execution_count": 12
        }
      ]
    },
    {
      "cell_type": "markdown",
      "source": [
        "# Model Checkpoint"
      ],
      "metadata": {
        "id": "8NLVO8fZ5js5"
      }
    },
    {
      "cell_type": "code",
      "source": [
        "!ls\n",
        "!ls -l"
      ],
      "metadata": {
        "colab": {
          "base_uri": "https://localhost:8080/"
        },
        "id": "zdShUNGD4hLr",
        "outputId": "e9297ea0-f7ed-4c62-c5f1-feb440a52003"
      },
      "execution_count": 13,
      "outputs": [
        {
          "output_type": "stream",
          "name": "stdout",
          "text": [
            "sample_data\n",
            "total 4\n",
            "drwxr-xr-x 1 root root 4096 Jun 14 18:27 sample_data\n"
          ]
        }
      ]
    },
    {
      "cell_type": "code",
      "source": [
        "!pwd"
      ],
      "metadata": {
        "colab": {
          "base_uri": "https://localhost:8080/"
        },
        "id": "fYDXIGTX5tB2",
        "outputId": "cb0dff11-73bb-49d6-eb96-4e31fcfdd095"
      },
      "execution_count": 14,
      "outputs": [
        {
          "output_type": "stream",
          "name": "stdout",
          "text": [
            "/content\n"
          ]
        }
      ]
    },
    {
      "cell_type": "code",
      "source": [
        "!mkdir model"
      ],
      "metadata": {
        "id": "akv5K1jG5wkU"
      },
      "execution_count": 15,
      "outputs": []
    },
    {
      "cell_type": "code",
      "source": [
        "# Zapisywanie wag po kazdej poprawie modelu\n",
        "from tensorflow.keras.callbacks import ModelCheckpoint\n",
        "\n",
        "filepath = 'model/weights-{epoch:02d}-{val_accuracy:.4f}.hdf5'\n",
        "\n",
        "checkpoint = ModelCheckpoint(filepath=filepath, monitor=\"val_accuracy\", verbose=1, save_best_only=True, mode=\"max\")"
      ],
      "metadata": {
        "id": "z2Fb_F7r5zB3"
      },
      "execution_count": 18,
      "outputs": []
    },
    {
      "cell_type": "code",
      "source": [
        "model = build_model()\n",
        "history = model.fit(X_train, y_train, epochs=10, validation_split=0.2, batch_size=32, callbacks=[checkpoint])"
      ],
      "metadata": {
        "colab": {
          "base_uri": "https://localhost:8080/"
        },
        "id": "0w5ahEHF6kNh",
        "outputId": "449b925a-b5ac-42dd-cbc0-45fbf608f545"
      },
      "execution_count": 17,
      "outputs": [
        {
          "output_type": "stream",
          "name": "stdout",
          "text": [
            "Epoch 1/10\n",
            "1486/1500 [============================>.] - ETA: 0s - loss: 0.3281 - accuracy: 0.9045\n",
            "Epoch 1: val_accuracy improved from -inf to 0.95542, saving model to model/weights-01-0.9554.hdf5\n",
            "1500/1500 [==============================] - 6s 4ms/step - loss: 0.3274 - accuracy: 0.9047 - val_loss: 0.1559 - val_accuracy: 0.9554\n",
            "Epoch 2/10\n",
            "1493/1500 [============================>.] - ETA: 0s - loss: 0.1569 - accuracy: 0.9543\n",
            "Epoch 2: val_accuracy improved from 0.95542 to 0.96492, saving model to model/weights-02-0.9649.hdf5\n",
            "1500/1500 [==============================] - 5s 3ms/step - loss: 0.1570 - accuracy: 0.9542 - val_loss: 0.1152 - val_accuracy: 0.9649\n",
            "Epoch 3/10\n",
            "1483/1500 [============================>.] - ETA: 0s - loss: 0.1193 - accuracy: 0.9638\n",
            "Epoch 3: val_accuracy improved from 0.96492 to 0.97050, saving model to model/weights-03-0.9705.hdf5\n",
            "1500/1500 [==============================] - 5s 3ms/step - loss: 0.1194 - accuracy: 0.9637 - val_loss: 0.0985 - val_accuracy: 0.9705\n",
            "Epoch 4/10\n",
            "1485/1500 [============================>.] - ETA: 0s - loss: 0.0954 - accuracy: 0.9703\n",
            "Epoch 4: val_accuracy improved from 0.97050 to 0.97408, saving model to model/weights-04-0.9741.hdf5\n",
            "1500/1500 [==============================] - 5s 3ms/step - loss: 0.0953 - accuracy: 0.9702 - val_loss: 0.0886 - val_accuracy: 0.9741\n",
            "Epoch 5/10\n",
            "1486/1500 [============================>.] - ETA: 0s - loss: 0.0791 - accuracy: 0.9758\n",
            "Epoch 5: val_accuracy improved from 0.97408 to 0.97500, saving model to model/weights-05-0.9750.hdf5\n",
            "1500/1500 [==============================] - 4s 3ms/step - loss: 0.0790 - accuracy: 0.9758 - val_loss: 0.0844 - val_accuracy: 0.9750\n",
            "Epoch 6/10\n",
            "1497/1500 [============================>.] - ETA: 0s - loss: 0.0701 - accuracy: 0.9785\n",
            "Epoch 6: val_accuracy did not improve from 0.97500\n",
            "1500/1500 [==============================] - 5s 3ms/step - loss: 0.0702 - accuracy: 0.9785 - val_loss: 0.0901 - val_accuracy: 0.9746\n",
            "Epoch 7/10\n",
            "1488/1500 [============================>.] - ETA: 0s - loss: 0.0636 - accuracy: 0.9795\n",
            "Epoch 7: val_accuracy improved from 0.97500 to 0.97617, saving model to model/weights-07-0.9762.hdf5\n",
            "1500/1500 [==============================] - 5s 4ms/step - loss: 0.0637 - accuracy: 0.9794 - val_loss: 0.0788 - val_accuracy: 0.9762\n",
            "Epoch 8/10\n",
            "1496/1500 [============================>.] - ETA: 0s - loss: 0.0559 - accuracy: 0.9821\n",
            "Epoch 8: val_accuracy did not improve from 0.97617\n",
            "1500/1500 [==============================] - 5s 3ms/step - loss: 0.0561 - accuracy: 0.9820 - val_loss: 0.0838 - val_accuracy: 0.9748\n",
            "Epoch 9/10\n",
            "1483/1500 [============================>.] - ETA: 0s - loss: 0.0495 - accuracy: 0.9834\n",
            "Epoch 9: val_accuracy did not improve from 0.97617\n",
            "1500/1500 [==============================] - 5s 3ms/step - loss: 0.0497 - accuracy: 0.9833 - val_loss: 0.0845 - val_accuracy: 0.9758\n",
            "Epoch 10/10\n",
            "1493/1500 [============================>.] - ETA: 0s - loss: 0.0480 - accuracy: 0.9843\n",
            "Epoch 10: val_accuracy did not improve from 0.97617\n",
            "1500/1500 [==============================] - 4s 3ms/step - loss: 0.0479 - accuracy: 0.9844 - val_loss: 0.0823 - val_accuracy: 0.9758\n"
          ]
        }
      ]
    },
    {
      "cell_type": "code",
      "source": [
        "# Zapisanie najlepszego modelu\n",
        "\n",
        "filepath = \"best_model_weights.hdf5\"\n",
        "checkpoint= ModelCheckpoint(filepath=filepath, monitor=\"val_accuracy\", verbose=1, save_best_only=True, mode=\"max\")\n",
        "model = build_model()\n",
        "history = model.fit(X_train, y_train, epochs=10, validation_split=0.2, batch_size=32, callbacks=[checkpoint])"
      ],
      "metadata": {
        "colab": {
          "base_uri": "https://localhost:8080/"
        },
        "id": "Lu2yF-Hu_mSa",
        "outputId": "18438d8e-f38a-404d-9eb9-20fc1313e2d8"
      },
      "execution_count": 20,
      "outputs": [
        {
          "output_type": "stream",
          "name": "stdout",
          "text": [
            "Epoch 1/10\n",
            "1488/1500 [============================>.] - ETA: 0s - loss: 0.3299 - accuracy: 0.9040\n",
            "Epoch 1: val_accuracy improved from -inf to 0.95500, saving model to best_model_weights.hdf5\n",
            "1500/1500 [==============================] - 6s 3ms/step - loss: 0.3287 - accuracy: 0.9044 - val_loss: 0.1572 - val_accuracy: 0.9550\n",
            "Epoch 2/10\n",
            "1499/1500 [============================>.] - ETA: 0s - loss: 0.1605 - accuracy: 0.9520\n",
            "Epoch 2: val_accuracy improved from 0.95500 to 0.96258, saving model to best_model_weights.hdf5\n",
            "1500/1500 [==============================] - 5s 3ms/step - loss: 0.1605 - accuracy: 0.9520 - val_loss: 0.1228 - val_accuracy: 0.9626\n",
            "Epoch 3/10\n",
            "1483/1500 [============================>.] - ETA: 0s - loss: 0.1203 - accuracy: 0.9633\n",
            "Epoch 3: val_accuracy improved from 0.96258 to 0.97058, saving model to best_model_weights.hdf5\n",
            "1500/1500 [==============================] - 5s 3ms/step - loss: 0.1203 - accuracy: 0.9632 - val_loss: 0.0998 - val_accuracy: 0.9706\n",
            "Epoch 4/10\n",
            "1489/1500 [============================>.] - ETA: 0s - loss: 0.0966 - accuracy: 0.9709\n",
            "Epoch 4: val_accuracy improved from 0.97058 to 0.97408, saving model to best_model_weights.hdf5\n",
            "1500/1500 [==============================] - 5s 3ms/step - loss: 0.0965 - accuracy: 0.9708 - val_loss: 0.0896 - val_accuracy: 0.9741\n",
            "Epoch 5/10\n",
            "1489/1500 [============================>.] - ETA: 0s - loss: 0.0804 - accuracy: 0.9753\n",
            "Epoch 5: val_accuracy improved from 0.97408 to 0.97475, saving model to best_model_weights.hdf5\n",
            "1500/1500 [==============================] - 5s 4ms/step - loss: 0.0804 - accuracy: 0.9753 - val_loss: 0.0810 - val_accuracy: 0.9747\n",
            "Epoch 6/10\n",
            "1481/1500 [============================>.] - ETA: 0s - loss: 0.0701 - accuracy: 0.9784\n",
            "Epoch 6: val_accuracy improved from 0.97475 to 0.97683, saving model to best_model_weights.hdf5\n",
            "1500/1500 [==============================] - 5s 4ms/step - loss: 0.0699 - accuracy: 0.9784 - val_loss: 0.0817 - val_accuracy: 0.9768\n",
            "Epoch 7/10\n",
            "1499/1500 [============================>.] - ETA: 0s - loss: 0.0616 - accuracy: 0.9802\n",
            "Epoch 7: val_accuracy did not improve from 0.97683\n",
            "1500/1500 [==============================] - 5s 3ms/step - loss: 0.0616 - accuracy: 0.9802 - val_loss: 0.0785 - val_accuracy: 0.9764\n",
            "Epoch 8/10\n",
            "1486/1500 [============================>.] - ETA: 0s - loss: 0.0566 - accuracy: 0.9819\n",
            "Epoch 8: val_accuracy improved from 0.97683 to 0.97708, saving model to best_model_weights.hdf5\n",
            "1500/1500 [==============================] - 5s 3ms/step - loss: 0.0564 - accuracy: 0.9819 - val_loss: 0.0823 - val_accuracy: 0.9771\n",
            "Epoch 9/10\n",
            "1486/1500 [============================>.] - ETA: 0s - loss: 0.0514 - accuracy: 0.9836\n",
            "Epoch 9: val_accuracy did not improve from 0.97708\n",
            "1500/1500 [==============================] - 5s 3ms/step - loss: 0.0516 - accuracy: 0.9835 - val_loss: 0.0822 - val_accuracy: 0.9769\n",
            "Epoch 10/10\n",
            "1492/1500 [============================>.] - ETA: 0s - loss: 0.0471 - accuracy: 0.9842\n",
            "Epoch 10: val_accuracy improved from 0.97708 to 0.97717, saving model to best_model_weights.hdf5\n",
            "1500/1500 [==============================] - 5s 4ms/step - loss: 0.0471 - accuracy: 0.9843 - val_loss: 0.0788 - val_accuracy: 0.9772\n"
          ]
        }
      ]
    },
    {
      "cell_type": "code",
      "source": [
        "# Zaladowanie wag i ocena modelu\n",
        "best_model = Sequential()\n",
        "best_model.add(Flatten(input_shape=(28,28)))\n",
        "best_model.add(Dense(units=128, activation=\"relu\"))\n",
        "best_model.add(Dropout(0.2))\n",
        "best_model.add(Dense(units=10, activation=\"softmax\"))\n",
        "\n",
        "\n",
        "best_model.compile(optimizer=\"adam\",\n",
        "                   loss=\"sparse_categorical_crossentropy\",\n",
        "                   metrics=[\"accuracy\"])\n",
        "\n",
        "best_model.load_weights(\"best_model_weights.hdf5\")\n",
        "test_loss, test_accuracy = best_model.evaluate(X_test, y_test, verbose=0)\n",
        "print(test_accuracy)"
      ],
      "metadata": {
        "id": "l_sCVIdF7UID",
        "colab": {
          "base_uri": "https://localhost:8080/"
        },
        "outputId": "63f99cf5-09d0-4c1e-8c19-dc0c04e4f42b"
      },
      "execution_count": 25,
      "outputs": [
        {
          "output_type": "stream",
          "name": "stdout",
          "text": [
            "0.9796000123023987\n"
          ]
        }
      ]
    },
    {
      "cell_type": "markdown",
      "source": [
        "# Early stopping"
      ],
      "metadata": {
        "id": "4ijPdXR2CVSo"
      }
    },
    {
      "cell_type": "code",
      "source": [
        "model = build_model()\n",
        "history = model.fit(X_train, y_train, epochs=30, validation_split=0.2, batch_size=32)\n"
      ],
      "metadata": {
        "colab": {
          "base_uri": "https://localhost:8080/"
        },
        "id": "T3vJ_FyxB6py",
        "outputId": "6d20eebe-165f-4636-c6de-edfe42515ba5"
      },
      "execution_count": 26,
      "outputs": [
        {
          "output_type": "stream",
          "name": "stdout",
          "text": [
            "Epoch 1/30\n",
            "1500/1500 [==============================] - 6s 3ms/step - loss: 0.3190 - accuracy: 0.9082 - val_loss: 0.1549 - val_accuracy: 0.9562\n",
            "Epoch 2/30\n",
            "1500/1500 [==============================] - 5s 3ms/step - loss: 0.1580 - accuracy: 0.9531 - val_loss: 0.1149 - val_accuracy: 0.9675\n",
            "Epoch 3/30\n",
            "1500/1500 [==============================] - 5s 3ms/step - loss: 0.1164 - accuracy: 0.9663 - val_loss: 0.1003 - val_accuracy: 0.9703\n",
            "Epoch 4/30\n",
            "1500/1500 [==============================] - 5s 3ms/step - loss: 0.0973 - accuracy: 0.9701 - val_loss: 0.0888 - val_accuracy: 0.9742\n",
            "Epoch 5/30\n",
            "1500/1500 [==============================] - 5s 3ms/step - loss: 0.0796 - accuracy: 0.9757 - val_loss: 0.0822 - val_accuracy: 0.9766\n",
            "Epoch 6/30\n",
            "1500/1500 [==============================] - 5s 3ms/step - loss: 0.0679 - accuracy: 0.9789 - val_loss: 0.0838 - val_accuracy: 0.9758\n",
            "Epoch 7/30\n",
            "1500/1500 [==============================] - 5s 4ms/step - loss: 0.0613 - accuracy: 0.9804 - val_loss: 0.0816 - val_accuracy: 0.9766\n",
            "Epoch 8/30\n",
            "1500/1500 [==============================] - 4s 3ms/step - loss: 0.0546 - accuracy: 0.9823 - val_loss: 0.0821 - val_accuracy: 0.9739\n",
            "Epoch 9/30\n",
            "1500/1500 [==============================] - 5s 3ms/step - loss: 0.0482 - accuracy: 0.9847 - val_loss: 0.0883 - val_accuracy: 0.9750\n",
            "Epoch 10/30\n",
            "1500/1500 [==============================] - 5s 3ms/step - loss: 0.0454 - accuracy: 0.9853 - val_loss: 0.0818 - val_accuracy: 0.9772\n",
            "Epoch 11/30\n",
            "1500/1500 [==============================] - 5s 3ms/step - loss: 0.0412 - accuracy: 0.9860 - val_loss: 0.0855 - val_accuracy: 0.9780\n",
            "Epoch 12/30\n",
            "1500/1500 [==============================] - 5s 3ms/step - loss: 0.0404 - accuracy: 0.9865 - val_loss: 0.0842 - val_accuracy: 0.9777\n",
            "Epoch 13/30\n",
            "1500/1500 [==============================] - 5s 3ms/step - loss: 0.0347 - accuracy: 0.9885 - val_loss: 0.0871 - val_accuracy: 0.9768\n",
            "Epoch 14/30\n",
            "1500/1500 [==============================] - 6s 4ms/step - loss: 0.0343 - accuracy: 0.9885 - val_loss: 0.0856 - val_accuracy: 0.9784\n",
            "Epoch 15/30\n",
            "1500/1500 [==============================] - 5s 4ms/step - loss: 0.0324 - accuracy: 0.9895 - val_loss: 0.0869 - val_accuracy: 0.9789\n",
            "Epoch 16/30\n",
            "1500/1500 [==============================] - 5s 3ms/step - loss: 0.0299 - accuracy: 0.9894 - val_loss: 0.0933 - val_accuracy: 0.9783\n",
            "Epoch 17/30\n",
            "1500/1500 [==============================] - 6s 4ms/step - loss: 0.0281 - accuracy: 0.9902 - val_loss: 0.0887 - val_accuracy: 0.9782\n",
            "Epoch 18/30\n",
            "1500/1500 [==============================] - 5s 3ms/step - loss: 0.0262 - accuracy: 0.9912 - val_loss: 0.0945 - val_accuracy: 0.9772\n",
            "Epoch 19/30\n",
            "1500/1500 [==============================] - 4s 3ms/step - loss: 0.0271 - accuracy: 0.9907 - val_loss: 0.1048 - val_accuracy: 0.9772\n",
            "Epoch 20/30\n",
            "1500/1500 [==============================] - 6s 4ms/step - loss: 0.0264 - accuracy: 0.9911 - val_loss: 0.1070 - val_accuracy: 0.9764\n",
            "Epoch 21/30\n",
            "1500/1500 [==============================] - 4s 3ms/step - loss: 0.0244 - accuracy: 0.9915 - val_loss: 0.1049 - val_accuracy: 0.9767\n",
            "Epoch 22/30\n",
            "1500/1500 [==============================] - 6s 4ms/step - loss: 0.0231 - accuracy: 0.9919 - val_loss: 0.0976 - val_accuracy: 0.9772\n",
            "Epoch 23/30\n",
            "1500/1500 [==============================] - 5s 3ms/step - loss: 0.0207 - accuracy: 0.9926 - val_loss: 0.1103 - val_accuracy: 0.9769\n",
            "Epoch 24/30\n",
            "1500/1500 [==============================] - 4s 3ms/step - loss: 0.0233 - accuracy: 0.9924 - val_loss: 0.1043 - val_accuracy: 0.9791\n",
            "Epoch 25/30\n",
            "1500/1500 [==============================] - 5s 4ms/step - loss: 0.0217 - accuracy: 0.9926 - val_loss: 0.0959 - val_accuracy: 0.9799\n",
            "Epoch 26/30\n",
            "1500/1500 [==============================] - 5s 3ms/step - loss: 0.0195 - accuracy: 0.9935 - val_loss: 0.1168 - val_accuracy: 0.9783\n",
            "Epoch 27/30\n",
            "1500/1500 [==============================] - 6s 4ms/step - loss: 0.0202 - accuracy: 0.9934 - val_loss: 0.1157 - val_accuracy: 0.9784\n",
            "Epoch 28/30\n",
            "1500/1500 [==============================] - 5s 3ms/step - loss: 0.0213 - accuracy: 0.9926 - val_loss: 0.1177 - val_accuracy: 0.9773\n",
            "Epoch 29/30\n",
            "1500/1500 [==============================] - 9s 6ms/step - loss: 0.0191 - accuracy: 0.9933 - val_loss: 0.1024 - val_accuracy: 0.9784\n",
            "Epoch 30/30\n",
            "1500/1500 [==============================] - 8s 5ms/step - loss: 0.0190 - accuracy: 0.9936 - val_loss: 0.1058 - val_accuracy: 0.9783\n"
          ]
        }
      ]
    },
    {
      "cell_type": "code",
      "source": [
        "metrics = pd.DataFrame(history.history)\n",
        "metrics.head()"
      ],
      "metadata": {
        "colab": {
          "base_uri": "https://localhost:8080/",
          "height": 206
        },
        "id": "ZnQ_YQ9fCswQ",
        "outputId": "95e6d13a-e4f9-4926-c495-07750d357900"
      },
      "execution_count": 27,
      "outputs": [
        {
          "output_type": "execute_result",
          "data": {
            "text/plain": [
              "       loss  accuracy  val_loss  val_accuracy\n",
              "0  0.318997  0.908188  0.154934      0.956167\n",
              "1  0.158049  0.953146  0.114943      0.967500\n",
              "2  0.116441  0.966292  0.100334      0.970250\n",
              "3  0.097342  0.970083  0.088800      0.974167\n",
              "4  0.079574  0.975708  0.082187      0.976583"
            ],
            "text/html": [
              "\n",
              "  <div id=\"df-d9d4f38c-d3bc-41bd-824b-c788197d30e7\">\n",
              "    <div class=\"colab-df-container\">\n",
              "      <div>\n",
              "<style scoped>\n",
              "    .dataframe tbody tr th:only-of-type {\n",
              "        vertical-align: middle;\n",
              "    }\n",
              "\n",
              "    .dataframe tbody tr th {\n",
              "        vertical-align: top;\n",
              "    }\n",
              "\n",
              "    .dataframe thead th {\n",
              "        text-align: right;\n",
              "    }\n",
              "</style>\n",
              "<table border=\"1\" class=\"dataframe\">\n",
              "  <thead>\n",
              "    <tr style=\"text-align: right;\">\n",
              "      <th></th>\n",
              "      <th>loss</th>\n",
              "      <th>accuracy</th>\n",
              "      <th>val_loss</th>\n",
              "      <th>val_accuracy</th>\n",
              "    </tr>\n",
              "  </thead>\n",
              "  <tbody>\n",
              "    <tr>\n",
              "      <th>0</th>\n",
              "      <td>0.318997</td>\n",
              "      <td>0.908188</td>\n",
              "      <td>0.154934</td>\n",
              "      <td>0.956167</td>\n",
              "    </tr>\n",
              "    <tr>\n",
              "      <th>1</th>\n",
              "      <td>0.158049</td>\n",
              "      <td>0.953146</td>\n",
              "      <td>0.114943</td>\n",
              "      <td>0.967500</td>\n",
              "    </tr>\n",
              "    <tr>\n",
              "      <th>2</th>\n",
              "      <td>0.116441</td>\n",
              "      <td>0.966292</td>\n",
              "      <td>0.100334</td>\n",
              "      <td>0.970250</td>\n",
              "    </tr>\n",
              "    <tr>\n",
              "      <th>3</th>\n",
              "      <td>0.097342</td>\n",
              "      <td>0.970083</td>\n",
              "      <td>0.088800</td>\n",
              "      <td>0.974167</td>\n",
              "    </tr>\n",
              "    <tr>\n",
              "      <th>4</th>\n",
              "      <td>0.079574</td>\n",
              "      <td>0.975708</td>\n",
              "      <td>0.082187</td>\n",
              "      <td>0.976583</td>\n",
              "    </tr>\n",
              "  </tbody>\n",
              "</table>\n",
              "</div>\n",
              "      <button class=\"colab-df-convert\" onclick=\"convertToInteractive('df-d9d4f38c-d3bc-41bd-824b-c788197d30e7')\"\n",
              "              title=\"Convert this dataframe to an interactive table.\"\n",
              "              style=\"display:none;\">\n",
              "        \n",
              "  <svg xmlns=\"http://www.w3.org/2000/svg\" height=\"24px\"viewBox=\"0 0 24 24\"\n",
              "       width=\"24px\">\n",
              "    <path d=\"M0 0h24v24H0V0z\" fill=\"none\"/>\n",
              "    <path d=\"M18.56 5.44l.94 2.06.94-2.06 2.06-.94-2.06-.94-.94-2.06-.94 2.06-2.06.94zm-11 1L8.5 8.5l.94-2.06 2.06-.94-2.06-.94L8.5 2.5l-.94 2.06-2.06.94zm10 10l.94 2.06.94-2.06 2.06-.94-2.06-.94-.94-2.06-.94 2.06-2.06.94z\"/><path d=\"M17.41 7.96l-1.37-1.37c-.4-.4-.92-.59-1.43-.59-.52 0-1.04.2-1.43.59L10.3 9.45l-7.72 7.72c-.78.78-.78 2.05 0 2.83L4 21.41c.39.39.9.59 1.41.59.51 0 1.02-.2 1.41-.59l7.78-7.78 2.81-2.81c.8-.78.8-2.07 0-2.86zM5.41 20L4 18.59l7.72-7.72 1.47 1.35L5.41 20z\"/>\n",
              "  </svg>\n",
              "      </button>\n",
              "      \n",
              "  <style>\n",
              "    .colab-df-container {\n",
              "      display:flex;\n",
              "      flex-wrap:wrap;\n",
              "      gap: 12px;\n",
              "    }\n",
              "\n",
              "    .colab-df-convert {\n",
              "      background-color: #E8F0FE;\n",
              "      border: none;\n",
              "      border-radius: 50%;\n",
              "      cursor: pointer;\n",
              "      display: none;\n",
              "      fill: #1967D2;\n",
              "      height: 32px;\n",
              "      padding: 0 0 0 0;\n",
              "      width: 32px;\n",
              "    }\n",
              "\n",
              "    .colab-df-convert:hover {\n",
              "      background-color: #E2EBFA;\n",
              "      box-shadow: 0px 1px 2px rgba(60, 64, 67, 0.3), 0px 1px 3px 1px rgba(60, 64, 67, 0.15);\n",
              "      fill: #174EA6;\n",
              "    }\n",
              "\n",
              "    [theme=dark] .colab-df-convert {\n",
              "      background-color: #3B4455;\n",
              "      fill: #D2E3FC;\n",
              "    }\n",
              "\n",
              "    [theme=dark] .colab-df-convert:hover {\n",
              "      background-color: #434B5C;\n",
              "      box-shadow: 0px 1px 3px 1px rgba(0, 0, 0, 0.15);\n",
              "      filter: drop-shadow(0px 1px 2px rgba(0, 0, 0, 0.3));\n",
              "      fill: #FFFFFF;\n",
              "    }\n",
              "  </style>\n",
              "\n",
              "      <script>\n",
              "        const buttonEl =\n",
              "          document.querySelector('#df-d9d4f38c-d3bc-41bd-824b-c788197d30e7 button.colab-df-convert');\n",
              "        buttonEl.style.display =\n",
              "          google.colab.kernel.accessAllowed ? 'block' : 'none';\n",
              "\n",
              "        async function convertToInteractive(key) {\n",
              "          const element = document.querySelector('#df-d9d4f38c-d3bc-41bd-824b-c788197d30e7');\n",
              "          const dataTable =\n",
              "            await google.colab.kernel.invokeFunction('convertToInteractive',\n",
              "                                                     [key], {});\n",
              "          if (!dataTable) return;\n",
              "\n",
              "          const docLinkHtml = 'Like what you see? Visit the ' +\n",
              "            '<a target=\"_blank\" href=https://colab.research.google.com/notebooks/data_table.ipynb>data table notebook</a>'\n",
              "            + ' to learn more about interactive tables.';\n",
              "          element.innerHTML = '';\n",
              "          dataTable['output_type'] = 'display_data';\n",
              "          await google.colab.output.renderOutput(dataTable, element);\n",
              "          const docLink = document.createElement('div');\n",
              "          docLink.innerHTML = docLinkHtml;\n",
              "          element.appendChild(docLink);\n",
              "        }\n",
              "      </script>\n",
              "    </div>\n",
              "  </div>\n",
              "  "
            ]
          },
          "metadata": {},
          "execution_count": 27
        }
      ]
    },
    {
      "cell_type": "markdown",
      "source": [
        "!pip install plotly\n"
      ],
      "metadata": {
        "id": "nMD0PnzSGEB3"
      }
    },
    {
      "cell_type": "code",
      "source": [
        "from plotly.subplots import make_subplots"
      ],
      "metadata": {
        "id": "tJnarTh8GFs7"
      },
      "execution_count": 33,
      "outputs": []
    },
    {
      "cell_type": "code",
      "source": [
        "fig = make_subplots(rows=2, cols=1)\n",
        "fig.add_trace(go.Scatter(y=metrics['loss'], name=\"loss\"), row=1, col=1)\n",
        "fig.add_trace(go.Scatter(y=metrics['val_loss'], name=\"val_loss\"), row=1, col=1)\n",
        "fig.add_trace(go.Scatter(y=metrics['accuracy'], name=\"accuracy\"), row=2, col=1)\n",
        "fig.add_trace(go.Scatter(y=metrics[\"val_accuracy\"], name=\"val_accuracy\"),row=2, col=1)\n",
        "\n",
        "fig.update_layout(width=800)"
      ],
      "metadata": {
        "colab": {
          "base_uri": "https://localhost:8080/",
          "height": 542
        },
        "id": "xp9XDtPvDYGP",
        "outputId": "db67d5df-376d-448d-881e-95e97a35afda"
      },
      "execution_count": 35,
      "outputs": [
        {
          "output_type": "display_data",
          "data": {
            "text/html": [
              "<html>\n",
              "<head><meta charset=\"utf-8\" /></head>\n",
              "<body>\n",
              "    <div>            <script src=\"https://cdnjs.cloudflare.com/ajax/libs/mathjax/2.7.5/MathJax.js?config=TeX-AMS-MML_SVG\"></script><script type=\"text/javascript\">if (window.MathJax && window.MathJax.Hub && window.MathJax.Hub.Config) {window.MathJax.Hub.Config({SVG: {font: \"STIX-Web\"}});}</script>                <script type=\"text/javascript\">window.PlotlyConfig = {MathJaxConfig: 'local'};</script>\n",
              "        <script src=\"https://cdn.plot.ly/plotly-2.18.2.min.js\"></script>                <div id=\"2ea9cbca-c1f2-4513-b7e1-30a399846f1f\" class=\"plotly-graph-div\" style=\"height:525px; width:800px;\"></div>            <script type=\"text/javascript\">                                    window.PLOTLYENV=window.PLOTLYENV || {};                                    if (document.getElementById(\"2ea9cbca-c1f2-4513-b7e1-30a399846f1f\")) {                    Plotly.newPlot(                        \"2ea9cbca-c1f2-4513-b7e1-30a399846f1f\",                        [{\"name\":\"loss\",\"y\":[0.3189972937107086,0.1580493301153183,0.11644121259450912,0.09734230488538742,0.07957397401332855,0.06786312162876129,0.061343781650066376,0.054631732404232025,0.04821642115712166,0.045428838580846786,0.04115581139922142,0.04036782309412956,0.034719694405794144,0.034288812428712845,0.03235814720392227,0.02994479611515999,0.028147239238023758,0.026248116046190262,0.027082368731498718,0.026448730379343033,0.024376152083277702,0.02310980297625065,0.0207310002297163,0.02326672151684761,0.021680597215890884,0.019450858235359192,0.020187847316265106,0.021327637135982513,0.019088171422481537,0.01899271458387375],\"type\":\"scatter\",\"xaxis\":\"x\",\"yaxis\":\"y\"},{\"name\":\"val_loss\",\"y\":[0.15493400394916534,0.11494272947311401,0.10033351927995682,0.0888003408908844,0.08218692243099213,0.08375165611505508,0.08156798034906387,0.08209410309791565,0.08826867491006851,0.08175148069858551,0.08545390516519547,0.08418911695480347,0.08705955743789673,0.08556878566741943,0.08694165199995041,0.09331921488046646,0.0886622816324234,0.09447454661130905,0.10481936484575272,0.10696195811033249,0.10489340871572495,0.09757140278816223,0.11034831404685974,0.10433325171470642,0.09591064602136612,0.11682023108005524,0.11571463942527771,0.11773931235074997,0.10243707150220871,0.10583031177520752],\"type\":\"scatter\",\"xaxis\":\"x\",\"yaxis\":\"y\"},{\"name\":\"accuracy\",\"y\":[0.9081875085830688,0.9531458616256714,0.9662916660308838,0.9700833559036255,0.9757083058357239,0.9788541793823242,0.9803541898727417,0.9822916388511658,0.9847291707992554,0.9853125214576721,0.9860000014305115,0.9865208268165588,0.9884791374206543,0.9884791374206543,0.9894791841506958,0.9894375205039978,0.9901875257492065,0.9912499785423279,0.9906666874885559,0.9911458492279053,0.9915208220481873,0.991854190826416,0.9926249980926514,0.992354154586792,0.9926249980926514,0.9934583306312561,0.9934375286102295,0.9926458597183228,0.9932916760444641,0.9936458468437195],\"type\":\"scatter\",\"xaxis\":\"x2\",\"yaxis\":\"y2\"},{\"name\":\"val_accuracy\",\"y\":[0.956166684627533,0.9674999713897705,0.9702500104904175,0.9741666913032532,0.9765833616256714,0.9758333563804626,0.9765833616256714,0.9739166498184204,0.9750000238418579,0.9771666526794434,0.9779999852180481,0.9776666760444641,0.9767500162124634,0.9784166812896729,0.9789166450500488,0.9782500267028809,0.9781666398048401,0.9771666526794434,0.9771666526794434,0.9764166474342346,0.9766666889190674,0.9772499799728394,0.9769166707992554,0.9790833592414856,0.9799166917800903,0.9782500267028809,0.9784166812896729,0.9773333072662354,0.9784166812896729,0.9782500267028809],\"type\":\"scatter\",\"xaxis\":\"x2\",\"yaxis\":\"y2\"}],                        {\"template\":{\"data\":{\"histogram2dcontour\":[{\"type\":\"histogram2dcontour\",\"colorbar\":{\"outlinewidth\":0,\"ticks\":\"\"},\"colorscale\":[[0.0,\"#0d0887\"],[0.1111111111111111,\"#46039f\"],[0.2222222222222222,\"#7201a8\"],[0.3333333333333333,\"#9c179e\"],[0.4444444444444444,\"#bd3786\"],[0.5555555555555556,\"#d8576b\"],[0.6666666666666666,\"#ed7953\"],[0.7777777777777778,\"#fb9f3a\"],[0.8888888888888888,\"#fdca26\"],[1.0,\"#f0f921\"]]}],\"choropleth\":[{\"type\":\"choropleth\",\"colorbar\":{\"outlinewidth\":0,\"ticks\":\"\"}}],\"histogram2d\":[{\"type\":\"histogram2d\",\"colorbar\":{\"outlinewidth\":0,\"ticks\":\"\"},\"colorscale\":[[0.0,\"#0d0887\"],[0.1111111111111111,\"#46039f\"],[0.2222222222222222,\"#7201a8\"],[0.3333333333333333,\"#9c179e\"],[0.4444444444444444,\"#bd3786\"],[0.5555555555555556,\"#d8576b\"],[0.6666666666666666,\"#ed7953\"],[0.7777777777777778,\"#fb9f3a\"],[0.8888888888888888,\"#fdca26\"],[1.0,\"#f0f921\"]]}],\"heatmap\":[{\"type\":\"heatmap\",\"colorbar\":{\"outlinewidth\":0,\"ticks\":\"\"},\"colorscale\":[[0.0,\"#0d0887\"],[0.1111111111111111,\"#46039f\"],[0.2222222222222222,\"#7201a8\"],[0.3333333333333333,\"#9c179e\"],[0.4444444444444444,\"#bd3786\"],[0.5555555555555556,\"#d8576b\"],[0.6666666666666666,\"#ed7953\"],[0.7777777777777778,\"#fb9f3a\"],[0.8888888888888888,\"#fdca26\"],[1.0,\"#f0f921\"]]}],\"heatmapgl\":[{\"type\":\"heatmapgl\",\"colorbar\":{\"outlinewidth\":0,\"ticks\":\"\"},\"colorscale\":[[0.0,\"#0d0887\"],[0.1111111111111111,\"#46039f\"],[0.2222222222222222,\"#7201a8\"],[0.3333333333333333,\"#9c179e\"],[0.4444444444444444,\"#bd3786\"],[0.5555555555555556,\"#d8576b\"],[0.6666666666666666,\"#ed7953\"],[0.7777777777777778,\"#fb9f3a\"],[0.8888888888888888,\"#fdca26\"],[1.0,\"#f0f921\"]]}],\"contourcarpet\":[{\"type\":\"contourcarpet\",\"colorbar\":{\"outlinewidth\":0,\"ticks\":\"\"}}],\"contour\":[{\"type\":\"contour\",\"colorbar\":{\"outlinewidth\":0,\"ticks\":\"\"},\"colorscale\":[[0.0,\"#0d0887\"],[0.1111111111111111,\"#46039f\"],[0.2222222222222222,\"#7201a8\"],[0.3333333333333333,\"#9c179e\"],[0.4444444444444444,\"#bd3786\"],[0.5555555555555556,\"#d8576b\"],[0.6666666666666666,\"#ed7953\"],[0.7777777777777778,\"#fb9f3a\"],[0.8888888888888888,\"#fdca26\"],[1.0,\"#f0f921\"]]}],\"surface\":[{\"type\":\"surface\",\"colorbar\":{\"outlinewidth\":0,\"ticks\":\"\"},\"colorscale\":[[0.0,\"#0d0887\"],[0.1111111111111111,\"#46039f\"],[0.2222222222222222,\"#7201a8\"],[0.3333333333333333,\"#9c179e\"],[0.4444444444444444,\"#bd3786\"],[0.5555555555555556,\"#d8576b\"],[0.6666666666666666,\"#ed7953\"],[0.7777777777777778,\"#fb9f3a\"],[0.8888888888888888,\"#fdca26\"],[1.0,\"#f0f921\"]]}],\"mesh3d\":[{\"type\":\"mesh3d\",\"colorbar\":{\"outlinewidth\":0,\"ticks\":\"\"}}],\"scatter\":[{\"fillpattern\":{\"fillmode\":\"overlay\",\"size\":10,\"solidity\":0.2},\"type\":\"scatter\"}],\"parcoords\":[{\"type\":\"parcoords\",\"line\":{\"colorbar\":{\"outlinewidth\":0,\"ticks\":\"\"}}}],\"scatterpolargl\":[{\"type\":\"scatterpolargl\",\"marker\":{\"colorbar\":{\"outlinewidth\":0,\"ticks\":\"\"}}}],\"bar\":[{\"error_x\":{\"color\":\"#2a3f5f\"},\"error_y\":{\"color\":\"#2a3f5f\"},\"marker\":{\"line\":{\"color\":\"#E5ECF6\",\"width\":0.5},\"pattern\":{\"fillmode\":\"overlay\",\"size\":10,\"solidity\":0.2}},\"type\":\"bar\"}],\"scattergeo\":[{\"type\":\"scattergeo\",\"marker\":{\"colorbar\":{\"outlinewidth\":0,\"ticks\":\"\"}}}],\"scatterpolar\":[{\"type\":\"scatterpolar\",\"marker\":{\"colorbar\":{\"outlinewidth\":0,\"ticks\":\"\"}}}],\"histogram\":[{\"marker\":{\"pattern\":{\"fillmode\":\"overlay\",\"size\":10,\"solidity\":0.2}},\"type\":\"histogram\"}],\"scattergl\":[{\"type\":\"scattergl\",\"marker\":{\"colorbar\":{\"outlinewidth\":0,\"ticks\":\"\"}}}],\"scatter3d\":[{\"type\":\"scatter3d\",\"line\":{\"colorbar\":{\"outlinewidth\":0,\"ticks\":\"\"}},\"marker\":{\"colorbar\":{\"outlinewidth\":0,\"ticks\":\"\"}}}],\"scattermapbox\":[{\"type\":\"scattermapbox\",\"marker\":{\"colorbar\":{\"outlinewidth\":0,\"ticks\":\"\"}}}],\"scatterternary\":[{\"type\":\"scatterternary\",\"marker\":{\"colorbar\":{\"outlinewidth\":0,\"ticks\":\"\"}}}],\"scattercarpet\":[{\"type\":\"scattercarpet\",\"marker\":{\"colorbar\":{\"outlinewidth\":0,\"ticks\":\"\"}}}],\"carpet\":[{\"aaxis\":{\"endlinecolor\":\"#2a3f5f\",\"gridcolor\":\"white\",\"linecolor\":\"white\",\"minorgridcolor\":\"white\",\"startlinecolor\":\"#2a3f5f\"},\"baxis\":{\"endlinecolor\":\"#2a3f5f\",\"gridcolor\":\"white\",\"linecolor\":\"white\",\"minorgridcolor\":\"white\",\"startlinecolor\":\"#2a3f5f\"},\"type\":\"carpet\"}],\"table\":[{\"cells\":{\"fill\":{\"color\":\"#EBF0F8\"},\"line\":{\"color\":\"white\"}},\"header\":{\"fill\":{\"color\":\"#C8D4E3\"},\"line\":{\"color\":\"white\"}},\"type\":\"table\"}],\"barpolar\":[{\"marker\":{\"line\":{\"color\":\"#E5ECF6\",\"width\":0.5},\"pattern\":{\"fillmode\":\"overlay\",\"size\":10,\"solidity\":0.2}},\"type\":\"barpolar\"}],\"pie\":[{\"automargin\":true,\"type\":\"pie\"}]},\"layout\":{\"autotypenumbers\":\"strict\",\"colorway\":[\"#636efa\",\"#EF553B\",\"#00cc96\",\"#ab63fa\",\"#FFA15A\",\"#19d3f3\",\"#FF6692\",\"#B6E880\",\"#FF97FF\",\"#FECB52\"],\"font\":{\"color\":\"#2a3f5f\"},\"hovermode\":\"closest\",\"hoverlabel\":{\"align\":\"left\"},\"paper_bgcolor\":\"white\",\"plot_bgcolor\":\"#E5ECF6\",\"polar\":{\"bgcolor\":\"#E5ECF6\",\"angularaxis\":{\"gridcolor\":\"white\",\"linecolor\":\"white\",\"ticks\":\"\"},\"radialaxis\":{\"gridcolor\":\"white\",\"linecolor\":\"white\",\"ticks\":\"\"}},\"ternary\":{\"bgcolor\":\"#E5ECF6\",\"aaxis\":{\"gridcolor\":\"white\",\"linecolor\":\"white\",\"ticks\":\"\"},\"baxis\":{\"gridcolor\":\"white\",\"linecolor\":\"white\",\"ticks\":\"\"},\"caxis\":{\"gridcolor\":\"white\",\"linecolor\":\"white\",\"ticks\":\"\"}},\"coloraxis\":{\"colorbar\":{\"outlinewidth\":0,\"ticks\":\"\"}},\"colorscale\":{\"sequential\":[[0.0,\"#0d0887\"],[0.1111111111111111,\"#46039f\"],[0.2222222222222222,\"#7201a8\"],[0.3333333333333333,\"#9c179e\"],[0.4444444444444444,\"#bd3786\"],[0.5555555555555556,\"#d8576b\"],[0.6666666666666666,\"#ed7953\"],[0.7777777777777778,\"#fb9f3a\"],[0.8888888888888888,\"#fdca26\"],[1.0,\"#f0f921\"]],\"sequentialminus\":[[0.0,\"#0d0887\"],[0.1111111111111111,\"#46039f\"],[0.2222222222222222,\"#7201a8\"],[0.3333333333333333,\"#9c179e\"],[0.4444444444444444,\"#bd3786\"],[0.5555555555555556,\"#d8576b\"],[0.6666666666666666,\"#ed7953\"],[0.7777777777777778,\"#fb9f3a\"],[0.8888888888888888,\"#fdca26\"],[1.0,\"#f0f921\"]],\"diverging\":[[0,\"#8e0152\"],[0.1,\"#c51b7d\"],[0.2,\"#de77ae\"],[0.3,\"#f1b6da\"],[0.4,\"#fde0ef\"],[0.5,\"#f7f7f7\"],[0.6,\"#e6f5d0\"],[0.7,\"#b8e186\"],[0.8,\"#7fbc41\"],[0.9,\"#4d9221\"],[1,\"#276419\"]]},\"xaxis\":{\"gridcolor\":\"white\",\"linecolor\":\"white\",\"ticks\":\"\",\"title\":{\"standoff\":15},\"zerolinecolor\":\"white\",\"automargin\":true,\"zerolinewidth\":2},\"yaxis\":{\"gridcolor\":\"white\",\"linecolor\":\"white\",\"ticks\":\"\",\"title\":{\"standoff\":15},\"zerolinecolor\":\"white\",\"automargin\":true,\"zerolinewidth\":2},\"scene\":{\"xaxis\":{\"backgroundcolor\":\"#E5ECF6\",\"gridcolor\":\"white\",\"linecolor\":\"white\",\"showbackground\":true,\"ticks\":\"\",\"zerolinecolor\":\"white\",\"gridwidth\":2},\"yaxis\":{\"backgroundcolor\":\"#E5ECF6\",\"gridcolor\":\"white\",\"linecolor\":\"white\",\"showbackground\":true,\"ticks\":\"\",\"zerolinecolor\":\"white\",\"gridwidth\":2},\"zaxis\":{\"backgroundcolor\":\"#E5ECF6\",\"gridcolor\":\"white\",\"linecolor\":\"white\",\"showbackground\":true,\"ticks\":\"\",\"zerolinecolor\":\"white\",\"gridwidth\":2}},\"shapedefaults\":{\"line\":{\"color\":\"#2a3f5f\"}},\"annotationdefaults\":{\"arrowcolor\":\"#2a3f5f\",\"arrowhead\":0,\"arrowwidth\":1},\"geo\":{\"bgcolor\":\"white\",\"landcolor\":\"#E5ECF6\",\"subunitcolor\":\"white\",\"showland\":true,\"showlakes\":true,\"lakecolor\":\"white\"},\"title\":{\"x\":0.05},\"mapbox\":{\"style\":\"light\"}}},\"xaxis\":{\"anchor\":\"y\",\"domain\":[0.0,1.0]},\"yaxis\":{\"anchor\":\"x\",\"domain\":[0.575,1.0]},\"xaxis2\":{\"anchor\":\"y2\",\"domain\":[0.0,1.0]},\"yaxis2\":{\"anchor\":\"x2\",\"domain\":[0.0,0.425]},\"width\":800},                        {\"responsive\": true}                    ).then(function(){\n",
              "                            \n",
              "var gd = document.getElementById('2ea9cbca-c1f2-4513-b7e1-30a399846f1f');\n",
              "var x = new MutationObserver(function (mutations, observer) {{\n",
              "        var display = window.getComputedStyle(gd).display;\n",
              "        if (!display || display === 'none') {{\n",
              "            console.log([gd, 'removed!']);\n",
              "            Plotly.purge(gd);\n",
              "            observer.disconnect();\n",
              "        }}\n",
              "}});\n",
              "\n",
              "// Listen for the removal of the full notebook cells\n",
              "var notebookContainer = gd.closest('#notebook-container');\n",
              "if (notebookContainer) {{\n",
              "    x.observe(notebookContainer, {childList: true});\n",
              "}}\n",
              "\n",
              "// Listen for the clearing of the current output cell\n",
              "var outputEl = gd.closest('.output');\n",
              "if (outputEl) {{\n",
              "    x.observe(outputEl, {childList: true});\n",
              "}}\n",
              "\n",
              "                        })                };                            </script>        </div>\n",
              "</body>\n",
              "</html>"
            ]
          },
          "metadata": {}
        }
      ]
    },
    {
      "cell_type": "code",
      "source": [],
      "metadata": {
        "id": "XecztVWDGaG3"
      },
      "execution_count": null,
      "outputs": []
    },
    {
      "cell_type": "code",
      "source": [],
      "metadata": {
        "id": "D_k_8_XYE-nF"
      },
      "execution_count": null,
      "outputs": []
    },
    {
      "cell_type": "code",
      "source": [],
      "metadata": {
        "id": "T8TiWktxE3c9"
      },
      "execution_count": null,
      "outputs": []
    },
    {
      "cell_type": "code",
      "source": [],
      "metadata": {
        "id": "xAeCC5FmE0Hs"
      },
      "execution_count": null,
      "outputs": []
    },
    {
      "cell_type": "code",
      "source": [],
      "metadata": {
        "id": "u4-0nJjGB1wj"
      },
      "execution_count": null,
      "outputs": []
    },
    {
      "cell_type": "code",
      "source": [],
      "metadata": {
        "id": "jzpc3YDFBrzw"
      },
      "execution_count": null,
      "outputs": []
    },
    {
      "cell_type": "code",
      "source": [],
      "metadata": {
        "id": "G-d6yN1c7RRp"
      },
      "execution_count": 17,
      "outputs": []
    },
    {
      "cell_type": "code",
      "source": [],
      "metadata": {
        "id": "q8suWm8d5FZx"
      },
      "execution_count": 17,
      "outputs": []
    },
    {
      "cell_type": "code",
      "source": [],
      "metadata": {
        "id": "Sc34hW-12hwH"
      },
      "execution_count": 17,
      "outputs": []
    },
    {
      "cell_type": "code",
      "source": [],
      "metadata": {
        "id": "o3Ul0gIm2eqF"
      },
      "execution_count": 17,
      "outputs": []
    },
    {
      "cell_type": "code",
      "source": [],
      "metadata": {
        "id": "nkIcjd-H2bgy"
      },
      "execution_count": 17,
      "outputs": []
    },
    {
      "cell_type": "code",
      "source": [],
      "metadata": {
        "id": "BhEmd6P62ZrD"
      },
      "execution_count": 17,
      "outputs": []
    },
    {
      "cell_type": "code",
      "source": [],
      "metadata": {
        "id": "cW-SjicK2YD6"
      },
      "execution_count": 17,
      "outputs": []
    },
    {
      "cell_type": "code",
      "source": [],
      "metadata": {
        "id": "ltnv61VX2VOV"
      },
      "execution_count": 17,
      "outputs": []
    },
    {
      "cell_type": "code",
      "source": [],
      "metadata": {
        "id": "eAGAGHKG2Rf7"
      },
      "execution_count": 17,
      "outputs": []
    },
    {
      "cell_type": "code",
      "source": [],
      "metadata": {
        "id": "9aSf4jBx1YBg"
      },
      "execution_count": 17,
      "outputs": []
    },
    {
      "cell_type": "code",
      "source": [],
      "metadata": {
        "id": "nzfei6iM1WD2"
      },
      "execution_count": 17,
      "outputs": []
    },
    {
      "cell_type": "code",
      "source": [],
      "metadata": {
        "id": "RLTFsvXr1USZ"
      },
      "execution_count": 17,
      "outputs": []
    },
    {
      "cell_type": "code",
      "source": [],
      "metadata": {
        "id": "MKC9WR8M1OyY"
      },
      "execution_count": 17,
      "outputs": []
    },
    {
      "cell_type": "code",
      "source": [],
      "metadata": {
        "id": "cqvEMW0A1F3I"
      },
      "execution_count": 17,
      "outputs": []
    }
  ]
}