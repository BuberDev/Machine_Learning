{
  "nbformat": 4,
  "nbformat_minor": 0,
  "metadata": {
    "colab": {
      "provenance": [],
      "authorship_tag": "ABX9TyNIN5jMI1xaLR6C2/QDcnl7",
      "include_colab_link": true
    },
    "kernelspec": {
      "name": "python3",
      "display_name": "Python 3"
    },
    "language_info": {
      "name": "python"
    }
  },
  "cells": [
    {
      "cell_type": "markdown",
      "metadata": {
        "id": "view-in-github",
        "colab_type": "text"
      },
      "source": [
        "<a href=\"https://colab.research.google.com/github/BuberDev/Machine_Learning/blob/main/Numpy_Basic_02.ipynb\" target=\"_parent\"><img src=\"https://colab.research.google.com/assets/colab-badge.svg\" alt=\"Open In Colab\"/></a>"
      ]
    },
    {
      "cell_type": "markdown",
      "source": [],
      "metadata": {
        "id": "FBAfawmCBZvr"
      }
    },
    {
      "cell_type": "markdown",
      "source": [
        "1. Zacznijmy od zaimportowania numpy korzystając ze standardowego dla tego modułu aliasu"
      ],
      "metadata": {
        "id": "CpGfkfllBbGM"
      }
    },
    {
      "cell_type": "code",
      "execution_count": 2,
      "metadata": {
        "id": "MGkrDNGyAyd_"
      },
      "outputs": [],
      "source": [
        "import numpy as np"
      ]
    },
    {
      "cell_type": "markdown",
      "source": [
        "2. Utwórz tablicę arr zawierającą nieparzyste liczby od 5 do 29. Hint: skorzystaj z funkcji arange"
      ],
      "metadata": {
        "id": "0mP6fBcuBepy"
      }
    },
    {
      "cell_type": "code",
      "source": [
        "arr = np.arange(5,29,3)\n",
        "arr"
      ],
      "metadata": {
        "colab": {
          "base_uri": "https://localhost:8080/"
        },
        "id": "V8JEYBTzA4LS",
        "outputId": "27d36dda-3de1-4e85-ac88-92220bce3332"
      },
      "execution_count": 3,
      "outputs": [
        {
          "output_type": "execute_result",
          "data": {
            "text/plain": [
              "array([ 5,  8, 11, 14, 17, 20, 23, 26])"
            ]
          },
          "metadata": {},
          "execution_count": 3
        }
      ]
    },
    {
      "cell_type": "markdown",
      "source": [
        "3. Utwórz tablicę boolArr zawierającą wartości True/False. True, gdy na odpowiedniej pozycji w arr jest liczba < 10, a False w przeciwnym razie. Hint: zacznij o wykonania operacji porównania na tablicy arr, a potem zapisz wynik w zmiennej\n",
        "\n"
      ],
      "metadata": {
        "id": "FiEA6uJLByt7"
      }
    },
    {
      "cell_type": "code",
      "source": [
        "boolArr = arr < 10\n",
        "boolArr"
      ],
      "metadata": {
        "colab": {
          "base_uri": "https://localhost:8080/"
        },
        "id": "bV3dijd4BGSp",
        "outputId": "a9579d88-cd84-46eb-c2af-5a2c7480f7ba"
      },
      "execution_count": 4,
      "outputs": [
        {
          "output_type": "execute_result",
          "data": {
            "text/plain": [
              "array([ True,  True, False, False, False, False, False, False])"
            ]
          },
          "metadata": {},
          "execution_count": 4
        }
      ]
    },
    {
      "cell_type": "code",
      "source": [],
      "metadata": {
        "id": "Ugw13AA6CUeX"
      },
      "execution_count": 4,
      "outputs": []
    },
    {
      "cell_type": "markdown",
      "source": [
        "4. Wyświetl tylko te pozycje z tablicy arr, gdzie:\n",
        "\n",
        "na odpowiedniej pozycji w boolArr znajduje się wartość True. Hint: odwołując się do zawartości tablicy arr poprzez [] możesz przekazywać tablicę wartości logicznych\n",
        "\n",
        "wartość pozycji jest < 20. Hint: warunek logiczny może być zapisywany bezpośrednio w []\n",
        "\n",
        "wartość pozycji jest podzielna przez 3. Hint: Warunek logiczny powinien sprawdzać czy reszta z dzielenia pozycji tablicy przez 3 jest równa 0\n",
        "\n",
        "wartość pozycji jest większa niż 10 i mniejsza niż 20. Hint: Warunek logiczny w [] może być bardziej skomplikowany, np. można skorzystać z operatora &\n",
        "\n"
      ],
      "metadata": {
        "id": "HWKVBR5KB2pD"
      }
    },
    {
      "cell_type": "code",
      "source": [
        "newArr = arr[boolArr]\n",
        "newArr"
      ],
      "metadata": {
        "colab": {
          "base_uri": "https://localhost:8080/"
        },
        "id": "L6PlbtZyBVVI",
        "outputId": "500d11dc-7a91-4280-fae4-e377f69414d6"
      },
      "execution_count": 5,
      "outputs": [
        {
          "output_type": "execute_result",
          "data": {
            "text/plain": [
              "array([5, 8])"
            ]
          },
          "metadata": {},
          "execution_count": 5
        }
      ]
    },
    {
      "cell_type": "code",
      "source": [
        "newArr = arr[arr < 20]\n",
        "newArr"
      ],
      "metadata": {
        "colab": {
          "base_uri": "https://localhost:8080/"
        },
        "id": "9cUiFOu7CVY8",
        "outputId": "f363baaa-b639-4177-8a9e-e394fcb87a0e"
      },
      "execution_count": 6,
      "outputs": [
        {
          "output_type": "execute_result",
          "data": {
            "text/plain": [
              "array([ 5,  8, 11, 14, 17])"
            ]
          },
          "metadata": {},
          "execution_count": 6
        }
      ]
    },
    {
      "cell_type": "code",
      "source": [
        "newArr = arr[arr%3==0]\n",
        "newArr\n"
      ],
      "metadata": {
        "colab": {
          "base_uri": "https://localhost:8080/"
        },
        "id": "CFqdQJ3YCkS9",
        "outputId": "0265918b-dfbb-4c90-fdc9-b026695a44dc"
      },
      "execution_count": 7,
      "outputs": [
        {
          "output_type": "execute_result",
          "data": {
            "text/plain": [
              "array([], dtype=int64)"
            ]
          },
          "metadata": {},
          "execution_count": 7
        }
      ]
    },
    {
      "cell_type": "code",
      "source": [
        "newArr = [(arr>10) & (arr<20)]\n",
        "newArr"
      ],
      "metadata": {
        "colab": {
          "base_uri": "https://localhost:8080/"
        },
        "id": "qzjGTegWDHzr",
        "outputId": "79ace11b-53bd-47dc-83d0-a871a94a0613"
      },
      "execution_count": 8,
      "outputs": [
        {
          "output_type": "execute_result",
          "data": {
            "text/plain": [
              "[array([False, False,  True,  True,  True, False, False, False])]"
            ]
          },
          "metadata": {},
          "execution_count": 8
        }
      ]
    },
    {
      "cell_type": "markdown",
      "source": [
        "5. Zmień kształt arr na 4x6, a następnie wyświetl (pamiętaj o tym, że w pythonie numerujemy od zera, więc tutaj, zdecydowałem się pisać po pythonowemu - też liczę od zera):\n",
        "\n",
        "pierwszy wiersz. Hint: korzystaj z []\n",
        "\n",
        "z pierwszego wiersza drugą pozycję. Hint: korzystaj z podwójnego [numer_wiersza][numer_kolumny] lub z adresowania w postaci [numer wiersza, numer_kolumny]\n",
        "\n",
        "z pierwszego wiersza pozycje od 2 do 3. Hint: Odwołując się do kolumn możesz skorzystać ze \"slicing\". Wartość określająca koniec zakresu do niego nie wchodzi (jak zwykle w Pythonie)"
      ],
      "metadata": {
        "id": "3aTz8LjuEYNl"
      }
    },
    {
      "cell_type": "code",
      "source": [
        "arr= np.arange(24).reshape(4,6)\n",
        "arr"
      ],
      "metadata": {
        "colab": {
          "base_uri": "https://localhost:8080/"
        },
        "id": "9LRB51oSDtkk",
        "outputId": "f91e46db-d22b-436a-ce76-8b34f7ba3cab"
      },
      "execution_count": 9,
      "outputs": [
        {
          "output_type": "execute_result",
          "data": {
            "text/plain": [
              "array([[ 0,  1,  2,  3,  4,  5],\n",
              "       [ 6,  7,  8,  9, 10, 11],\n",
              "       [12, 13, 14, 15, 16, 17],\n",
              "       [18, 19, 20, 21, 22, 23]])"
            ]
          },
          "metadata": {},
          "execution_count": 9
        }
      ]
    },
    {
      "cell_type": "code",
      "source": [
        "arr[1]"
      ],
      "metadata": {
        "colab": {
          "base_uri": "https://localhost:8080/"
        },
        "id": "p-_IxJE2E3Bb",
        "outputId": "05f8ac19-e209-49f6-ee56-8f66a40774af"
      },
      "execution_count": 10,
      "outputs": [
        {
          "output_type": "execute_result",
          "data": {
            "text/plain": [
              "array([ 6,  7,  8,  9, 10, 11])"
            ]
          },
          "metadata": {},
          "execution_count": 10
        }
      ]
    },
    {
      "cell_type": "code",
      "source": [
        "arr[1,2]"
      ],
      "metadata": {
        "colab": {
          "base_uri": "https://localhost:8080/"
        },
        "id": "vVU0-LniFDap",
        "outputId": "3586dd35-b791-4be9-9d22-096bc5c0a1a8"
      },
      "execution_count": 11,
      "outputs": [
        {
          "output_type": "execute_result",
          "data": {
            "text/plain": [
              "8"
            ]
          },
          "metadata": {},
          "execution_count": 11
        }
      ]
    },
    {
      "cell_type": "code",
      "source": [
        "arr[1,2:4]"
      ],
      "metadata": {
        "colab": {
          "base_uri": "https://localhost:8080/"
        },
        "id": "G93VRWrHFWM9",
        "outputId": "577f4467-eda2-42c4-bd6d-e1919fe9c2bb"
      },
      "execution_count": 12,
      "outputs": [
        {
          "output_type": "execute_result",
          "data": {
            "text/plain": [
              "array([8, 9])"
            ]
          },
          "metadata": {},
          "execution_count": 12
        }
      ]
    },
    {
      "cell_type": "markdown",
      "source": [
        "6. Zmień kształt arr na 4x6, a następnie wyświetl:\n",
        "z pierwszego wiersza pozycje od 2 do 4. Hint: pamiętaj że ostatnia liczba z zakresu nie jest brana pod uwagę - przedział jest z prawej strony otwarty\n",
        "\n",
        "z pierwszego wiersza wszystkie pozycje, ale budując to wyrażenie skorzystaj z notacji [numer_wiersza, zakres_kolumn]. Kiedy tworzysz zakres dla wszystkich kolumn - po prostu napisz :\n",
        "\n",
        "z drugiej kolumny wszystkie wiersze. Hint: wyrażenie będzie podobne, co w poprzednim punkcie, tylko zmień kolejność w []\n",
        "\n",
        "z wierszy od 0 do 2 wyświetl tylko 2 kolumnę. Hint: pamiętaj że ostatnia liczba z zakresu nie jest brana pod uwagę - przedział jest z prawej strony otwarty\n",
        "\n",
        "wiersze do drugiego, druga kolumna. Hint: Istnieje odpowiednia notacja slice odpowiadająca za \"do n-tego elementu\"\n",
        "\n",
        "wiersze do drugiego, kolumny od 2 do 3. Hint: Użyj operatora slice w odwołaniu do wiersza i do kolumny\n",
        "\n",
        "wszystkie wiersze, ostatnia kolumna. Hint: Za odwołanie do ostatniej kolumny odpowiada zapis -1\n",
        "\n",
        "wszystkie wiersze, wszystkie kolumny oprócz ostatniej. Hint: Zbuduj slice z : i liczbą -1"
      ],
      "metadata": {
        "id": "z3lZ2arIFxt5"
      }
    },
    {
      "cell_type": "code",
      "source": [
        "arr = np.arange(24).reshape(4,6)\n",
        "arr"
      ],
      "metadata": {
        "colab": {
          "base_uri": "https://localhost:8080/"
        },
        "id": "WLSgVNABFlc-",
        "outputId": "f7011544-0cac-4a77-da1e-89be4a2f5830"
      },
      "execution_count": 13,
      "outputs": [
        {
          "output_type": "execute_result",
          "data": {
            "text/plain": [
              "array([[ 0,  1,  2,  3,  4,  5],\n",
              "       [ 6,  7,  8,  9, 10, 11],\n",
              "       [12, 13, 14, 15, 16, 17],\n",
              "       [18, 19, 20, 21, 22, 23]])"
            ]
          },
          "metadata": {},
          "execution_count": 13
        }
      ]
    },
    {
      "cell_type": "code",
      "source": [
        "arr[1,:]"
      ],
      "metadata": {
        "colab": {
          "base_uri": "https://localhost:8080/"
        },
        "id": "4fypIeifGczq",
        "outputId": "70fa38aa-41ce-409d-b7a1-c3fd5ec4a6ec"
      },
      "execution_count": 14,
      "outputs": [
        {
          "output_type": "execute_result",
          "data": {
            "text/plain": [
              "array([ 6,  7,  8,  9, 10, 11])"
            ]
          },
          "metadata": {},
          "execution_count": 14
        }
      ]
    },
    {
      "cell_type": "code",
      "source": [
        "arr[:,2]\n",
        "arr[0:3,2]"
      ],
      "metadata": {
        "colab": {
          "base_uri": "https://localhost:8080/"
        },
        "id": "aOTcqVJ4G5h_",
        "outputId": "ffc32591-7410-4e38-d490-02a425043af2"
      },
      "execution_count": 15,
      "outputs": [
        {
          "output_type": "execute_result",
          "data": {
            "text/plain": [
              "array([ 2,  8, 14])"
            ]
          },
          "metadata": {},
          "execution_count": 15
        }
      ]
    },
    {
      "cell_type": "code",
      "source": [
        "arr[:3,2]"
      ],
      "metadata": {
        "id": "RFTrdU9MHON6",
        "colab": {
          "base_uri": "https://localhost:8080/"
        },
        "outputId": "1232f2dc-3a25-4f0e-c9f0-af110392aac2"
      },
      "execution_count": 17,
      "outputs": [
        {
          "output_type": "execute_result",
          "data": {
            "text/plain": [
              "array([ 2,  8, 14])"
            ]
          },
          "metadata": {},
          "execution_count": 17
        }
      ]
    },
    {
      "cell_type": "code",
      "source": [
        "arr[:3,2:4]"
      ],
      "metadata": {
        "colab": {
          "base_uri": "https://localhost:8080/"
        },
        "id": "iTDH3MhkT9UB",
        "outputId": "511f6bc3-7182-4635-fb3a-003f46045a1b"
      },
      "execution_count": 18,
      "outputs": [
        {
          "output_type": "execute_result",
          "data": {
            "text/plain": [
              "array([[ 2,  3],\n",
              "       [ 8,  9],\n",
              "       [14, 15]])"
            ]
          },
          "metadata": {},
          "execution_count": 18
        }
      ]
    },
    {
      "cell_type": "code",
      "source": [
        "#arr[:,5]\n",
        "arr[:, -1]"
      ],
      "metadata": {
        "colab": {
          "base_uri": "https://localhost:8080/"
        },
        "id": "fZBCFDSlUFXN",
        "outputId": "ff534ed5-39da-4efa-ddbc-b77afa5c0624"
      },
      "execution_count": 21,
      "outputs": [
        {
          "output_type": "execute_result",
          "data": {
            "text/plain": [
              "array([ 5, 11, 17, 23])"
            ]
          },
          "metadata": {},
          "execution_count": 21
        }
      ]
    },
    {
      "cell_type": "code",
      "source": [
        "arr[:,:-1]"
      ],
      "metadata": {
        "colab": {
          "base_uri": "https://localhost:8080/"
        },
        "id": "1luSacImUYX9",
        "outputId": "8b1ec715-467c-410b-8548-be386bf494fb"
      },
      "execution_count": 22,
      "outputs": [
        {
          "output_type": "execute_result",
          "data": {
            "text/plain": [
              "array([[ 0,  1,  2,  3,  4],\n",
              "       [ 6,  7,  8,  9, 10],\n",
              "       [12, 13, 14, 15, 16],\n",
              "       [18, 19, 20, 21, 22]])"
            ]
          },
          "metadata": {},
          "execution_count": 22
        }
      ]
    },
    {
      "cell_type": "markdown",
      "source": [],
      "metadata": {
        "id": "NY9wXTQHUxyQ"
      }
    },
    {
      "cell_type": "markdown",
      "source": [],
      "metadata": {
        "id": "oCwmsjIWUyJN"
      }
    },
    {
      "cell_type": "markdown",
      "source": [
        "6. Do zmiennej arr zapisz tablicę 50-elementową, o wymiarach 10x5. Teraz trochę zbliżymy się do naszego celu, czyli jakiegoś \"półautomatycznego\" cięcia zbioru danych na dane uczące i testowe. Wykonaj polecenia:\n",
        "___________________________________\n",
        "##### how much data should be \"test-data' - here 20%\n",
        "split_level = 0.2\n",
        "\n",
        "num_rows = arr.shape[0]\n",
        "\n",
        "split_border = split_level * num_rows\n",
        "\n",
        "__________________________________\n",
        "\n",
        "Teraz zbuduj wyrażenie zwracające\n",
        "\n",
        "wiersze od początku do split_border i wszystkie kolumny\n",
        "\n",
        "wiersze od split_border do końca i wszystkie kolumny\n",
        "\n",
        "Hint: wartość split_border, to liczba float. Zaokrąglij ją do liczby całkowitej podczas budowania slice (funkcja round)\n",
        "\n"
      ],
      "metadata": {
        "id": "nHb6KV8LUzcH"
      }
    },
    {
      "cell_type": "code",
      "source": [
        "arr = np.arange(50)\n",
        "arr.reshape(10,5)\n",
        "arr"
      ],
      "metadata": {
        "colab": {
          "base_uri": "https://localhost:8080/"
        },
        "id": "bisd9lu-Un-u",
        "outputId": "4aa33e92-ec38-48f4-8932-bbab6e7d9b50"
      },
      "execution_count": 23,
      "outputs": [
        {
          "output_type": "execute_result",
          "data": {
            "text/plain": [
              "array([ 0,  1,  2,  3,  4,  5,  6,  7,  8,  9, 10, 11, 12, 13, 14, 15, 16,\n",
              "       17, 18, 19, 20, 21, 22, 23, 24, 25, 26, 27, 28, 29, 30, 31, 32, 33,\n",
              "       34, 35, 36, 37, 38, 39, 40, 41, 42, 43, 44, 45, 46, 47, 48, 49])"
            ]
          },
          "metadata": {},
          "execution_count": 23
        }
      ]
    },
    {
      "cell_type": "code",
      "source": [
        "arr.shape[0]"
      ],
      "metadata": {
        "colab": {
          "base_uri": "https://localhost:8080/"
        },
        "id": "CwOjMyDJWn3V",
        "outputId": "d2a94d2e-36ee-4228-c1b0-520208e79c2c"
      },
      "execution_count": 25,
      "outputs": [
        {
          "output_type": "execute_result",
          "data": {
            "text/plain": [
              "50"
            ]
          },
          "metadata": {},
          "execution_count": 25
        }
      ]
    },
    {
      "cell_type": "code",
      "source": [
        "split_level = 0.2\n",
        "num_rows = arr.shape[0]\n",
        "split_border = split_level * num_rows\n",
        "\n"
      ],
      "metadata": {
        "id": "YeyR-pSIVExB"
      },
      "execution_count": 31,
      "outputs": []
    },
    {
      "cell_type": "code",
      "source": [],
      "metadata": {
        "id": "IzHFzhGAYRaS"
      },
      "execution_count": null,
      "outputs": []
    },
    {
      "cell_type": "markdown",
      "source": [
        "To już prawie dobry zbiór uczący i testowy, bo...  dane testowe byłyby zawsze brane z początku zbioru... a to trochę mało losowe. Dlatego \"wymieszaj wiersze:\n",
        "\n",
        "np.random.shuffle(arr)\n",
        "\n",
        "i powtórz dzielenie tablicy arr na 20% i 80% jeszcze raz. Lepiej?"
      ],
      "metadata": {
        "id": "e_D2zQ5HXTKT"
      }
    },
    {
      "cell_type": "code",
      "source": [
        "arr[:round(split_border), :]"
      ],
      "metadata": {
        "colab": {
          "base_uri": "https://localhost:8080/",
          "height": 166
        },
        "id": "DwtoHG2yXfjr",
        "outputId": "23191091-fe71-4c25-d3bd-52364b39bc2c"
      },
      "execution_count": 32,
      "outputs": [
        {
          "output_type": "error",
          "ename": "IndexError",
          "evalue": "ignored",
          "traceback": [
            "\u001b[0;31m---------------------------------------------------------------------------\u001b[0m",
            "\u001b[0;31mIndexError\u001b[0m                                Traceback (most recent call last)",
            "\u001b[0;32m<ipython-input-32-21b1ef9e72e3>\u001b[0m in \u001b[0;36m<module>\u001b[0;34m\u001b[0m\n\u001b[0;32m----> 1\u001b[0;31m \u001b[0marr\u001b[0m\u001b[0;34m[\u001b[0m\u001b[0;34m:\u001b[0m\u001b[0mround\u001b[0m\u001b[0;34m(\u001b[0m\u001b[0msplit_border\u001b[0m\u001b[0;34m)\u001b[0m\u001b[0;34m,\u001b[0m \u001b[0;34m:\u001b[0m\u001b[0;34m]\u001b[0m\u001b[0;34m\u001b[0m\u001b[0;34m\u001b[0m\u001b[0m\n\u001b[0m",
            "\u001b[0;31mIndexError\u001b[0m: too many indices for array: array is 1-dimensional, but 2 were indexed"
          ]
        }
      ]
    },
    {
      "cell_type": "code",
      "source": [
        "np.random.shuffle(arr)\n",
        "arr"
      ],
      "metadata": {
        "colab": {
          "base_uri": "https://localhost:8080/"
        },
        "id": "LXGo9H_VYTA_",
        "outputId": "bb29c777-1bc8-4cec-fde4-88fba12f1179"
      },
      "execution_count": 33,
      "outputs": [
        {
          "output_type": "execute_result",
          "data": {
            "text/plain": [
              "array([45, 35, 17, 11, 12, 30, 18,  5, 32, 49, 48, 23, 27, 26,  8, 14, 19,\n",
              "        2, 25, 33, 42, 15, 40,  7, 10, 13, 44, 39, 34, 38, 20,  4, 28,  1,\n",
              "        6,  3, 29, 16, 47,  0, 43, 41, 21, 37, 31, 24, 22, 46,  9, 36])"
            ]
          },
          "metadata": {},
          "execution_count": 33
        }
      ]
    },
    {
      "cell_type": "markdown",
      "source": [
        "7. Finiszujemy. Napiszemy kod, który dzieli dane na uczące i testowe oraz rozdziela je na zbiór feature i zbiór target. Ostateczne oznaczenia mają być takie:\n",
        "\n",
        "X_learn - 80% danych - wszystkie kolumny oprócz ostatniej\n",
        "X_test - 20% danych - wszystkie kolumny oprócz ostatniej\n",
        "\n",
        "y_learn - 80% danych - ostatnia kolumna\n",
        "\n",
        "y_test - 20% danych - ostatnia kolumna\n",
        "\n",
        "Oto dane:\n",
        "\n",
        "data = np.arange(500).reshape(100,5)\n",
        "\n",
        "Jeśli wiesz jak to zrobić, to jazda! A jak potrzebujesz dokładniejszych instrukcji, oto one:\n",
        "\n",
        "przetasuj dane, żeby były ułożone losowo\n",
        "\n",
        "\n",
        "\n"
      ],
      "metadata": {
        "id": "IWSffCl9Y4Qe"
      }
    },
    {
      "cell_type": "code",
      "source": [
        "data = np.arange(500).reshape(100,5)\n",
        "data"
      ],
      "metadata": {
        "colab": {
          "base_uri": "https://localhost:8080/"
        },
        "id": "DPUv3TYIYtIU",
        "outputId": "74d67c21-f8d3-4b5d-bddf-bbffefa69bed"
      },
      "execution_count": 36,
      "outputs": [
        {
          "output_type": "execute_result",
          "data": {
            "text/plain": [
              "array([[  0,   1,   2,   3,   4],\n",
              "       [  5,   6,   7,   8,   9],\n",
              "       [ 10,  11,  12,  13,  14],\n",
              "       [ 15,  16,  17,  18,  19],\n",
              "       [ 20,  21,  22,  23,  24],\n",
              "       [ 25,  26,  27,  28,  29],\n",
              "       [ 30,  31,  32,  33,  34],\n",
              "       [ 35,  36,  37,  38,  39],\n",
              "       [ 40,  41,  42,  43,  44],\n",
              "       [ 45,  46,  47,  48,  49],\n",
              "       [ 50,  51,  52,  53,  54],\n",
              "       [ 55,  56,  57,  58,  59],\n",
              "       [ 60,  61,  62,  63,  64],\n",
              "       [ 65,  66,  67,  68,  69],\n",
              "       [ 70,  71,  72,  73,  74],\n",
              "       [ 75,  76,  77,  78,  79],\n",
              "       [ 80,  81,  82,  83,  84],\n",
              "       [ 85,  86,  87,  88,  89],\n",
              "       [ 90,  91,  92,  93,  94],\n",
              "       [ 95,  96,  97,  98,  99],\n",
              "       [100, 101, 102, 103, 104],\n",
              "       [105, 106, 107, 108, 109],\n",
              "       [110, 111, 112, 113, 114],\n",
              "       [115, 116, 117, 118, 119],\n",
              "       [120, 121, 122, 123, 124],\n",
              "       [125, 126, 127, 128, 129],\n",
              "       [130, 131, 132, 133, 134],\n",
              "       [135, 136, 137, 138, 139],\n",
              "       [140, 141, 142, 143, 144],\n",
              "       [145, 146, 147, 148, 149],\n",
              "       [150, 151, 152, 153, 154],\n",
              "       [155, 156, 157, 158, 159],\n",
              "       [160, 161, 162, 163, 164],\n",
              "       [165, 166, 167, 168, 169],\n",
              "       [170, 171, 172, 173, 174],\n",
              "       [175, 176, 177, 178, 179],\n",
              "       [180, 181, 182, 183, 184],\n",
              "       [185, 186, 187, 188, 189],\n",
              "       [190, 191, 192, 193, 194],\n",
              "       [195, 196, 197, 198, 199],\n",
              "       [200, 201, 202, 203, 204],\n",
              "       [205, 206, 207, 208, 209],\n",
              "       [210, 211, 212, 213, 214],\n",
              "       [215, 216, 217, 218, 219],\n",
              "       [220, 221, 222, 223, 224],\n",
              "       [225, 226, 227, 228, 229],\n",
              "       [230, 231, 232, 233, 234],\n",
              "       [235, 236, 237, 238, 239],\n",
              "       [240, 241, 242, 243, 244],\n",
              "       [245, 246, 247, 248, 249],\n",
              "       [250, 251, 252, 253, 254],\n",
              "       [255, 256, 257, 258, 259],\n",
              "       [260, 261, 262, 263, 264],\n",
              "       [265, 266, 267, 268, 269],\n",
              "       [270, 271, 272, 273, 274],\n",
              "       [275, 276, 277, 278, 279],\n",
              "       [280, 281, 282, 283, 284],\n",
              "       [285, 286, 287, 288, 289],\n",
              "       [290, 291, 292, 293, 294],\n",
              "       [295, 296, 297, 298, 299],\n",
              "       [300, 301, 302, 303, 304],\n",
              "       [305, 306, 307, 308, 309],\n",
              "       [310, 311, 312, 313, 314],\n",
              "       [315, 316, 317, 318, 319],\n",
              "       [320, 321, 322, 323, 324],\n",
              "       [325, 326, 327, 328, 329],\n",
              "       [330, 331, 332, 333, 334],\n",
              "       [335, 336, 337, 338, 339],\n",
              "       [340, 341, 342, 343, 344],\n",
              "       [345, 346, 347, 348, 349],\n",
              "       [350, 351, 352, 353, 354],\n",
              "       [355, 356, 357, 358, 359],\n",
              "       [360, 361, 362, 363, 364],\n",
              "       [365, 366, 367, 368, 369],\n",
              "       [370, 371, 372, 373, 374],\n",
              "       [375, 376, 377, 378, 379],\n",
              "       [380, 381, 382, 383, 384],\n",
              "       [385, 386, 387, 388, 389],\n",
              "       [390, 391, 392, 393, 394],\n",
              "       [395, 396, 397, 398, 399],\n",
              "       [400, 401, 402, 403, 404],\n",
              "       [405, 406, 407, 408, 409],\n",
              "       [410, 411, 412, 413, 414],\n",
              "       [415, 416, 417, 418, 419],\n",
              "       [420, 421, 422, 423, 424],\n",
              "       [425, 426, 427, 428, 429],\n",
              "       [430, 431, 432, 433, 434],\n",
              "       [435, 436, 437, 438, 439],\n",
              "       [440, 441, 442, 443, 444],\n",
              "       [445, 446, 447, 448, 449],\n",
              "       [450, 451, 452, 453, 454],\n",
              "       [455, 456, 457, 458, 459],\n",
              "       [460, 461, 462, 463, 464],\n",
              "       [465, 466, 467, 468, 469],\n",
              "       [470, 471, 472, 473, 474],\n",
              "       [475, 476, 477, 478, 479],\n",
              "       [480, 481, 482, 483, 484],\n",
              "       [485, 486, 487, 488, 489],\n",
              "       [490, 491, 492, 493, 494],\n",
              "       [495, 496, 497, 498, 499]])"
            ]
          },
          "metadata": {},
          "execution_count": 36
        }
      ]
    },
    {
      "cell_type": "code",
      "source": [
        "np.random.shuffle(data)\n",
        "data"
      ],
      "metadata": {
        "colab": {
          "base_uri": "https://localhost:8080/"
        },
        "id": "5lQIVIxiZejb",
        "outputId": "d3120ee2-ac8b-4639-fc04-5207ac4f7346"
      },
      "execution_count": 38,
      "outputs": [
        {
          "output_type": "execute_result",
          "data": {
            "text/plain": [
              "array([[440, 441, 442, 443, 444],\n",
              "       [ 60,  61,  62,  63,  64],\n",
              "       [ 50,  51,  52,  53,  54],\n",
              "       [240, 241, 242, 243, 244],\n",
              "       [405, 406, 407, 408, 409],\n",
              "       [480, 481, 482, 483, 484],\n",
              "       [ 75,  76,  77,  78,  79],\n",
              "       [375, 376, 377, 378, 379],\n",
              "       [ 80,  81,  82,  83,  84],\n",
              "       [195, 196, 197, 198, 199],\n",
              "       [320, 321, 322, 323, 324],\n",
              "       [290, 291, 292, 293, 294],\n",
              "       [130, 131, 132, 133, 134],\n",
              "       [295, 296, 297, 298, 299],\n",
              "       [335, 336, 337, 338, 339],\n",
              "       [385, 386, 387, 388, 389],\n",
              "       [420, 421, 422, 423, 424],\n",
              "       [ 65,  66,  67,  68,  69],\n",
              "       [305, 306, 307, 308, 309],\n",
              "       [225, 226, 227, 228, 229],\n",
              "       [435, 436, 437, 438, 439],\n",
              "       [100, 101, 102, 103, 104],\n",
              "       [310, 311, 312, 313, 314],\n",
              "       [ 40,  41,  42,  43,  44],\n",
              "       [285, 286, 287, 288, 289],\n",
              "       [ 95,  96,  97,  98,  99],\n",
              "       [  0,   1,   2,   3,   4],\n",
              "       [450, 451, 452, 453, 454],\n",
              "       [180, 181, 182, 183, 184],\n",
              "       [110, 111, 112, 113, 114],\n",
              "       [345, 346, 347, 348, 349],\n",
              "       [170, 171, 172, 173, 174],\n",
              "       [330, 331, 332, 333, 334],\n",
              "       [155, 156, 157, 158, 159],\n",
              "       [445, 446, 447, 448, 449],\n",
              "       [325, 326, 327, 328, 329],\n",
              "       [270, 271, 272, 273, 274],\n",
              "       [125, 126, 127, 128, 129],\n",
              "       [215, 216, 217, 218, 219],\n",
              "       [425, 426, 427, 428, 429],\n",
              "       [ 30,  31,  32,  33,  34],\n",
              "       [  5,   6,   7,   8,   9],\n",
              "       [165, 166, 167, 168, 169],\n",
              "       [140, 141, 142, 143, 144],\n",
              "       [365, 366, 367, 368, 369],\n",
              "       [490, 491, 492, 493, 494],\n",
              "       [145, 146, 147, 148, 149],\n",
              "       [ 45,  46,  47,  48,  49],\n",
              "       [200, 201, 202, 203, 204],\n",
              "       [430, 431, 432, 433, 434],\n",
              "       [ 70,  71,  72,  73,  74],\n",
              "       [ 20,  21,  22,  23,  24],\n",
              "       [245, 246, 247, 248, 249],\n",
              "       [300, 301, 302, 303, 304],\n",
              "       [355, 356, 357, 358, 359],\n",
              "       [455, 456, 457, 458, 459],\n",
              "       [ 25,  26,  27,  28,  29],\n",
              "       [250, 251, 252, 253, 254],\n",
              "       [ 10,  11,  12,  13,  14],\n",
              "       [360, 361, 362, 363, 364],\n",
              "       [ 15,  16,  17,  18,  19],\n",
              "       [410, 411, 412, 413, 414],\n",
              "       [260, 261, 262, 263, 264],\n",
              "       [185, 186, 187, 188, 189],\n",
              "       [135, 136, 137, 138, 139],\n",
              "       [230, 231, 232, 233, 234],\n",
              "       [ 90,  91,  92,  93,  94],\n",
              "       [275, 276, 277, 278, 279],\n",
              "       [ 85,  86,  87,  88,  89],\n",
              "       [205, 206, 207, 208, 209],\n",
              "       [120, 121, 122, 123, 124],\n",
              "       [390, 391, 392, 393, 394],\n",
              "       [115, 116, 117, 118, 119],\n",
              "       [160, 161, 162, 163, 164],\n",
              "       [255, 256, 257, 258, 259],\n",
              "       [475, 476, 477, 478, 479],\n",
              "       [175, 176, 177, 178, 179],\n",
              "       [150, 151, 152, 153, 154],\n",
              "       [210, 211, 212, 213, 214],\n",
              "       [495, 496, 497, 498, 499],\n",
              "       [190, 191, 192, 193, 194],\n",
              "       [220, 221, 222, 223, 224],\n",
              "       [465, 466, 467, 468, 469],\n",
              "       [315, 316, 317, 318, 319],\n",
              "       [340, 341, 342, 343, 344],\n",
              "       [415, 416, 417, 418, 419],\n",
              "       [370, 371, 372, 373, 374],\n",
              "       [105, 106, 107, 108, 109],\n",
              "       [470, 471, 472, 473, 474],\n",
              "       [235, 236, 237, 238, 239],\n",
              "       [395, 396, 397, 398, 399],\n",
              "       [380, 381, 382, 383, 384],\n",
              "       [400, 401, 402, 403, 404],\n",
              "       [485, 486, 487, 488, 489],\n",
              "       [350, 351, 352, 353, 354],\n",
              "       [460, 461, 462, 463, 464],\n",
              "       [ 55,  56,  57,  58,  59],\n",
              "       [ 35,  36,  37,  38,  39],\n",
              "       [265, 266, 267, 268, 269],\n",
              "       [280, 281, 282, 283, 284]])"
            ]
          },
          "metadata": {},
          "execution_count": 38
        }
      ]
    },
    {
      "cell_type": "markdown",
      "source": [
        "Podobnie, jak w kodzie powyżej wyznacz nową wartość split_border, która określa ile wierszy będzie wziętych do danych testowych\n",
        "\n",
        "Wyznacz X_test - wiersze od początku do split_border, wszystkie kolumny oprócz ostatniej\n",
        "\n",
        "Wyznacz X_train - wiersze od split border do końca, wszystkie kolumny oprócz ostatniej\n",
        "\n",
        "Wyznacz y_test - wiersze od początku do split_border, tylko ostatnia kolumna\n",
        "\n",
        "Wyznacz y_train - wiersze od split_border do końca, tylko ostatnia kolumna"
      ],
      "metadata": {
        "id": "Q8a0CcaqZteD"
      }
    },
    {
      "cell_type": "code",
      "source": [
        "split_level = 0.2\n",
        "num_rows = data.shape[0]\n",
        "split_border = num_rows * split_level"
      ],
      "metadata": {
        "id": "Ve39ef7fZi_Q"
      },
      "execution_count": 39,
      "outputs": []
    },
    {
      "cell_type": "code",
      "source": [
        "X_train = data[round(split_border):,:-1]\n",
        "X_test = data[:round(split_border),:-1]\n",
        "y_test = data[:round(split_border),-1]\n",
        "y_train = data[round(split_border):,-1]"
      ],
      "metadata": {
        "id": "XW8SQPt7aqrl"
      },
      "execution_count": 40,
      "outputs": []
    },
    {
      "cell_type": "code",
      "source": [
        "data.shape"
      ],
      "metadata": {
        "colab": {
          "base_uri": "https://localhost:8080/"
        },
        "id": "ZcPBuBHDcFrC",
        "outputId": "bdddc4a5-8e8c-4945-ed2d-4ab026a4edbf"
      },
      "execution_count": 41,
      "outputs": [
        {
          "output_type": "execute_result",
          "data": {
            "text/plain": [
              "(100, 5)"
            ]
          },
          "metadata": {},
          "execution_count": 41
        }
      ]
    },
    {
      "cell_type": "markdown",
      "source": [
        "Podobne czynności, co w punkcie 7, są wykonywane w train_test_split, a teraz ta funkcja nie jest już dla Ciebie tajemnicza. Fajnie, co?\n",
        "\n",
        "from sklearn.model_selection import train_test_split\n",
        " \n",
        "X_train, X_test, y_train, y_test = train_test_split(\n",
        "        data[:, :-1], data[:, -1], test_size=0.2, shuffle = True)"
      ],
      "metadata": {
        "id": "kcxK9OwjcR6a"
      }
    },
    {
      "cell_type": "code",
      "source": [],
      "metadata": {
        "id": "XwB95na1cICV"
      },
      "execution_count": null,
      "outputs": []
    },
    {
      "cell_type": "code",
      "source": [],
      "metadata": {
        "id": "oOMQQ9t7Zh5g"
      },
      "execution_count": null,
      "outputs": []
    },
    {
      "cell_type": "code",
      "source": [],
      "metadata": {
        "id": "UXBgL7eyZWZP"
      },
      "execution_count": null,
      "outputs": []
    },
    {
      "cell_type": "code",
      "source": [],
      "metadata": {
        "id": "Hz-7CwQuX8-D"
      },
      "execution_count": null,
      "outputs": []
    },
    {
      "cell_type": "code",
      "source": [],
      "metadata": {
        "id": "tO2-YuiuXya0"
      },
      "execution_count": null,
      "outputs": []
    },
    {
      "cell_type": "code",
      "source": [],
      "metadata": {
        "id": "fiPwV0hZXka1"
      },
      "execution_count": null,
      "outputs": []
    },
    {
      "cell_type": "code",
      "source": [],
      "metadata": {
        "id": "iEYjPS97XDvA"
      },
      "execution_count": null,
      "outputs": []
    },
    {
      "cell_type": "code",
      "source": [],
      "metadata": {
        "id": "n8KlmKhDUVS3"
      },
      "execution_count": null,
      "outputs": []
    },
    {
      "cell_type": "code",
      "source": [],
      "metadata": {
        "id": "rIAxqm_kUNrH"
      },
      "execution_count": null,
      "outputs": []
    },
    {
      "cell_type": "code",
      "source": [],
      "metadata": {
        "id": "XKidMcN8TskT"
      },
      "execution_count": null,
      "outputs": []
    },
    {
      "cell_type": "code",
      "source": [],
      "metadata": {
        "id": "x9G7AsekHEn7"
      },
      "execution_count": null,
      "outputs": []
    },
    {
      "cell_type": "code",
      "source": [],
      "metadata": {
        "id": "zPPL2Ji8FfHK"
      },
      "execution_count": null,
      "outputs": []
    },
    {
      "cell_type": "code",
      "source": [],
      "metadata": {
        "id": "Racpa7CKFSeK"
      },
      "execution_count": null,
      "outputs": []
    },
    {
      "cell_type": "code",
      "source": [],
      "metadata": {
        "id": "IAu2iRq0EyeA"
      },
      "execution_count": null,
      "outputs": []
    },
    {
      "cell_type": "code",
      "source": [],
      "metadata": {
        "id": "jp8jjuvmElOs"
      },
      "execution_count": null,
      "outputs": []
    },
    {
      "cell_type": "code",
      "source": [],
      "metadata": {
        "id": "yAv6DkUJEj73"
      },
      "execution_count": null,
      "outputs": []
    },
    {
      "cell_type": "code",
      "source": [],
      "metadata": {
        "id": "Q4lRPp16DrYP"
      },
      "execution_count": null,
      "outputs": []
    },
    {
      "cell_type": "code",
      "source": [],
      "metadata": {
        "id": "1DIdZM9TDksi"
      },
      "execution_count": null,
      "outputs": []
    },
    {
      "cell_type": "code",
      "source": [],
      "metadata": {
        "id": "FtrvX5owC9yZ"
      },
      "execution_count": null,
      "outputs": []
    },
    {
      "cell_type": "code",
      "source": [],
      "metadata": {
        "id": "4O8vsCU7C6hE"
      },
      "execution_count": null,
      "outputs": []
    },
    {
      "cell_type": "code",
      "source": [],
      "metadata": {
        "id": "WmK8jCQTCS5E"
      },
      "execution_count": null,
      "outputs": []
    },
    {
      "cell_type": "code",
      "source": [],
      "metadata": {
        "id": "px2mm0gxCH8Q"
      },
      "execution_count": null,
      "outputs": []
    }
  ]
}