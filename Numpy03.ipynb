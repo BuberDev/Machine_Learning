{
  "nbformat": 4,
  "nbformat_minor": 0,
  "metadata": {
    "colab": {
      "provenance": [],
      "authorship_tag": "ABX9TyP+yWjV9ctqyRHYQ6D3Kp/B",
      "include_colab_link": true
    },
    "kernelspec": {
      "name": "python3",
      "display_name": "Python 3"
    },
    "language_info": {
      "name": "python"
    }
  },
  "cells": [
    {
      "cell_type": "markdown",
      "metadata": {
        "id": "view-in-github",
        "colab_type": "text"
      },
      "source": [
        "<a href=\"https://colab.research.google.com/github/BuberDev/Machine_Learning/blob/main/Numpy03.ipynb\" target=\"_parent\"><img src=\"https://colab.research.google.com/assets/colab-badge.svg\" alt=\"Open In Colab\"/></a>"
      ]
    },
    {
      "cell_type": "code",
      "execution_count": 1,
      "metadata": {
        "id": "nvZcMdnqoqpy"
      },
      "outputs": [],
      "source": [
        "import numpy as np"
      ]
    },
    {
      "cell_type": "markdown",
      "source": [
        "1. W zmiennej X zapisz tablicę dwuwymiarową z kolejnymi liczbami od 1 do 25. (Skorzystaj z arange() i reshape())"
      ],
      "metadata": {
        "id": "JcUtAsifpgsm"
      }
    },
    {
      "cell_type": "code",
      "source": [
        "x = np.arange(25).reshape(5,5)\n",
        "x"
      ],
      "metadata": {
        "colab": {
          "base_uri": "https://localhost:8080/"
        },
        "id": "0DjnTEaioyH2",
        "outputId": "9bd8ffc5-3af5-42f2-e8f1-80e82ce72931"
      },
      "execution_count": 7,
      "outputs": [
        {
          "output_type": "execute_result",
          "data": {
            "text/plain": [
              "array([[ 0,  1,  2,  3,  4],\n",
              "       [ 5,  6,  7,  8,  9],\n",
              "       [10, 11, 12, 13, 14],\n",
              "       [15, 16, 17, 18, 19],\n",
              "       [20, 21, 22, 23, 24]])"
            ]
          },
          "metadata": {},
          "execution_count": 7
        }
      ]
    },
    {
      "cell_type": "markdown",
      "source": [
        "________________________________________________________________\n",
        "\n",
        "2. W zmiennej Ones zapisz tablicę o takim samym kształcie jak X, ale całą wypełnioną tylko jedynkami. (Skorzystaj z ones())"
      ],
      "metadata": {
        "id": "P0hqGXzqplxV"
      }
    },
    {
      "cell_type": "code",
      "source": [
        "Ones = np.ones(x.shape)\n",
        "Ones"
      ],
      "metadata": {
        "colab": {
          "base_uri": "https://localhost:8080/"
        },
        "id": "XZshkaWupd8W",
        "outputId": "5e6b2cda-9568-4805-e82f-e9edc83b8ff8"
      },
      "execution_count": 11,
      "outputs": [
        {
          "output_type": "execute_result",
          "data": {
            "text/plain": [
              "array([[1., 1., 1., 1., 1.],\n",
              "       [1., 1., 1., 1., 1.],\n",
              "       [1., 1., 1., 1., 1.],\n",
              "       [1., 1., 1., 1., 1.],\n",
              "       [1., 1., 1., 1., 1.]])"
            ]
          },
          "metadata": {},
          "execution_count": 11
        }
      ]
    },
    {
      "cell_type": "markdown",
      "source": [
        "______________________________________________________________________________\n",
        "\n",
        "3. Kiedy mnożąc przez siebie zwykłe liczby, chcesz żeby liczba pomnożona przez jakąś wartość dawała w wyniku tą samą liczbę, to tą jakąś wartością powinno być 1 (tzw. element neutralny). Czy tablica Ones jest taką \"macierzową jedynką\"? Sprawdź to  mnożąc przez siebie X i Ones. Czy wynik jest równy X? (Skorzytaj z dot() )"
      ],
      "metadata": {
        "id": "JrGx_0axqGxv"
      }
    },
    {
      "cell_type": "code",
      "source": [
        "np.dot(x,Ones)"
      ],
      "metadata": {
        "colab": {
          "base_uri": "https://localhost:8080/"
        },
        "id": "VfWt1skTqAot",
        "outputId": "7193c89f-229b-47a0-f606-1c84babdc706"
      },
      "execution_count": 12,
      "outputs": [
        {
          "output_type": "execute_result",
          "data": {
            "text/plain": [
              "array([[ 10.,  10.,  10.,  10.,  10.],\n",
              "       [ 35.,  35.,  35.,  35.,  35.],\n",
              "       [ 60.,  60.,  60.,  60.,  60.],\n",
              "       [ 85.,  85.,  85.,  85.,  85.],\n",
              "       [110., 110., 110., 110., 110.]])"
            ]
          },
          "metadata": {},
          "execution_count": 12
        }
      ]
    },
    {
      "cell_type": "markdown",
      "source": [
        "___________________________\n",
        "\n",
        "\n",
        "4. W algebrze macierzy elementem neutralnym jest macierz zer, wypełniona jedynkami na przekątnej.\n",
        "\n",
        "- Do zmiennej diag zapisz macierz o takich wymiarach jak X i wypełnioną samymi zerami (skorzystaj z zeros())\n",
        "\n",
        "- Wypełnij diag jedynkami na przekątnej. (Skorzystaj z fill_diagonal()\n",
        "\n",
        "- Pomnóż przez siebie X i diag i sprawdź czy wynik to X. (Skorzystaj z dot())"
      ],
      "metadata": {
        "id": "sLpLu-AEqxAd"
      }
    },
    {
      "cell_type": "code",
      "source": [
        "diag = np.zeros(x.shape)\n",
        "diag"
      ],
      "metadata": {
        "colab": {
          "base_uri": "https://localhost:8080/"
        },
        "id": "_4LLHagfqjAY",
        "outputId": "88f1c201-1e47-41df-f064-1fe259265ea1"
      },
      "execution_count": 15,
      "outputs": [
        {
          "output_type": "execute_result",
          "data": {
            "text/plain": [
              "array([[0., 0., 0., 0., 0.],\n",
              "       [0., 0., 0., 0., 0.],\n",
              "       [0., 0., 0., 0., 0.],\n",
              "       [0., 0., 0., 0., 0.],\n",
              "       [0., 0., 0., 0., 0.]])"
            ]
          },
          "metadata": {},
          "execution_count": 15
        }
      ]
    },
    {
      "cell_type": "code",
      "source": [
        "np.fill_diagonal(diag,1)\n",
        "diag"
      ],
      "metadata": {
        "colab": {
          "base_uri": "https://localhost:8080/"
        },
        "id": "Hq1h7Lclrcbr",
        "outputId": "7bd9584c-e707-4c73-f1b8-8ff892803911"
      },
      "execution_count": 16,
      "outputs": [
        {
          "output_type": "execute_result",
          "data": {
            "text/plain": [
              "array([[1., 0., 0., 0., 0.],\n",
              "       [0., 1., 0., 0., 0.],\n",
              "       [0., 0., 1., 0., 0.],\n",
              "       [0., 0., 0., 1., 0.],\n",
              "       [0., 0., 0., 0., 1.]])"
            ]
          },
          "metadata": {},
          "execution_count": 16
        }
      ]
    },
    {
      "cell_type": "code",
      "source": [
        "np.dot(x,diag)"
      ],
      "metadata": {
        "colab": {
          "base_uri": "https://localhost:8080/"
        },
        "id": "cqIhUbibrzXP",
        "outputId": "b73b1d20-3fd8-4fc8-af10-d0794c0c8672"
      },
      "execution_count": 17,
      "outputs": [
        {
          "output_type": "execute_result",
          "data": {
            "text/plain": [
              "array([[ 0.,  1.,  2.,  3.,  4.],\n",
              "       [ 5.,  6.,  7.,  8.,  9.],\n",
              "       [10., 11., 12., 13., 14.],\n",
              "       [15., 16., 17., 18., 19.],\n",
              "       [20., 21., 22., 23., 24.]])"
            ]
          },
          "metadata": {},
          "execution_count": 17
        }
      ]
    },
    {
      "cell_type": "markdown",
      "source": [
        "_________________________\n",
        "\n",
        "5. Wyświetl tablicę o wymiarach takich jak X, gdzie (we wszystkich punktach korzystaj z where):\n",
        "\n",
        "- występują tylko jedynki i zera. Jedynki mają się pojawić tam, gdzie w X występuje wartość większa od 10, a zero w pozostałych przypadkach\n",
        "\n",
        "- występują tylko jedynki i zera. Jedynki mają się pojawiać tam, gdzie w X występuje wartość parzysta, a zero w pozostałych przypadkach\n",
        "\n",
        "- występują tylko liczby parzyste. Jeśli w X wartość była parzysta, to należy ją przepisać. Jeśli była nieparzysta , to dodać 1-"
      ],
      "metadata": {
        "id": "5oMkxLTMr_n5"
      }
    },
    {
      "cell_type": "code",
      "source": [
        "np.where(x > 10, 1,0)"
      ],
      "metadata": {
        "colab": {
          "base_uri": "https://localhost:8080/"
        },
        "id": "72e-vh4fr5ws",
        "outputId": "04ce18a9-07e8-4f1a-96a5-c621e13f189a"
      },
      "execution_count": 18,
      "outputs": [
        {
          "output_type": "execute_result",
          "data": {
            "text/plain": [
              "array([[0, 0, 0, 0, 0],\n",
              "       [0, 0, 0, 0, 0],\n",
              "       [0, 1, 1, 1, 1],\n",
              "       [1, 1, 1, 1, 1],\n",
              "       [1, 1, 1, 1, 1]])"
            ]
          },
          "metadata": {},
          "execution_count": 18
        }
      ]
    },
    {
      "cell_type": "code",
      "source": [
        "np.where(x%2==0,1,0)"
      ],
      "metadata": {
        "colab": {
          "base_uri": "https://localhost:8080/"
        },
        "id": "ykyGWTiTsqLA",
        "outputId": "ed3e40fb-a612-4529-8655-48baaccd64dc"
      },
      "execution_count": 19,
      "outputs": [
        {
          "output_type": "execute_result",
          "data": {
            "text/plain": [
              "array([[1, 0, 1, 0, 1],\n",
              "       [0, 1, 0, 1, 0],\n",
              "       [1, 0, 1, 0, 1],\n",
              "       [0, 1, 0, 1, 0],\n",
              "       [1, 0, 1, 0, 1]])"
            ]
          },
          "metadata": {},
          "execution_count": 19
        }
      ]
    },
    {
      "cell_type": "code",
      "source": [
        "np.where(x % 2 == 0, x, 0)"
      ],
      "metadata": {
        "colab": {
          "base_uri": "https://localhost:8080/"
        },
        "id": "C1uTFoIPs2Eh",
        "outputId": "c6108095-05db-4477-c2dc-c83b8cac19e9"
      },
      "execution_count": 20,
      "outputs": [
        {
          "output_type": "execute_result",
          "data": {
            "text/plain": [
              "array([[ 0,  0,  2,  0,  4],\n",
              "       [ 0,  6,  0,  8,  0],\n",
              "       [10,  0, 12,  0, 14],\n",
              "       [ 0, 16,  0, 18,  0],\n",
              "       [20,  0, 22,  0, 24]])"
            ]
          },
          "metadata": {},
          "execution_count": 20
        }
      ]
    },
    {
      "cell_type": "markdown",
      "source": [
        "______________________\n",
        "\n",
        "\n",
        "6. Utwórz tablicę X_bis wyznaczoną w następujący sposób. Dla wartości w X większych od 10 zwrócona jest wartość 2 razy większa, a dla pozostałych 0. Policz ile jest elementów niezerowych w X_bis (skorzystaj z count_nonzero())\n",
        "\n"
      ],
      "metadata": {
        "id": "oo9TT8B_tnH7"
      }
    },
    {
      "cell_type": "code",
      "source": [
        "X_bis = np.where(x > 10, x *2,0)\n",
        "X_bis"
      ],
      "metadata": {
        "colab": {
          "base_uri": "https://localhost:8080/"
        },
        "id": "3wQ0hyO7tezg",
        "outputId": "faf8648b-01ce-46f8-abba-92b0f73189d5"
      },
      "execution_count": 22,
      "outputs": [
        {
          "output_type": "execute_result",
          "data": {
            "text/plain": [
              "array([[ 0,  0,  0,  0,  0],\n",
              "       [ 0,  0,  0,  0,  0],\n",
              "       [ 0, 22, 24, 26, 28],\n",
              "       [30, 32, 34, 36, 38],\n",
              "       [40, 42, 44, 46, 48]])"
            ]
          },
          "metadata": {},
          "execution_count": 22
        }
      ]
    },
    {
      "cell_type": "code",
      "source": [
        "np.count_nonzero(X_bis)"
      ],
      "metadata": {
        "colab": {
          "base_uri": "https://localhost:8080/"
        },
        "id": "bMI8RcO0uTxf",
        "outputId": "803ac40c-155e-4d3d-b879-3bcf5a9ead23"
      },
      "execution_count": 23,
      "outputs": [
        {
          "output_type": "execute_result",
          "data": {
            "text/plain": [
              "14"
            ]
          },
          "metadata": {},
          "execution_count": 23
        }
      ]
    },
    {
      "cell_type": "markdown",
      "source": [
        "________________\n",
        "\n",
        "\n",
        "7. Oto dwie tablice:\n",
        "\n",
        "  x = np.array([[10,20,30], [40,50,60]])\n",
        "\n",
        "  y = np.array([[100], [200]])\n",
        "\n",
        "\n",
        "Dodaj (a właściwie doklej) do tablicy x tablicę y jako nową kolumnę. (Skorzystaj z append() z parametrem axis=1)"
      ],
      "metadata": {
        "id": "VDjqRu7BuiWH"
      }
    },
    {
      "cell_type": "code",
      "source": [
        "x = np.array([[10,20,30], [40,50,60]])\n",
        "y = np.array([[100], [200]])"
      ],
      "metadata": {
        "id": "Nlg-mOs2uc8Y"
      },
      "execution_count": 24,
      "outputs": []
    },
    {
      "cell_type": "code",
      "source": [
        "np.append(x, y, axis=1)"
      ],
      "metadata": {
        "colab": {
          "base_uri": "https://localhost:8080/"
        },
        "id": "67zJO2EPvDYx",
        "outputId": "eb17a8ab-55dd-47c4-95c6-f6b8a5409afb"
      },
      "execution_count": 25,
      "outputs": [
        {
          "output_type": "execute_result",
          "data": {
            "text/plain": [
              "array([[ 10,  20,  30, 100],\n",
              "       [ 40,  50,  60, 200]])"
            ]
          },
          "metadata": {},
          "execution_count": 25
        }
      ]
    },
    {
      "cell_type": "markdown",
      "source": [
        "_________\n",
        "\n",
        "\n",
        "8. Oto dwie tablice:\n",
        "\n",
        "    x = np.array([[10,20,30], [40,50,60]])\n",
        "    \n",
        "    y = np.array([[100, 200, 300]])\n",
        "\n",
        "\n",
        "Dodaj (a właściwie doklej) do tablicy x tablicę y, jako nowy wiersz"
      ],
      "metadata": {
        "id": "TTHULoC3vXYu"
      }
    },
    {
      "cell_type": "code",
      "source": [
        "x = np.array([[10,20,30], [40,50,60]])\n",
        "y = np.array([[100, 200, 300]])"
      ],
      "metadata": {
        "id": "mITHYxeyvRau"
      },
      "execution_count": 26,
      "outputs": []
    },
    {
      "cell_type": "code",
      "source": [
        "np.append(x, y, axis=0)"
      ],
      "metadata": {
        "colab": {
          "base_uri": "https://localhost:8080/"
        },
        "id": "WNZ31U4wvgf0",
        "outputId": "bb7e6418-80db-4f1e-fc50-d3cfa9f2d1c1"
      },
      "execution_count": 27,
      "outputs": [
        {
          "output_type": "execute_result",
          "data": {
            "text/plain": [
              "array([[ 10,  20,  30],\n",
              "       [ 40,  50,  60],\n",
              "       [100, 200, 300]])"
            ]
          },
          "metadata": {},
          "execution_count": 27
        }
      ]
    },
    {
      "cell_type": "markdown",
      "source": [
        "_______\n",
        "\n",
        "9. Do tablicy x z poprzedniego punktu, doklej tablicę x jako nowe wiersze (wiersze będą zduplikowane)"
      ],
      "metadata": {
        "id": "IpXDuUcevye3"
      }
    },
    {
      "cell_type": "code",
      "source": [
        "x = np.array([[10,20,30], [40,50,60]])"
      ],
      "metadata": {
        "id": "alKp_8VqvuVd"
      },
      "execution_count": 28,
      "outputs": []
    },
    {
      "cell_type": "code",
      "source": [
        "np.append(x,x, axis=1)"
      ],
      "metadata": {
        "colab": {
          "base_uri": "https://localhost:8080/"
        },
        "id": "xvnl8LAawAJn",
        "outputId": "b2f1572e-a3ab-4964-ec5e-1911f6c11c14"
      },
      "execution_count": 29,
      "outputs": [
        {
          "output_type": "execute_result",
          "data": {
            "text/plain": [
              "array([[10, 20, 30, 10, 20, 30],\n",
              "       [40, 50, 60, 40, 50, 60]])"
            ]
          },
          "metadata": {},
          "execution_count": 29
        }
      ]
    },
    {
      "cell_type": "code",
      "source": [],
      "metadata": {
        "id": "D0pvuR-BwGmr"
      },
      "execution_count": null,
      "outputs": []
    },
    {
      "cell_type": "code",
      "source": [],
      "metadata": {
        "id": "nnDNBni9uRYF"
      },
      "execution_count": null,
      "outputs": []
    },
    {
      "cell_type": "code",
      "source": [],
      "metadata": {
        "id": "qLJNxIiCrY-S"
      },
      "execution_count": null,
      "outputs": []
    },
    {
      "cell_type": "code",
      "source": [],
      "metadata": {
        "id": "rK4RV3c0rVVt"
      },
      "execution_count": null,
      "outputs": []
    },
    {
      "cell_type": "code",
      "source": [],
      "metadata": {
        "id": "0d65LOV8p3FV"
      },
      "execution_count": null,
      "outputs": []
    },
    {
      "cell_type": "code",
      "source": [],
      "metadata": {
        "id": "r6_4ykBNp0tS"
      },
      "execution_count": null,
      "outputs": []
    },
    {
      "cell_type": "code",
      "source": [],
      "metadata": {
        "id": "4g2QweCfpwQU"
      },
      "execution_count": null,
      "outputs": []
    },
    {
      "cell_type": "code",
      "source": [],
      "metadata": {
        "id": "lH-XcW93pWgk"
      },
      "execution_count": null,
      "outputs": []
    },
    {
      "cell_type": "code",
      "source": [],
      "metadata": {
        "id": "r_sLr-KQpTyi"
      },
      "execution_count": null,
      "outputs": []
    },
    {
      "cell_type": "code",
      "source": [],
      "metadata": {
        "id": "McJFy4PwpPkP"
      },
      "execution_count": null,
      "outputs": []
    },
    {
      "cell_type": "code",
      "source": [],
      "metadata": {
        "id": "B4uCNNc5pM19"
      },
      "execution_count": null,
      "outputs": []
    },
    {
      "cell_type": "code",
      "source": [],
      "metadata": {
        "id": "75pgUYElpLa9"
      },
      "execution_count": null,
      "outputs": []
    }
  ]
}