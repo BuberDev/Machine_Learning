{
  "nbformat": 4,
  "nbformat_minor": 0,
  "metadata": {
    "colab": {
      "provenance": [],
      "gpuType": "T4",
      "authorship_tag": "ABX9TyPqLbHOKZEC6ElyudnrLzXz",
      "include_colab_link": true
    },
    "kernelspec": {
      "name": "python3",
      "display_name": "Python 3"
    },
    "language_info": {
      "name": "python"
    },
    "accelerator": "GPU"
  },
  "cells": [
    {
      "cell_type": "markdown",
      "metadata": {
        "id": "view-in-github",
        "colab_type": "text"
      },
      "source": [
        "<a href=\"https://colab.research.google.com/github/BuberDev/Machine_Learning/blob/main/Klasyfikacja_wieloklasowa.ipynb\" target=\"_parent\"><img src=\"https://colab.research.google.com/assets/colab-badge.svg\" alt=\"Open In Colab\"/></a>"
      ]
    },
    {
      "cell_type": "code",
      "execution_count": 1,
      "metadata": {
        "colab": {
          "base_uri": "https://localhost:8080/",
          "height": 36
        },
        "id": "3SLRlJ3HGMgJ",
        "outputId": "1a6a836f-c1c6-4568-c1f4-92477ef7cd47"
      },
      "outputs": [
        {
          "output_type": "execute_result",
          "data": {
            "text/plain": [
              "'2.12.0'"
            ],
            "application/vnd.google.colaboratory.intrinsic+json": {
              "type": "string"
            }
          },
          "metadata": {},
          "execution_count": 1
        }
      ],
      "source": [
        " # Import blbliotek\n",
        "\n",
        "\n",
        " import pandas as pd\n",
        " import numpy as np\n",
        " import matplotlib.pyplot as plt\n",
        " import seaborn as sns\n",
        "\n",
        " import tensorflow as tf\n",
        " from tensorflow.keras.models import Sequential\n",
        " from tensorflow.keras.datasets.fashion_mnist import load_data\n",
        " from tensorflow.keras.layers import Dense, Flatten\n",
        "\n",
        " np.set_printoptions(precision=12, suppress=True, linewidth=150)\n",
        " pd.options.display.float_format = '{:.6f}'.format\n",
        " sns.set()\n",
        " tf.__version__"
      ]
    },
    {
      "cell_type": "code",
      "source": [
        "# Zaladowanie danych\n",
        "\n",
        "(X_train, y_train), (X_test, y_test) = load_data()\n",
        "\n",
        "print(f'X_train shape:', X_train.shape)\n",
        "print(f'y_train shape: {y_train.shape}')\n",
        "print(f'X_test shape: {X_test.shape}')\n",
        "print(f'y_test shape:', y_test.shape)\n",
        "print(f'X_train[0].shape:', X_train[0].shape  )"
      ],
      "metadata": {
        "colab": {
          "base_uri": "https://localhost:8080/"
        },
        "id": "x5oDyqW2IAJc",
        "outputId": "a4f700b1-34fc-4654-bea9-492141f7437b"
      },
      "execution_count": 2,
      "outputs": [
        {
          "output_type": "stream",
          "name": "stdout",
          "text": [
            "Downloading data from https://storage.googleapis.com/tensorflow/tf-keras-datasets/train-labels-idx1-ubyte.gz\n",
            "29515/29515 [==============================] - 0s 0us/step\n",
            "Downloading data from https://storage.googleapis.com/tensorflow/tf-keras-datasets/train-images-idx3-ubyte.gz\n",
            "26421880/26421880 [==============================] - 0s 0us/step\n",
            "Downloading data from https://storage.googleapis.com/tensorflow/tf-keras-datasets/t10k-labels-idx1-ubyte.gz\n",
            "5148/5148 [==============================] - 0s 0us/step\n",
            "Downloading data from https://storage.googleapis.com/tensorflow/tf-keras-datasets/t10k-images-idx3-ubyte.gz\n",
            "4422102/4422102 [==============================] - 0s 0us/step\n",
            "X_train shape: (60000, 28, 28)\n",
            "y_train shape: (60000,)\n",
            "X_test shape: (10000, 28, 28)\n",
            "y_test shape: (10000,)\n",
            "X_train[0].shape: (28, 28)\n"
          ]
        }
      ]
    },
    {
      "cell_type": "code",
      "source": [
        "X_train[0]"
      ],
      "metadata": {
        "colab": {
          "base_uri": "https://localhost:8080/"
        },
        "id": "RcpmPUpNJbR7",
        "outputId": "d22f823c-a077-46da-a8e4-1e265c6b5a16"
      },
      "execution_count": 3,
      "outputs": [
        {
          "output_type": "execute_result",
          "data": {
            "text/plain": [
              "array([[  0,   0,   0,   0,   0,   0,   0,   0,   0,   0,   0,   0,   0,   0,   0,   0,   0,   0,   0,   0,   0,   0,   0,   0,   0,   0,   0,   0],\n",
              "       [  0,   0,   0,   0,   0,   0,   0,   0,   0,   0,   0,   0,   0,   0,   0,   0,   0,   0,   0,   0,   0,   0,   0,   0,   0,   0,   0,   0],\n",
              "       [  0,   0,   0,   0,   0,   0,   0,   0,   0,   0,   0,   0,   0,   0,   0,   0,   0,   0,   0,   0,   0,   0,   0,   0,   0,   0,   0,   0],\n",
              "       [  0,   0,   0,   0,   0,   0,   0,   0,   0,   0,   0,   0,   1,   0,   0,  13,  73,   0,   0,   1,   4,   0,   0,   0,   0,   1,   1,   0],\n",
              "       [  0,   0,   0,   0,   0,   0,   0,   0,   0,   0,   0,   0,   3,   0,  36, 136, 127,  62,  54,   0,   0,   0,   1,   3,   4,   0,   0,   3],\n",
              "       [  0,   0,   0,   0,   0,   0,   0,   0,   0,   0,   0,   0,   6,   0, 102, 204, 176, 134, 144, 123,  23,   0,   0,   0,   0,  12,  10,   0],\n",
              "       [  0,   0,   0,   0,   0,   0,   0,   0,   0,   0,   0,   0,   0,   0, 155, 236, 207, 178, 107, 156, 161, 109,  64,  23,  77, 130,  72,  15],\n",
              "       [  0,   0,   0,   0,   0,   0,   0,   0,   0,   0,   0,   1,   0,  69, 207, 223, 218, 216, 216, 163, 127, 121, 122, 146, 141,  88, 172,  66],\n",
              "       [  0,   0,   0,   0,   0,   0,   0,   0,   0,   1,   1,   1,   0, 200, 232, 232, 233, 229, 223, 223, 215, 213, 164, 127, 123, 196, 229,   0],\n",
              "       [  0,   0,   0,   0,   0,   0,   0,   0,   0,   0,   0,   0,   0, 183, 225, 216, 223, 228, 235, 227, 224, 222, 224, 221, 223, 245, 173,   0],\n",
              "       [  0,   0,   0,   0,   0,   0,   0,   0,   0,   0,   0,   0,   0, 193, 228, 218, 213, 198, 180, 212, 210, 211, 213, 223, 220, 243, 202,   0],\n",
              "       [  0,   0,   0,   0,   0,   0,   0,   0,   0,   1,   3,   0,  12, 219, 220, 212, 218, 192, 169, 227, 208, 218, 224, 212, 226, 197, 209,  52],\n",
              "       [  0,   0,   0,   0,   0,   0,   0,   0,   0,   0,   6,   0,  99, 244, 222, 220, 218, 203, 198, 221, 215, 213, 222, 220, 245, 119, 167,  56],\n",
              "       [  0,   0,   0,   0,   0,   0,   0,   0,   0,   4,   0,   0,  55, 236, 228, 230, 228, 240, 232, 213, 218, 223, 234, 217, 217, 209,  92,   0],\n",
              "       [  0,   0,   1,   4,   6,   7,   2,   0,   0,   0,   0,   0, 237, 226, 217, 223, 222, 219, 222, 221, 216, 223, 229, 215, 218, 255,  77,   0],\n",
              "       [  0,   3,   0,   0,   0,   0,   0,   0,   0,  62, 145, 204, 228, 207, 213, 221, 218, 208, 211, 218, 224, 223, 219, 215, 224, 244, 159,   0],\n",
              "       [  0,   0,   0,   0,  18,  44,  82, 107, 189, 228, 220, 222, 217, 226, 200, 205, 211, 230, 224, 234, 176, 188, 250, 248, 233, 238, 215,   0],\n",
              "       [  0,  57, 187, 208, 224, 221, 224, 208, 204, 214, 208, 209, 200, 159, 245, 193, 206, 223, 255, 255, 221, 234, 221, 211, 220, 232, 246,   0],\n",
              "       [  3, 202, 228, 224, 221, 211, 211, 214, 205, 205, 205, 220, 240,  80, 150, 255, 229, 221, 188, 154, 191, 210, 204, 209, 222, 228, 225,   0],\n",
              "       [ 98, 233, 198, 210, 222, 229, 229, 234, 249, 220, 194, 215, 217, 241,  65,  73, 106, 117, 168, 219, 221, 215, 217, 223, 223, 224, 229,  29],\n",
              "       [ 75, 204, 212, 204, 193, 205, 211, 225, 216, 185, 197, 206, 198, 213, 240, 195, 227, 245, 239, 223, 218, 212, 209, 222, 220, 221, 230,  67],\n",
              "       [ 48, 203, 183, 194, 213, 197, 185, 190, 194, 192, 202, 214, 219, 221, 220, 236, 225, 216, 199, 206, 186, 181, 177, 172, 181, 205, 206, 115],\n",
              "       [  0, 122, 219, 193, 179, 171, 183, 196, 204, 210, 213, 207, 211, 210, 200, 196, 194, 191, 195, 191, 198, 192, 176, 156, 167, 177, 210,  92],\n",
              "       [  0,   0,  74, 189, 212, 191, 175, 172, 175, 181, 185, 188, 189, 188, 193, 198, 204, 209, 210, 210, 211, 188, 188, 194, 192, 216, 170,   0],\n",
              "       [  2,   0,   0,   0,  66, 200, 222, 237, 239, 242, 246, 243, 244, 221, 220, 193, 191, 179, 182, 182, 181, 176, 166, 168,  99,  58,   0,   0],\n",
              "       [  0,   0,   0,   0,   0,   0,   0,  40,  61,  44,  72,  41,  35,   0,   0,   0,   0,   0,   0,   0,   0,   0,   0,   0,   0,   0,   0,   0],\n",
              "       [  0,   0,   0,   0,   0,   0,   0,   0,   0,   0,   0,   0,   0,   0,   0,   0,   0,   0,   0,   0,   0,   0,   0,   0,   0,   0,   0,   0],\n",
              "       [  0,   0,   0,   0,   0,   0,   0,   0,   0,   0,   0,   0,   0,   0,   0,   0,   0,   0,   0,   0,   0,   0,   0,   0,   0,   0,   0,   0]],\n",
              "      dtype=uint8)"
            ]
          },
          "metadata": {},
          "execution_count": 3
        }
      ]
    },
    {
      "cell_type": "code",
      "source": [
        "# Numery klas przypozadkowane odpowiednio dla nszych zdjec\n",
        "y_train[:10]"
      ],
      "metadata": {
        "colab": {
          "base_uri": "https://localhost:8080/"
        },
        "id": "VkQC_111Jc3o",
        "outputId": "1f5e9706-c698-4eed-c15d-52f17ec13611"
      },
      "execution_count": 4,
      "outputs": [
        {
          "output_type": "execute_result",
          "data": {
            "text/plain": [
              "array([9, 0, 0, 3, 0, 2, 7, 2, 5, 5], dtype=uint8)"
            ]
          },
          "metadata": {},
          "execution_count": 4
        }
      ]
    },
    {
      "cell_type": "code",
      "source": [
        "# Wyswietlamy pierwsze zdiecie\n",
        "\n",
        "plt.imshow(X_train[0])\n"
      ],
      "metadata": {
        "colab": {
          "base_uri": "https://localhost:8080/",
          "height": 452
        },
        "id": "4tNR2CqvJvwb",
        "outputId": "9a32130f-287e-4b2b-dc40-2480e02f831b"
      },
      "execution_count": 5,
      "outputs": [
        {
          "output_type": "execute_result",
          "data": {
            "text/plain": [
              "<matplotlib.image.AxesImage at 0x7fd4d95a0370>"
            ]
          },
          "metadata": {},
          "execution_count": 5
        },
        {
          "output_type": "display_data",
          "data": {
            "text/plain": [
              "<Figure size 640x480 with 1 Axes>"
            ],
            "image/png": "[encoded data removed]"
          },
          "metadata": {}
        }
      ]
    },
    {
      "cell_type": "code",
      "source": [
        "# Wyswietlamy drugie zdiecie ze zbioru treningowego ,a le tym razem bez osi i czarno biale\n",
        "\n",
        "plt.imshow(X_train[1], cmap=\"gray_r\")\n",
        "plt.axis(\"off\")"
      ],
      "metadata": {
        "colab": {
          "base_uri": "https://localhost:8080/",
          "height": 424
        },
        "id": "TUHYeAKAKGgD",
        "outputId": "fe5e18d8-1bc2-42cb-de60-233c4f5edc41"
      },
      "execution_count": 6,
      "outputs": [
        {
          "output_type": "execute_result",
          "data": {
            "text/plain": [
              "(-0.5, 27.5, 27.5, -0.5)"
            ]
          },
          "metadata": {},
          "execution_count": 6
        },
        {
          "output_type": "display_data",
          "data": {
            "text/plain": [
              "<Figure size 640x480 with 1 Axes>"
            ],
            "image/png": "[encoded data removed]"
          },
          "metadata": {}
        }
      ]
    },
    {
      "cell_type": "code",
      "source": [
        "plt.figure(figsize=(18,13))\n",
        "for i in range(1,11):\n",
        "  plt.subplot(1,10,i)\n",
        "  plt.imshow(X_train[i-1])\n",
        "  plt.axis(\"off\")\n",
        "\n",
        "plt.show()\n"
      ],
      "metadata": {
        "colab": {
          "base_uri": "https://localhost:8080/",
          "height": 140
        },
        "id": "qGt9r5KtKiEN",
        "outputId": "9f015f7f-9747-4bbc-a563-aedd20e9926c"
      },
      "execution_count": 7,
      "outputs": [
        {
          "output_type": "display_data",
          "data": {
            "text/plain": [
              "<Figure size 1800x1300 with 10 Axes>"
            ],
            "image/png": "[encoded data removed]"
          },
          "metadata": {}
        }
      ]
    },
    {
      "cell_type": "code",
      "source": [
        "# Sprawiamy teraz aby wartosci w macierzach kazdego ze zdiec mialy zakres 0 -1\n",
        "X_train = X_train / 255\n",
        "X_test = X_test / 255\n",
        "\n",
        "X_train[0]"
      ],
      "metadata": {
        "colab": {
          "base_uri": "https://localhost:8080/"
        },
        "id": "xF6s6u2tMMHU",
        "outputId": "6f22ff44-0313-4980-d011-3afe53ee8202"
      },
      "execution_count": 8,
      "outputs": [
        {
          "output_type": "execute_result",
          "data": {
            "text/plain": [
              "array([[0.            , 0.            , 0.            , 0.            , 0.            , 0.            , 0.            , 0.            ,\n",
              "        0.            , 0.            , 0.            , 0.            , 0.            , 0.            , 0.            , 0.            ,\n",
              "        0.            , 0.            , 0.            , 0.            , 0.            , 0.            , 0.            , 0.            ,\n",
              "        0.            , 0.            , 0.            , 0.            ],\n",
              "       [0.            , 0.            , 0.            , 0.            , 0.            , 0.            , 0.            , 0.            ,\n",
              "        0.            , 0.            , 0.            , 0.            , 0.            , 0.            , 0.            , 0.            ,\n",
              "        0.            , 0.            , 0.            , 0.            , 0.            , 0.            , 0.            , 0.            ,\n",
              "        0.            , 0.            , 0.            , 0.            ],\n",
              "       [0.            , 0.            , 0.            , 0.            , 0.            , 0.            , 0.            , 0.            ,\n",
              "        0.            , 0.            , 0.            , 0.            , 0.            , 0.            , 0.            , 0.            ,\n",
              "        0.            , 0.            , 0.            , 0.            , 0.            , 0.            , 0.            , 0.            ,\n",
              "        0.            , 0.            , 0.            , 0.            ],\n",
              "       [0.            , 0.            , 0.            , 0.            , 0.            , 0.            , 0.            , 0.            ,\n",
              "        0.            , 0.            , 0.            , 0.            , 0.003921568627, 0.            , 0.            , 0.050980392157,\n",
              "        0.286274509804, 0.            , 0.            , 0.003921568627, 0.01568627451 , 0.            , 0.            , 0.            ,\n",
              "        0.            , 0.003921568627, 0.003921568627, 0.            ],\n",
              "       [0.            , 0.            , 0.            , 0.            , 0.            , 0.            , 0.            , 0.            ,\n",
              "        0.            , 0.            , 0.            , 0.            , 0.011764705882, 0.            , 0.141176470588, 0.533333333333,\n",
              "        0.498039215686, 0.243137254902, 0.211764705882, 0.            , 0.            , 0.            , 0.003921568627, 0.011764705882,\n",
              "        0.01568627451 , 0.            , 0.            , 0.011764705882],\n",
              "       [0.            , 0.            , 0.            , 0.            , 0.            , 0.            , 0.            , 0.            ,\n",
              "        0.            , 0.            , 0.            , 0.            , 0.023529411765, 0.            , 0.4           , 0.8           ,\n",
              "        0.690196078431, 0.525490196078, 0.564705882353, 0.482352941176, 0.090196078431, 0.            , 0.            , 0.            ,\n",
              "        0.            , 0.047058823529, 0.039215686275, 0.            ],\n",
              "       [0.            , 0.            , 0.            , 0.            , 0.            , 0.            , 0.            , 0.            ,\n",
              "        0.            , 0.            , 0.            , 0.            , 0.            , 0.            , 0.607843137255, 0.925490196078,\n",
              "        0.811764705882, 0.698039215686, 0.419607843137, 0.611764705882, 0.63137254902 , 0.427450980392, 0.250980392157, 0.090196078431,\n",
              "        0.301960784314, 0.509803921569, 0.282352941176, 0.058823529412],\n",
              "       [0.            , 0.            , 0.            , 0.            , 0.            , 0.            , 0.            , 0.            ,\n",
              "        0.            , 0.            , 0.            , 0.003921568627, 0.            , 0.270588235294, 0.811764705882, 0.874509803922,\n",
              "        0.854901960784, 0.847058823529, 0.847058823529, 0.639215686275, 0.498039215686, 0.474509803922, 0.478431372549, 0.572549019608,\n",
              "        0.552941176471, 0.345098039216, 0.674509803922, 0.258823529412],\n",
              "       [0.            , 0.            , 0.            , 0.            , 0.            , 0.            , 0.            , 0.            ,\n",
              "        0.            , 0.003921568627, 0.003921568627, 0.003921568627, 0.            , 0.78431372549 , 0.909803921569, 0.909803921569,\n",
              "        0.913725490196, 0.898039215686, 0.874509803922, 0.874509803922, 0.843137254902, 0.835294117647, 0.643137254902, 0.498039215686,\n",
              "        0.482352941176, 0.76862745098 , 0.898039215686, 0.            ],\n",
              "       [0.            , 0.            , 0.            , 0.            , 0.            , 0.            , 0.            , 0.            ,\n",
              "        0.            , 0.            , 0.            , 0.            , 0.            , 0.717647058824, 0.882352941176, 0.847058823529,\n",
              "        0.874509803922, 0.894117647059, 0.921568627451, 0.890196078431, 0.878431372549, 0.870588235294, 0.878431372549, 0.866666666667,\n",
              "        0.874509803922, 0.960784313725, 0.678431372549, 0.            ],\n",
              "       [0.            , 0.            , 0.            , 0.            , 0.            , 0.            , 0.            , 0.            ,\n",
              "        0.            , 0.            , 0.            , 0.            , 0.            , 0.756862745098, 0.894117647059, 0.854901960784,\n",
              "        0.835294117647, 0.776470588235, 0.705882352941, 0.83137254902 , 0.823529411765, 0.827450980392, 0.835294117647, 0.874509803922,\n",
              "        0.862745098039, 0.952941176471, 0.792156862745, 0.            ],\n",
              "       [0.            , 0.            , 0.            , 0.            , 0.            , 0.            , 0.            , 0.            ,\n",
              "        0.            , 0.003921568627, 0.011764705882, 0.            , 0.047058823529, 0.858823529412, 0.862745098039, 0.83137254902 ,\n",
              "        0.854901960784, 0.752941176471, 0.662745098039, 0.890196078431, 0.81568627451 , 0.854901960784, 0.878431372549, 0.83137254902 ,\n",
              "        0.886274509804, 0.772549019608, 0.819607843137, 0.203921568627],\n",
              "       [0.            , 0.            , 0.            , 0.            , 0.            , 0.            , 0.            , 0.            ,\n",
              "        0.            , 0.            , 0.023529411765, 0.            , 0.388235294118, 0.956862745098, 0.870588235294, 0.862745098039,\n",
              "        0.854901960784, 0.796078431373, 0.776470588235, 0.866666666667, 0.843137254902, 0.835294117647, 0.870588235294, 0.862745098039,\n",
              "        0.960784313725, 0.466666666667, 0.654901960784, 0.219607843137],\n",
              "       [0.            , 0.            , 0.            , 0.            , 0.            , 0.            , 0.            , 0.            ,\n",
              "        0.            , 0.01568627451 , 0.            , 0.            , 0.21568627451 , 0.925490196078, 0.894117647059, 0.901960784314,\n",
              "        0.894117647059, 0.941176470588, 0.909803921569, 0.835294117647, 0.854901960784, 0.874509803922, 0.917647058824, 0.850980392157,\n",
              "        0.850980392157, 0.819607843137, 0.360784313725, 0.            ],\n",
              "       [0.            , 0.            , 0.003921568627, 0.01568627451 , 0.023529411765, 0.027450980392, 0.007843137255, 0.            ,\n",
              "        0.            , 0.            , 0.            , 0.            , 0.929411764706, 0.886274509804, 0.850980392157, 0.874509803922,\n",
              "        0.870588235294, 0.858823529412, 0.870588235294, 0.866666666667, 0.847058823529, 0.874509803922, 0.898039215686, 0.843137254902,\n",
              "        0.854901960784, 1.            , 0.301960784314, 0.            ],\n",
              "       [0.            , 0.011764705882, 0.            , 0.            , 0.            , 0.            , 0.            , 0.            ,\n",
              "        0.            , 0.243137254902, 0.56862745098 , 0.8           , 0.894117647059, 0.811764705882, 0.835294117647, 0.866666666667,\n",
              "        0.854901960784, 0.81568627451 , 0.827450980392, 0.854901960784, 0.878431372549, 0.874509803922, 0.858823529412, 0.843137254902,\n",
              "        0.878431372549, 0.956862745098, 0.623529411765, 0.            ],\n",
              "       [0.            , 0.            , 0.            , 0.            , 0.070588235294, 0.172549019608, 0.321568627451, 0.419607843137,\n",
              "        0.741176470588, 0.894117647059, 0.862745098039, 0.870588235294, 0.850980392157, 0.886274509804, 0.78431372549 , 0.803921568627,\n",
              "        0.827450980392, 0.901960784314, 0.878431372549, 0.917647058824, 0.690196078431, 0.737254901961, 0.980392156863, 0.972549019608,\n",
              "        0.913725490196, 0.933333333333, 0.843137254902, 0.            ],\n",
              "       [0.            , 0.223529411765, 0.733333333333, 0.81568627451 , 0.878431372549, 0.866666666667, 0.878431372549, 0.81568627451 ,\n",
              "        0.8           , 0.839215686275, 0.81568627451 , 0.819607843137, 0.78431372549 , 0.623529411765, 0.960784313725, 0.756862745098,\n",
              "        0.807843137255, 0.874509803922, 1.            , 1.            , 0.866666666667, 0.917647058824, 0.866666666667, 0.827450980392,\n",
              "        0.862745098039, 0.909803921569, 0.964705882353, 0.            ],\n",
              "       [0.011764705882, 0.792156862745, 0.894117647059, 0.878431372549, 0.866666666667, 0.827450980392, 0.827450980392, 0.839215686275,\n",
              "        0.803921568627, 0.803921568627, 0.803921568627, 0.862745098039, 0.941176470588, 0.313725490196, 0.588235294118, 1.            ,\n",
              "        0.898039215686, 0.866666666667, 0.737254901961, 0.603921568627, 0.749019607843, 0.823529411765, 0.8           , 0.819607843137,\n",
              "        0.870588235294, 0.894117647059, 0.882352941176, 0.            ],\n",
              "       [0.38431372549 , 0.913725490196, 0.776470588235, 0.823529411765, 0.870588235294, 0.898039215686, 0.898039215686, 0.917647058824,\n",
              "        0.976470588235, 0.862745098039, 0.760784313725, 0.843137254902, 0.850980392157, 0.945098039216, 0.254901960784, 0.286274509804,\n",
              "        0.41568627451 , 0.458823529412, 0.658823529412, 0.858823529412, 0.866666666667, 0.843137254902, 0.850980392157, 0.874509803922,\n",
              "        0.874509803922, 0.878431372549, 0.898039215686, 0.113725490196],\n",
              "       [0.294117647059, 0.8           , 0.83137254902 , 0.8           , 0.756862745098, 0.803921568627, 0.827450980392, 0.882352941176,\n",
              "        0.847058823529, 0.725490196078, 0.772549019608, 0.807843137255, 0.776470588235, 0.835294117647, 0.941176470588, 0.764705882353,\n",
              "        0.890196078431, 0.960784313725, 0.937254901961, 0.874509803922, 0.854901960784, 0.83137254902 , 0.819607843137, 0.870588235294,\n",
              "        0.862745098039, 0.866666666667, 0.901960784314, 0.262745098039],\n",
              "       [0.188235294118, 0.796078431373, 0.717647058824, 0.760784313725, 0.835294117647, 0.772549019608, 0.725490196078, 0.745098039216,\n",
              "        0.760784313725, 0.752941176471, 0.792156862745, 0.839215686275, 0.858823529412, 0.866666666667, 0.862745098039, 0.925490196078,\n",
              "        0.882352941176, 0.847058823529, 0.780392156863, 0.807843137255, 0.729411764706, 0.709803921569, 0.694117647059, 0.674509803922,\n",
              "        0.709803921569, 0.803921568627, 0.807843137255, 0.450980392157],\n",
              "       [0.            , 0.478431372549, 0.858823529412, 0.756862745098, 0.701960784314, 0.670588235294, 0.717647058824, 0.76862745098 ,\n",
              "        0.8           , 0.823529411765, 0.835294117647, 0.811764705882, 0.827450980392, 0.823529411765, 0.78431372549 , 0.76862745098 ,\n",
              "        0.760784313725, 0.749019607843, 0.764705882353, 0.749019607843, 0.776470588235, 0.752941176471, 0.690196078431, 0.611764705882,\n",
              "        0.654901960784, 0.694117647059, 0.823529411765, 0.360784313725],\n",
              "       [0.            , 0.            , 0.290196078431, 0.741176470588, 0.83137254902 , 0.749019607843, 0.686274509804, 0.674509803922,\n",
              "        0.686274509804, 0.709803921569, 0.725490196078, 0.737254901961, 0.741176470588, 0.737254901961, 0.756862745098, 0.776470588235,\n",
              "        0.8           , 0.819607843137, 0.823529411765, 0.823529411765, 0.827450980392, 0.737254901961, 0.737254901961, 0.760784313725,\n",
              "        0.752941176471, 0.847058823529, 0.666666666667, 0.            ],\n",
              "       [0.007843137255, 0.            , 0.            , 0.            , 0.258823529412, 0.78431372549 , 0.870588235294, 0.929411764706,\n",
              "        0.937254901961, 0.949019607843, 0.964705882353, 0.952941176471, 0.956862745098, 0.866666666667, 0.862745098039, 0.756862745098,\n",
              "        0.749019607843, 0.701960784314, 0.713725490196, 0.713725490196, 0.709803921569, 0.690196078431, 0.650980392157, 0.658823529412,\n",
              "        0.388235294118, 0.227450980392, 0.            , 0.            ],\n",
              "       [0.            , 0.            , 0.            , 0.            , 0.            , 0.            , 0.            , 0.156862745098,\n",
              "        0.239215686275, 0.172549019608, 0.282352941176, 0.160784313725, 0.137254901961, 0.            , 0.            , 0.            ,\n",
              "        0.            , 0.            , 0.            , 0.            , 0.            , 0.            , 0.            , 0.            ,\n",
              "        0.            , 0.            , 0.            , 0.            ],\n",
              "       [0.            , 0.            , 0.            , 0.            , 0.            , 0.            , 0.            , 0.            ,\n",
              "        0.            , 0.            , 0.            , 0.            , 0.            , 0.            , 0.            , 0.            ,\n",
              "        0.            , 0.            , 0.            , 0.            , 0.            , 0.            , 0.            , 0.            ,\n",
              "        0.            , 0.            , 0.            , 0.            ],\n",
              "       [0.            , 0.            , 0.            , 0.            , 0.            , 0.            , 0.            , 0.            ,\n",
              "        0.            , 0.            , 0.            , 0.            , 0.            , 0.            , 0.            , 0.            ,\n",
              "        0.            , 0.            , 0.            , 0.            , 0.            , 0.            , 0.            , 0.            ,\n",
              "        0.            , 0.            , 0.            , 0.            ]])"
            ]
          },
          "metadata": {},
          "execution_count": 8
        }
      ]
    },
    {
      "cell_type": "code",
      "source": [
        "# Bubowa Modelu\n",
        "\n",
        "model = Sequential()\n",
        "# Głównym celem warstwy Flatten jest spłaszczenie danych, czyli przekształcenie tensora o dowolnym kształcie (np. [szerokość, wysokość, kanały])\n",
        "# na pojedynczy wektor o długości równej iloczynowi wymiarów tensora. Na przykład, jeśli wejściowy tensor ma kształt [28, 28, 3],\n",
        "# to warstwa Flatten przekształci go na wektor o długości 2352 (28 * 28 * 3).\n",
        "model.add(Flatten(input_shape=(28,28)))\n",
        "model.add(Dense(units=128, activation=\"relu\"))\n",
        "model.add(Dense(units=10, activation=\"softmax\"))\n",
        "\n",
        "model.compile(optimizer=\"adam\", loss=\"sparse_categorical_crossentropy\",\n",
        "              metrics=[\"accuracy\"])\n",
        "\n",
        "model.summary()\n"
      ],
      "metadata": {
        "colab": {
          "base_uri": "https://localhost:8080/"
        },
        "id": "iA0evQMsNcuZ",
        "outputId": "9f8f7147-809c-4522-be6e-2a4686091f88"
      },
      "execution_count": 9,
      "outputs": [
        {
          "output_type": "stream",
          "name": "stdout",
          "text": [
            "Model: \"sequential\"\n",
            "_________________________________________________________________\n",
            " Layer (type)                Output Shape              Param #   \n",
            "=================================================================\n",
            " flatten (Flatten)           (None, 784)               0         \n",
            "                                                                 \n",
            " dense (Dense)               (None, 128)               100480    \n",
            "                                                                 \n",
            " dense_1 (Dense)             (None, 10)                1290      \n",
            "                                                                 \n",
            "=================================================================\n",
            "Total params: 101,770\n",
            "Trainable params: 101,770\n",
            "Non-trainable params: 0\n",
            "_________________________________________________________________\n"
          ]
        }
      ]
    },
    {
      "cell_type": "code",
      "source": [
        "# epochs - czyli ile razy zestaw treningowy zostanie przetworzony przez model.\n",
        "#Przy kazdej iteracji optymalizator prubuje dopasowac wagi w celu zminimalizowania funkcji straty\n",
        "\n",
        "# batch size - liczba przykladow treningowych po ktorej nastepuje aktualizacja flag\n",
        "\n",
        "\n",
        "history = model.fit(X_train, y_train, epochs= 10, batch_size=32, validation_split=0.2)\n"
      ],
      "metadata": {
        "colab": {
          "base_uri": "https://localhost:8080/"
        },
        "id": "TvS1_8aGPaug",
        "outputId": "3f89b1c4-4126-4d4f-ef01-db0b443dcd5f"
      },
      "execution_count": 10,
      "outputs": [
        {
          "output_type": "stream",
          "name": "stdout",
          "text": [
            "Epoch 1/10\n",
            "1500/1500 [==============================] - 14s 4ms/step - loss: 0.5179 - accuracy: 0.8195 - val_loss: 0.4364 - val_accuracy: 0.8436\n",
            "Epoch 2/10\n",
            "1500/1500 [==============================] - 4s 3ms/step - loss: 0.3881 - accuracy: 0.8619 - val_loss: 0.3721 - val_accuracy: 0.8669\n",
            "Epoch 3/10\n",
            "1500/1500 [==============================] - 5s 3ms/step - loss: 0.3448 - accuracy: 0.8763 - val_loss: 0.3487 - val_accuracy: 0.8742\n",
            "Epoch 4/10\n",
            "1500/1500 [==============================] - 4s 3ms/step - loss: 0.3199 - accuracy: 0.8826 - val_loss: 0.3683 - val_accuracy: 0.8672\n",
            "Epoch 5/10\n",
            "1500/1500 [==============================] - 5s 3ms/step - loss: 0.3018 - accuracy: 0.8893 - val_loss: 0.3444 - val_accuracy: 0.8765\n",
            "Epoch 6/10\n",
            "1500/1500 [==============================] - 4s 3ms/step - loss: 0.2851 - accuracy: 0.8940 - val_loss: 0.3186 - val_accuracy: 0.8851\n",
            "Epoch 7/10\n",
            "1500/1500 [==============================] - 4s 3ms/step - loss: 0.2716 - accuracy: 0.8984 - val_loss: 0.3169 - val_accuracy: 0.8863\n",
            "Epoch 8/10\n",
            "1500/1500 [==============================] - 5s 3ms/step - loss: 0.2627 - accuracy: 0.9031 - val_loss: 0.3222 - val_accuracy: 0.8867\n",
            "Epoch 9/10\n",
            "1500/1500 [==============================] - 4s 3ms/step - loss: 0.2495 - accuracy: 0.9070 - val_loss: 0.3718 - val_accuracy: 0.8770\n",
            "Epoch 10/10\n",
            "1500/1500 [==============================] - 4s 3ms/step - loss: 0.2416 - accuracy: 0.9095 - val_loss: 0.3147 - val_accuracy: 0.8892\n"
          ]
        }
      ]
    },
    {
      "cell_type": "code",
      "source": [
        "metrics = pd.DataFrame(history.history)\n",
        "metrics['epoch'] = history.epoch\n",
        "metrics"
      ],
      "metadata": {
        "colab": {
          "base_uri": "https://localhost:8080/",
          "height": 363
        },
        "id": "EXCUaFNpRsCA",
        "outputId": "dfe3350b-be12-4679-b688-b03ab3d930f5"
      },
      "execution_count": 11,
      "outputs": [
        {
          "output_type": "execute_result",
          "data": {
            "text/plain": [
              "      loss  accuracy  val_loss  val_accuracy  epoch\n",
              "0 0.517913  0.819542  0.436437      0.843583      0\n",
              "1 0.388053  0.861896  0.372136      0.866917      1\n",
              "2 0.344774  0.876250  0.348682      0.874167      2\n",
              "3 0.319891  0.882563  0.368285      0.867167      3\n",
              "4 0.301841  0.889333  0.344417      0.876500      4\n",
              "5 0.285105  0.894021  0.318617      0.885083      5\n",
              "6 0.271600  0.898417  0.316886      0.886250      6\n",
              "7 0.262663  0.903146  0.322177      0.886667      7\n",
              "8 0.249499  0.907042  0.371811      0.877000      8\n",
              "9 0.241635  0.909479  0.314725      0.889250      9"
            ],
            "text/html": [
              "\n",
              "  <div id=\"df-b8c31813-2662-4b9c-888c-da9c954d8dc0\">\n",
              "    <div class=\"colab-df-container\">\n",
              "      <div>\n",
              "<style scoped>\n",
              "    .dataframe tbody tr th:only-of-type {\n",
              "        vertical-align: middle;\n",
              "    }\n",
              "\n",
              "    .dataframe tbody tr th {\n",
              "        vertical-align: top;\n",
              "    }\n",
              "\n",
              "    .dataframe thead th {\n",
              "        text-align: right;\n",
              "    }\n",
              "</style>\n",
              "<table border=\"1\" class=\"dataframe\">\n",
              "  <thead>\n",
              "    <tr style=\"text-align: right;\">\n",
              "      <th></th>\n",
              "      <th>loss</th>\n",
              "      <th>accuracy</th>\n",
              "      <th>val_loss</th>\n",
              "      <th>val_accuracy</th>\n",
              "      <th>epoch</th>\n",
              "    </tr>\n",
              "  </thead>\n",
              "  <tbody>\n",
              "    <tr>\n",
              "      <th>0</th>\n",
              "      <td>0.517913</td>\n",
              "      <td>0.819542</td>\n",
              "      <td>0.436437</td>\n",
              "      <td>0.843583</td>\n",
              "      <td>0</td>\n",
              "    </tr>\n",
              "    <tr>\n",
              "      <th>1</th>\n",
              "      <td>0.388053</td>\n",
              "      <td>0.861896</td>\n",
              "      <td>0.372136</td>\n",
              "      <td>0.866917</td>\n",
              "      <td>1</td>\n",
              "    </tr>\n",
              "    <tr>\n",
              "      <th>2</th>\n",
              "      <td>0.344774</td>\n",
              "      <td>0.876250</td>\n",
              "      <td>0.348682</td>\n",
              "      <td>0.874167</td>\n",
              "      <td>2</td>\n",
              "    </tr>\n",
              "    <tr>\n",
              "      <th>3</th>\n",
              "      <td>0.319891</td>\n",
              "      <td>0.882563</td>\n",
              "      <td>0.368285</td>\n",
              "      <td>0.867167</td>\n",
              "      <td>3</td>\n",
              "    </tr>\n",
              "    <tr>\n",
              "      <th>4</th>\n",
              "      <td>0.301841</td>\n",
              "      <td>0.889333</td>\n",
              "      <td>0.344417</td>\n",
              "      <td>0.876500</td>\n",
              "      <td>4</td>\n",
              "    </tr>\n",
              "    <tr>\n",
              "      <th>5</th>\n",
              "      <td>0.285105</td>\n",
              "      <td>0.894021</td>\n",
              "      <td>0.318617</td>\n",
              "      <td>0.885083</td>\n",
              "      <td>5</td>\n",
              "    </tr>\n",
              "    <tr>\n",
              "      <th>6</th>\n",
              "      <td>0.271600</td>\n",
              "      <td>0.898417</td>\n",
              "      <td>0.316886</td>\n",
              "      <td>0.886250</td>\n",
              "      <td>6</td>\n",
              "    </tr>\n",
              "    <tr>\n",
              "      <th>7</th>\n",
              "      <td>0.262663</td>\n",
              "      <td>0.903146</td>\n",
              "      <td>0.322177</td>\n",
              "      <td>0.886667</td>\n",
              "      <td>7</td>\n",
              "    </tr>\n",
              "    <tr>\n",
              "      <th>8</th>\n",
              "      <td>0.249499</td>\n",
              "      <td>0.907042</td>\n",
              "      <td>0.371811</td>\n",
              "      <td>0.877000</td>\n",
              "      <td>8</td>\n",
              "    </tr>\n",
              "    <tr>\n",
              "      <th>9</th>\n",
              "      <td>0.241635</td>\n",
              "      <td>0.909479</td>\n",
              "      <td>0.314725</td>\n",
              "      <td>0.889250</td>\n",
              "      <td>9</td>\n",
              "    </tr>\n",
              "  </tbody>\n",
              "</table>\n",
              "</div>\n",
              "      <button class=\"colab-df-convert\" onclick=\"convertToInteractive('df-b8c31813-2662-4b9c-888c-da9c954d8dc0')\"\n",
              "              title=\"Convert this dataframe to an interactive table.\"\n",
              "              style=\"display:none;\">\n",
              "        \n",
              "  <svg xmlns=\"http://www.w3.org/2000/svg\" height=\"24px\"viewBox=\"0 0 24 24\"\n",
              "       width=\"24px\">\n",
              "    <path d=\"M0 0h24v24H0V0z\" fill=\"none\"/>\n",
              "    <path d=\"M18.56 5.44l.94 2.06.94-2.06 2.06-.94-2.06-.94-.94-2.06-.94 2.06-2.06.94zm-11 1L8.5 8.5l.94-2.06 2.06-.94-2.06-.94L8.5 2.5l-.94 2.06-2.06.94zm10 10l.94 2.06.94-2.06 2.06-.94-2.06-.94-.94-2.06-.94 2.06-2.06.94z\"/><path d=\"M17.41 7.96l-1.37-1.37c-.4-.4-.92-.59-1.43-.59-.52 0-1.04.2-1.43.59L10.3 9.45l-7.72 7.72c-.78.78-.78 2.05 0 2.83L4 21.41c.39.39.9.59 1.41.59.51 0 1.02-.2 1.41-.59l7.78-7.78 2.81-2.81c.8-.78.8-2.07 0-2.86zM5.41 20L4 18.59l7.72-7.72 1.47 1.35L5.41 20z\"/>\n",
              "  </svg>\n",
              "      </button>\n",
              "      \n",
              "  <style>\n",
              "    .colab-df-container {\n",
              "      display:flex;\n",
              "      flex-wrap:wrap;\n",
              "      gap: 12px;\n",
              "    }\n",
              "\n",
              "    .colab-df-convert {\n",
              "      background-color: #E8F0FE;\n",
              "      border: none;\n",
              "      border-radius: 50%;\n",
              "      cursor: pointer;\n",
              "      display: none;\n",
              "      fill: #1967D2;\n",
              "      height: 32px;\n",
              "      padding: 0 0 0 0;\n",
              "      width: 32px;\n",
              "    }\n",
              "\n",
              "    .colab-df-convert:hover {\n",
              "      background-color: #E2EBFA;\n",
              "      box-shadow: 0px 1px 2px rgba(60, 64, 67, 0.3), 0px 1px 3px 1px rgba(60, 64, 67, 0.15);\n",
              "      fill: #174EA6;\n",
              "    }\n",
              "\n",
              "    [theme=dark] .colab-df-convert {\n",
              "      background-color: #3B4455;\n",
              "      fill: #D2E3FC;\n",
              "    }\n",
              "\n",
              "    [theme=dark] .colab-df-convert:hover {\n",
              "      background-color: #434B5C;\n",
              "      box-shadow: 0px 1px 3px 1px rgba(0, 0, 0, 0.15);\n",
              "      filter: drop-shadow(0px 1px 2px rgba(0, 0, 0, 0.3));\n",
              "      fill: #FFFFFF;\n",
              "    }\n",
              "  </style>\n",
              "\n",
              "      <script>\n",
              "        const buttonEl =\n",
              "          document.querySelector('#df-b8c31813-2662-4b9c-888c-da9c954d8dc0 button.colab-df-convert');\n",
              "        buttonEl.style.display =\n",
              "          google.colab.kernel.accessAllowed ? 'block' : 'none';\n",
              "\n",
              "        async function convertToInteractive(key) {\n",
              "          const element = document.querySelector('#df-b8c31813-2662-4b9c-888c-da9c954d8dc0');\n",
              "          const dataTable =\n",
              "            await google.colab.kernel.invokeFunction('convertToInteractive',\n",
              "                                                     [key], {});\n",
              "          if (!dataTable) return;\n",
              "\n",
              "          const docLinkHtml = 'Like what you see? Visit the ' +\n",
              "            '<a target=\"_blank\" href=https://colab.research.google.com/notebooks/data_table.ipynb>data table notebook</a>'\n",
              "            + ' to learn more about interactive tables.';\n",
              "          element.innerHTML = '';\n",
              "          dataTable['output_type'] = 'display_data';\n",
              "          await google.colab.output.renderOutput(dataTable, element);\n",
              "          const docLink = document.createElement('div');\n",
              "          docLink.innerHTML = docLinkHtml;\n",
              "          element.appendChild(docLink);\n",
              "        }\n",
              "      </script>\n",
              "    </div>\n",
              "  </div>\n",
              "  "
            ]
          },
          "metadata": {},
          "execution_count": 11
        }
      ]
    },
    {
      "cell_type": "code",
      "source": [
        "# Ocena modelu\n",
        "\n",
        "import plotly.graph_objects as go\n",
        "from plotly.subplots import make_subplots\n",
        "\n",
        "fig = make_subplots(rows=1, cols=2)\n",
        "fig.add_trace(go.Scatter(x=metrics[\"epoch\"], y=metrics[\"loss\"], name=\"loss\"),row=1,col=2)\n",
        "fig.add_trace(go.Scatter(x=metrics[\"epoch\"], y=metrics[\"accuracy\"], name=\"accuracy\"), row=1, col=1)\n",
        "fig.add_trace(go.Scatter(x=metrics['epoch'], y=metrics[\"val_accuracy\"], name=\"val_accuracy\"), row=1, col=1)\n",
        "fig.add_trace(go.Scatter(x=metrics[\"epoch\"], name=\"val_loss\"), row=1, col=2)\n",
        "\n",
        "fig.update_xaxes(title_text=\"epochs\")\n",
        "fig.update_yaxes(title_text=\"accuracy\")\n",
        "fig.update_layout(width=1000, title=\"Accuracy and loss\")\n",
        "fig.show()"
      ],
      "metadata": {
        "colab": {
          "base_uri": "https://localhost:8080/",
          "height": 542
        },
        "id": "Lc9cCm91S5sU",
        "outputId": "e3f0846d-3e31-430a-bd1d-9f8950b79d53"
      },
      "execution_count": 14,
      "outputs": [
        {
          "output_type": "display_data",
          "data": {
            "text/html": [
              "<html>\n",
              "<head><meta charset=\"utf-8\" /></head>\n",
              "<body>\n",
              "    <div>            <script src=\"https://cdnjs.cloudflare.com/ajax/libs/mathjax/2.7.5/MathJax.js?config=TeX-AMS-MML_SVG\"></script><script type=\"text/javascript\">if (window.MathJax && window.MathJax.Hub && window.MathJax.Hub.Config) {window.MathJax.Hub.Config({SVG: {font: \"STIX-Web\"}});}</script>                <script type=\"text/javascript\">window.PlotlyConfig = {MathJaxConfig: 'local'};</script>\n",
              "        <script src=\"https://cdn.plot.ly/plotly-2.18.2.min.js\"></script>                <div id=\"88aa6f61-265a-435d-ab34-5d83ebbcce80\" class=\"plotly-graph-div\" style=\"height:525px; width:1000px;\"></div>            <script type=\"text/javascript\">                                    window.PLOTLYENV=window.PLOTLYENV || {};                                    if (document.getElementById(\"88aa6f61-265a-435d-ab34-5d83ebbcce80\")) {                    Plotly.newPlot(                        \"88aa6f61-265a-435d-ab34-5d83ebbcce80\",                        [{\"name\":\"loss\",\"x\":[0,1,2,3,4,5,6,7,8,9],\"y\":[0.5179128646850586,0.3880532681941986,0.3447740375995636,0.31989145278930664,0.3018413782119751,0.285104900598526,0.2716001570224762,0.2626630365848541,0.24949896335601807,0.24163466691970825],\"type\":\"scatter\",\"xaxis\":\"x2\",\"yaxis\":\"y2\"},{\"name\":\"accuracy\",\"x\":[0,1,2,3,4,5,6,7,8,9],\"y\":[0.8195416927337646,0.8618958592414856,0.8762500286102295,0.882562518119812,0.8893333077430725,0.8940208554267883,0.8984166383743286,0.9031458497047424,0.9070416688919067,0.9094791412353516],\"type\":\"scatter\",\"xaxis\":\"x\",\"yaxis\":\"y\"},{\"name\":\"val_accuracy\",\"x\":[0,1,2,3,4,5,6,7,8,9],\"y\":[0.843583345413208,0.8669166564941406,0.8741666674613953,0.8671666383743286,0.8765000104904175,0.8850833177566528,0.8862500190734863,0.8866666555404663,0.8769999742507935,0.8892499804496765],\"type\":\"scatter\",\"xaxis\":\"x\",\"yaxis\":\"y\"},{\"name\":\"val_loss\",\"x\":[0,1,2,3,4,5,6,7,8,9],\"type\":\"scatter\",\"xaxis\":\"x2\",\"yaxis\":\"y2\"}],                        {\"template\":{\"data\":{\"histogram2dcontour\":[{\"type\":\"histogram2dcontour\",\"colorbar\":{\"outlinewidth\":0,\"ticks\":\"\"},\"colorscale\":[[0.0,\"#0d0887\"],[0.1111111111111111,\"#46039f\"],[0.2222222222222222,\"#7201a8\"],[0.3333333333333333,\"#9c179e\"],[0.4444444444444444,\"#bd3786\"],[0.5555555555555556,\"#d8576b\"],[0.6666666666666666,\"#ed7953\"],[0.7777777777777778,\"#fb9f3a\"],[0.8888888888888888,\"#fdca26\"],[1.0,\"#f0f921\"]]}],\"choropleth\":[{\"type\":\"choropleth\",\"colorbar\":{\"outlinewidth\":0,\"ticks\":\"\"}}],\"histogram2d\":[{\"type\":\"histogram2d\",\"colorbar\":{\"outlinewidth\":0,\"ticks\":\"\"},\"colorscale\":[[0.0,\"#0d0887\"],[0.1111111111111111,\"#46039f\"],[0.2222222222222222,\"#7201a8\"],[0.3333333333333333,\"#9c179e\"],[0.4444444444444444,\"#bd3786\"],[0.5555555555555556,\"#d8576b\"],[0.6666666666666666,\"#ed7953\"],[0.7777777777777778,\"#fb9f3a\"],[0.8888888888888888,\"#fdca26\"],[1.0,\"#f0f921\"]]}],\"heatmap\":[{\"type\":\"heatmap\",\"colorbar\":{\"outlinewidth\":0,\"ticks\":\"\"},\"colorscale\":[[0.0,\"#0d0887\"],[0.1111111111111111,\"#46039f\"],[0.2222222222222222,\"#7201a8\"],[0.3333333333333333,\"#9c179e\"],[0.4444444444444444,\"#bd3786\"],[0.5555555555555556,\"#d8576b\"],[0.6666666666666666,\"#ed7953\"],[0.7777777777777778,\"#fb9f3a\"],[0.8888888888888888,\"#fdca26\"],[1.0,\"#f0f921\"]]}],\"heatmapgl\":[{\"type\":\"heatmapgl\",\"colorbar\":{\"outlinewidth\":0,\"ticks\":\"\"},\"colorscale\":[[0.0,\"#0d0887\"],[0.1111111111111111,\"#46039f\"],[0.2222222222222222,\"#7201a8\"],[0.3333333333333333,\"#9c179e\"],[0.4444444444444444,\"#bd3786\"],[0.5555555555555556,\"#d8576b\"],[0.6666666666666666,\"#ed7953\"],[0.7777777777777778,\"#fb9f3a\"],[0.8888888888888888,\"#fdca26\"],[1.0,\"#f0f921\"]]}],\"contourcarpet\":[{\"type\":\"contourcarpet\",\"colorbar\":{\"outlinewidth\":0,\"ticks\":\"\"}}],\"contour\":[{\"type\":\"contour\",\"colorbar\":{\"outlinewidth\":0,\"ticks\":\"\"},\"colorscale\":[[0.0,\"#0d0887\"],[0.1111111111111111,\"#46039f\"],[0.2222222222222222,\"#7201a8\"],[0.3333333333333333,\"#9c179e\"],[0.4444444444444444,\"#bd3786\"],[0.5555555555555556,\"#d8576b\"],[0.6666666666666666,\"#ed7953\"],[0.7777777777777778,\"#fb9f3a\"],[0.8888888888888888,\"#fdca26\"],[1.0,\"#f0f921\"]]}],\"surface\":[{\"type\":\"surface\",\"colorbar\":{\"outlinewidth\":0,\"ticks\":\"\"},\"colorscale\":[[0.0,\"#0d0887\"],[0.1111111111111111,\"#46039f\"],[0.2222222222222222,\"#7201a8\"],[0.3333333333333333,\"#9c179e\"],[0.4444444444444444,\"#bd3786\"],[0.5555555555555556,\"#d8576b\"],[0.6666666666666666,\"#ed7953\"],[0.7777777777777778,\"#fb9f3a\"],[0.8888888888888888,\"#fdca26\"],[1.0,\"#f0f921\"]]}],\"mesh3d\":[{\"type\":\"mesh3d\",\"colorbar\":{\"outlinewidth\":0,\"ticks\":\"\"}}],\"scatter\":[{\"fillpattern\":{\"fillmode\":\"overlay\",\"size\":10,\"solidity\":0.2},\"type\":\"scatter\"}],\"parcoords\":[{\"type\":\"parcoords\",\"line\":{\"colorbar\":{\"outlinewidth\":0,\"ticks\":\"\"}}}],\"scatterpolargl\":[{\"type\":\"scatterpolargl\",\"marker\":{\"colorbar\":{\"outlinewidth\":0,\"ticks\":\"\"}}}],\"bar\":[{\"error_x\":{\"color\":\"#2a3f5f\"},\"error_y\":{\"color\":\"#2a3f5f\"},\"marker\":{\"line\":{\"color\":\"#E5ECF6\",\"width\":0.5},\"pattern\":{\"fillmode\":\"overlay\",\"size\":10,\"solidity\":0.2}},\"type\":\"bar\"}],\"scattergeo\":[{\"type\":\"scattergeo\",\"marker\":{\"colorbar\":{\"outlinewidth\":0,\"ticks\":\"\"}}}],\"scatterpolar\":[{\"type\":\"scatterpolar\",\"marker\":{\"colorbar\":{\"outlinewidth\":0,\"ticks\":\"\"}}}],\"histogram\":[{\"marker\":{\"pattern\":{\"fillmode\":\"overlay\",\"size\":10,\"solidity\":0.2}},\"type\":\"histogram\"}],\"scattergl\":[{\"type\":\"scattergl\",\"marker\":{\"colorbar\":{\"outlinewidth\":0,\"ticks\":\"\"}}}],\"scatter3d\":[{\"type\":\"scatter3d\",\"line\":{\"colorbar\":{\"outlinewidth\":0,\"ticks\":\"\"}},\"marker\":{\"colorbar\":{\"outlinewidth\":0,\"ticks\":\"\"}}}],\"scattermapbox\":[{\"type\":\"scattermapbox\",\"marker\":{\"colorbar\":{\"outlinewidth\":0,\"ticks\":\"\"}}}],\"scatterternary\":[{\"type\":\"scatterternary\",\"marker\":{\"colorbar\":{\"outlinewidth\":0,\"ticks\":\"\"}}}],\"scattercarpet\":[{\"type\":\"scattercarpet\",\"marker\":{\"colorbar\":{\"outlinewidth\":0,\"ticks\":\"\"}}}],\"carpet\":[{\"aaxis\":{\"endlinecolor\":\"#2a3f5f\",\"gridcolor\":\"white\",\"linecolor\":\"white\",\"minorgridcolor\":\"white\",\"startlinecolor\":\"#2a3f5f\"},\"baxis\":{\"endlinecolor\":\"#2a3f5f\",\"gridcolor\":\"white\",\"linecolor\":\"white\",\"minorgridcolor\":\"white\",\"startlinecolor\":\"#2a3f5f\"},\"type\":\"carpet\"}],\"table\":[{\"cells\":{\"fill\":{\"color\":\"#EBF0F8\"},\"line\":{\"color\":\"white\"}},\"header\":{\"fill\":{\"color\":\"#C8D4E3\"},\"line\":{\"color\":\"white\"}},\"type\":\"table\"}],\"barpolar\":[{\"marker\":{\"line\":{\"color\":\"#E5ECF6\",\"width\":0.5},\"pattern\":{\"fillmode\":\"overlay\",\"size\":10,\"solidity\":0.2}},\"type\":\"barpolar\"}],\"pie\":[{\"automargin\":true,\"type\":\"pie\"}]},\"layout\":{\"autotypenumbers\":\"strict\",\"colorway\":[\"#636efa\",\"#EF553B\",\"#00cc96\",\"#ab63fa\",\"#FFA15A\",\"#19d3f3\",\"#FF6692\",\"#B6E880\",\"#FF97FF\",\"#FECB52\"],\"font\":{\"color\":\"#2a3f5f\"},\"hovermode\":\"closest\",\"hoverlabel\":{\"align\":\"left\"},\"paper_bgcolor\":\"white\",\"plot_bgcolor\":\"#E5ECF6\",\"polar\":{\"bgcolor\":\"#E5ECF6\",\"angularaxis\":{\"gridcolor\":\"white\",\"linecolor\":\"white\",\"ticks\":\"\"},\"radialaxis\":{\"gridcolor\":\"white\",\"linecolor\":\"white\",\"ticks\":\"\"}},\"ternary\":{\"bgcolor\":\"#E5ECF6\",\"aaxis\":{\"gridcolor\":\"white\",\"linecolor\":\"white\",\"ticks\":\"\"},\"baxis\":{\"gridcolor\":\"white\",\"linecolor\":\"white\",\"ticks\":\"\"},\"caxis\":{\"gridcolor\":\"white\",\"linecolor\":\"white\",\"ticks\":\"\"}},\"coloraxis\":{\"colorbar\":{\"outlinewidth\":0,\"ticks\":\"\"}},\"colorscale\":{\"sequential\":[[0.0,\"#0d0887\"],[0.1111111111111111,\"#46039f\"],[0.2222222222222222,\"#7201a8\"],[0.3333333333333333,\"#9c179e\"],[0.4444444444444444,\"#bd3786\"],[0.5555555555555556,\"#d8576b\"],[0.6666666666666666,\"#ed7953\"],[0.7777777777777778,\"#fb9f3a\"],[0.8888888888888888,\"#fdca26\"],[1.0,\"#f0f921\"]],\"sequentialminus\":[[0.0,\"#0d0887\"],[0.1111111111111111,\"#46039f\"],[0.2222222222222222,\"#7201a8\"],[0.3333333333333333,\"#9c179e\"],[0.4444444444444444,\"#bd3786\"],[0.5555555555555556,\"#d8576b\"],[0.6666666666666666,\"#ed7953\"],[0.7777777777777778,\"#fb9f3a\"],[0.8888888888888888,\"#fdca26\"],[1.0,\"#f0f921\"]],\"diverging\":[[0,\"#8e0152\"],[0.1,\"#c51b7d\"],[0.2,\"#de77ae\"],[0.3,\"#f1b6da\"],[0.4,\"#fde0ef\"],[0.5,\"#f7f7f7\"],[0.6,\"#e6f5d0\"],[0.7,\"#b8e186\"],[0.8,\"#7fbc41\"],[0.9,\"#4d9221\"],[1,\"#276419\"]]},\"xaxis\":{\"gridcolor\":\"white\",\"linecolor\":\"white\",\"ticks\":\"\",\"title\":{\"standoff\":15},\"zerolinecolor\":\"white\",\"automargin\":true,\"zerolinewidth\":2},\"yaxis\":{\"gridcolor\":\"white\",\"linecolor\":\"white\",\"ticks\":\"\",\"title\":{\"standoff\":15},\"zerolinecolor\":\"white\",\"automargin\":true,\"zerolinewidth\":2},\"scene\":{\"xaxis\":{\"backgroundcolor\":\"#E5ECF6\",\"gridcolor\":\"white\",\"linecolor\":\"white\",\"showbackground\":true,\"ticks\":\"\",\"zerolinecolor\":\"white\",\"gridwidth\":2},\"yaxis\":{\"backgroundcolor\":\"#E5ECF6\",\"gridcolor\":\"white\",\"linecolor\":\"white\",\"showbackground\":true,\"ticks\":\"\",\"zerolinecolor\":\"white\",\"gridwidth\":2},\"zaxis\":{\"backgroundcolor\":\"#E5ECF6\",\"gridcolor\":\"white\",\"linecolor\":\"white\",\"showbackground\":true,\"ticks\":\"\",\"zerolinecolor\":\"white\",\"gridwidth\":2}},\"shapedefaults\":{\"line\":{\"color\":\"#2a3f5f\"}},\"annotationdefaults\":{\"arrowcolor\":\"#2a3f5f\",\"arrowhead\":0,\"arrowwidth\":1},\"geo\":{\"bgcolor\":\"white\",\"landcolor\":\"#E5ECF6\",\"subunitcolor\":\"white\",\"showland\":true,\"showlakes\":true,\"lakecolor\":\"white\"},\"title\":{\"x\":0.05},\"mapbox\":{\"style\":\"light\"}}},\"xaxis\":{\"anchor\":\"y\",\"domain\":[0.0,0.45],\"title\":{\"text\":\"epochs\"}},\"yaxis\":{\"anchor\":\"x\",\"domain\":[0.0,1.0],\"title\":{\"text\":\"accuracy\"}},\"xaxis2\":{\"anchor\":\"y2\",\"domain\":[0.55,1.0],\"title\":{\"text\":\"epochs\"}},\"yaxis2\":{\"anchor\":\"x2\",\"domain\":[0.0,1.0],\"title\":{\"text\":\"accuracy\"}},\"width\":1000,\"title\":{\"text\":\"Accuracy and loss\"}},                        {\"responsive\": true}                    ).then(function(){\n",
              "                            \n",
              "var gd = document.getElementById('88aa6f61-265a-435d-ab34-5d83ebbcce80');\n",
              "var x = new MutationObserver(function (mutations, observer) {{\n",
              "        var display = window.getComputedStyle(gd).display;\n",
              "        if (!display || display === 'none') {{\n",
              "            console.log([gd, 'removed!']);\n",
              "            Plotly.purge(gd);\n",
              "            observer.disconnect();\n",
              "        }}\n",
              "}});\n",
              "\n",
              "// Listen for the removal of the full notebook cells\n",
              "var notebookContainer = gd.closest('#notebook-container');\n",
              "if (notebookContainer) {{\n",
              "    x.observe(notebookContainer, {childList: true});\n",
              "}}\n",
              "\n",
              "// Listen for the clearing of the current output cell\n",
              "var outputEl = gd.closest('.output');\n",
              "if (outputEl) {{\n",
              "    x.observe(outputEl, {childList: true});\n",
              "}}\n",
              "\n",
              "                        })                };                            </script>        </div>\n",
              "</body>\n",
              "</html>"
            ]
          },
          "metadata": {}
        }
      ]
    },
    {
      "cell_type": "code",
      "source": [
        "test_loss, test_acc = model.evaluate(X_test, y_test, verbose=0)\n",
        "print(test_acc)"
      ],
      "metadata": {
        "colab": {
          "base_uri": "https://localhost:8080/"
        },
        "id": "-BhD_w02YTSJ",
        "outputId": "187984eb-01c4-48ed-be92-af3513eeeef0"
      },
      "execution_count": 16,
      "outputs": [
        {
          "output_type": "stream",
          "name": "stdout",
          "text": [
            "0.8794000148773193\n"
          ]
        }
      ]
    },
    {
      "cell_type": "code",
      "source": [
        "# 5. Predykcja na podstawie modelu\n",
        "\n",
        "# model.evaluate(y_true, y_pred) - pozwala oblilczyc metryki maodelu\n",
        "# model.predict_classes() - pozwala zwrocic odpowiednio przewidziane klasy ale zostala usunieta od Tensorflow 2.6\n",
        "        # predict_x=model.predict(X_test)\n",
        "        # classes_x=np.argmax(predict_x,axis=1)\n",
        "# model.predict_proba(), model.predict() - pozwala zwrocic prawdopodobienstwo danej klasy"
      ],
      "metadata": {
        "id": "hHybZMiaRfIf"
      },
      "execution_count": null,
      "outputs": []
    },
    {
      "cell_type": "code",
      "source": [
        "predictions = model.predict(X_test)\n",
        "predictions"
      ],
      "metadata": {
        "colab": {
          "base_uri": "https://localhost:8080/"
        },
        "id": "_GjJFpaCRaGf",
        "outputId": "0283f5de-b7a6-4812-ab8f-341984360ddb"
      },
      "execution_count": 17,
      "outputs": [
        {
          "output_type": "stream",
          "name": "stdout",
          "text": [
            "313/313 [==============================] - 1s 2ms/step\n"
          ]
        },
        {
          "output_type": "execute_result",
          "data": {
            "text/plain": [
              "array([[0.000002850215, 0.000000001807, 0.000000036835, ..., 0.005754375   , 0.00000052299 , 0.99316424    ],\n",
              "       [0.000010472486, 0.            , 0.99950004    , ..., 0.            , 0.000000000624, 0.            ],\n",
              "       [0.000000015585, 1.            , 0.000000000001, ..., 0.            , 0.            , 0.            ],\n",
              "       ...,\n",
              "       [0.000050697963, 0.000000000014, 0.000008427859, ..., 0.000000001867, 0.99992824    , 0.000000000001],\n",
              "       [0.000000083054, 0.9999554     , 0.000000000079, ..., 0.            , 0.000000000478, 0.            ],\n",
              "       [0.000007195873, 0.00000003263 , 0.000001321762, ..., 0.0013800787  , 0.000022102602, 0.000039702732]], dtype=float32)"
            ]
          },
          "metadata": {},
          "execution_count": 17
        }
      ]
    },
    {
      "cell_type": "code",
      "source": [
        "predictions_df = pd.DataFrame(predictions)\n",
        "predictions_df.head()"
      ],
      "metadata": {
        "colab": {
          "base_uri": "https://localhost:8080/",
          "height": 206
        },
        "id": "sHMkze4RSZK4",
        "outputId": "0afefcd7-c56b-4684-a68a-4ee8cf1daf8e"
      },
      "execution_count": 18,
      "outputs": [
        {
          "output_type": "execute_result",
          "data": {
            "text/plain": [
              "         0        1        2        3        4        5        6        7  \\\n",
              "0 0.000003 0.000000 0.000000 0.000000 0.000000 0.001077 0.000000 0.005754   \n",
              "1 0.000010 0.000000 0.999500 0.000000 0.000366 0.000000 0.000123 0.000000   \n",
              "2 0.000000 1.000000 0.000000 0.000000 0.000000 0.000000 0.000000 0.000000   \n",
              "3 0.000000 1.000000 0.000000 0.000000 0.000000 0.000000 0.000000 0.000000   \n",
              "4 0.486112 0.000000 0.001240 0.000475 0.000523 0.000000 0.511630 0.000001   \n",
              "\n",
              "         8        9  \n",
              "0 0.000001 0.993164  \n",
              "1 0.000000 0.000000  \n",
              "2 0.000000 0.000000  \n",
              "3 0.000000 0.000000  \n",
              "4 0.000018 0.000001  "
            ],
            "text/html": [
              "\n",
              "  <div id=\"df-10d2b7bb-59c2-4f28-b8b5-6a8a114cab4e\">\n",
              "    <div class=\"colab-df-container\">\n",
              "      <div>\n",
              "<style scoped>\n",
              "    .dataframe tbody tr th:only-of-type {\n",
              "        vertical-align: middle;\n",
              "    }\n",
              "\n",
              "    .dataframe tbody tr th {\n",
              "        vertical-align: top;\n",
              "    }\n",
              "\n",
              "    .dataframe thead th {\n",
              "        text-align: right;\n",
              "    }\n",
              "</style>\n",
              "<table border=\"1\" class=\"dataframe\">\n",
              "  <thead>\n",
              "    <tr style=\"text-align: right;\">\n",
              "      <th></th>\n",
              "      <th>0</th>\n",
              "      <th>1</th>\n",
              "      <th>2</th>\n",
              "      <th>3</th>\n",
              "      <th>4</th>\n",
              "      <th>5</th>\n",
              "      <th>6</th>\n",
              "      <th>7</th>\n",
              "      <th>8</th>\n",
              "      <th>9</th>\n",
              "    </tr>\n",
              "  </thead>\n",
              "  <tbody>\n",
              "    <tr>\n",
              "      <th>0</th>\n",
              "      <td>0.000003</td>\n",
              "      <td>0.000000</td>\n",
              "      <td>0.000000</td>\n",
              "      <td>0.000000</td>\n",
              "      <td>0.000000</td>\n",
              "      <td>0.001077</td>\n",
              "      <td>0.000000</td>\n",
              "      <td>0.005754</td>\n",
              "      <td>0.000001</td>\n",
              "      <td>0.993164</td>\n",
              "    </tr>\n",
              "    <tr>\n",
              "      <th>1</th>\n",
              "      <td>0.000010</td>\n",
              "      <td>0.000000</td>\n",
              "      <td>0.999500</td>\n",
              "      <td>0.000000</td>\n",
              "      <td>0.000366</td>\n",
              "      <td>0.000000</td>\n",
              "      <td>0.000123</td>\n",
              "      <td>0.000000</td>\n",
              "      <td>0.000000</td>\n",
              "      <td>0.000000</td>\n",
              "    </tr>\n",
              "    <tr>\n",
              "      <th>2</th>\n",
              "      <td>0.000000</td>\n",
              "      <td>1.000000</td>\n",
              "      <td>0.000000</td>\n",
              "      <td>0.000000</td>\n",
              "      <td>0.000000</td>\n",
              "      <td>0.000000</td>\n",
              "      <td>0.000000</td>\n",
              "      <td>0.000000</td>\n",
              "      <td>0.000000</td>\n",
              "      <td>0.000000</td>\n",
              "    </tr>\n",
              "    <tr>\n",
              "      <th>3</th>\n",
              "      <td>0.000000</td>\n",
              "      <td>1.000000</td>\n",
              "      <td>0.000000</td>\n",
              "      <td>0.000000</td>\n",
              "      <td>0.000000</td>\n",
              "      <td>0.000000</td>\n",
              "      <td>0.000000</td>\n",
              "      <td>0.000000</td>\n",
              "      <td>0.000000</td>\n",
              "      <td>0.000000</td>\n",
              "    </tr>\n",
              "    <tr>\n",
              "      <th>4</th>\n",
              "      <td>0.486112</td>\n",
              "      <td>0.000000</td>\n",
              "      <td>0.001240</td>\n",
              "      <td>0.000475</td>\n",
              "      <td>0.000523</td>\n",
              "      <td>0.000000</td>\n",
              "      <td>0.511630</td>\n",
              "      <td>0.000001</td>\n",
              "      <td>0.000018</td>\n",
              "      <td>0.000001</td>\n",
              "    </tr>\n",
              "  </tbody>\n",
              "</table>\n",
              "</div>\n",
              "      <button class=\"colab-df-convert\" onclick=\"convertToInteractive('df-10d2b7bb-59c2-4f28-b8b5-6a8a114cab4e')\"\n",
              "              title=\"Convert this dataframe to an interactive table.\"\n",
              "              style=\"display:none;\">\n",
              "        \n",
              "  <svg xmlns=\"http://www.w3.org/2000/svg\" height=\"24px\"viewBox=\"0 0 24 24\"\n",
              "       width=\"24px\">\n",
              "    <path d=\"M0 0h24v24H0V0z\" fill=\"none\"/>\n",
              "    <path d=\"M18.56 5.44l.94 2.06.94-2.06 2.06-.94-2.06-.94-.94-2.06-.94 2.06-2.06.94zm-11 1L8.5 8.5l.94-2.06 2.06-.94-2.06-.94L8.5 2.5l-.94 2.06-2.06.94zm10 10l.94 2.06.94-2.06 2.06-.94-2.06-.94-.94-2.06-.94 2.06-2.06.94z\"/><path d=\"M17.41 7.96l-1.37-1.37c-.4-.4-.92-.59-1.43-.59-.52 0-1.04.2-1.43.59L10.3 9.45l-7.72 7.72c-.78.78-.78 2.05 0 2.83L4 21.41c.39.39.9.59 1.41.59.51 0 1.02-.2 1.41-.59l7.78-7.78 2.81-2.81c.8-.78.8-2.07 0-2.86zM5.41 20L4 18.59l7.72-7.72 1.47 1.35L5.41 20z\"/>\n",
              "  </svg>\n",
              "      </button>\n",
              "      \n",
              "  <style>\n",
              "    .colab-df-container {\n",
              "      display:flex;\n",
              "      flex-wrap:wrap;\n",
              "      gap: 12px;\n",
              "    }\n",
              "\n",
              "    .colab-df-convert {\n",
              "      background-color: #E8F0FE;\n",
              "      border: none;\n",
              "      border-radius: 50%;\n",
              "      cursor: pointer;\n",
              "      display: none;\n",
              "      fill: #1967D2;\n",
              "      height: 32px;\n",
              "      padding: 0 0 0 0;\n",
              "      width: 32px;\n",
              "    }\n",
              "\n",
              "    .colab-df-convert:hover {\n",
              "      background-color: #E2EBFA;\n",
              "      box-shadow: 0px 1px 2px rgba(60, 64, 67, 0.3), 0px 1px 3px 1px rgba(60, 64, 67, 0.15);\n",
              "      fill: #174EA6;\n",
              "    }\n",
              "\n",
              "    [theme=dark] .colab-df-convert {\n",
              "      background-color: #3B4455;\n",
              "      fill: #D2E3FC;\n",
              "    }\n",
              "\n",
              "    [theme=dark] .colab-df-convert:hover {\n",
              "      background-color: #434B5C;\n",
              "      box-shadow: 0px 1px 3px 1px rgba(0, 0, 0, 0.15);\n",
              "      filter: drop-shadow(0px 1px 2px rgba(0, 0, 0, 0.3));\n",
              "      fill: #FFFFFF;\n",
              "    }\n",
              "  </style>\n",
              "\n",
              "      <script>\n",
              "        const buttonEl =\n",
              "          document.querySelector('#df-10d2b7bb-59c2-4f28-b8b5-6a8a114cab4e button.colab-df-convert');\n",
              "        buttonEl.style.display =\n",
              "          google.colab.kernel.accessAllowed ? 'block' : 'none';\n",
              "\n",
              "        async function convertToInteractive(key) {\n",
              "          const element = document.querySelector('#df-10d2b7bb-59c2-4f28-b8b5-6a8a114cab4e');\n",
              "          const dataTable =\n",
              "            await google.colab.kernel.invokeFunction('convertToInteractive',\n",
              "                                                     [key], {});\n",
              "          if (!dataTable) return;\n",
              "\n",
              "          const docLinkHtml = 'Like what you see? Visit the ' +\n",
              "            '<a target=\"_blank\" href=https://colab.research.google.com/notebooks/data_table.ipynb>data table notebook</a>'\n",
              "            + ' to learn more about interactive tables.';\n",
              "          element.innerHTML = '';\n",
              "          dataTable['output_type'] = 'display_data';\n",
              "          await google.colab.output.renderOutput(dataTable, element);\n",
              "          const docLink = document.createElement('div');\n",
              "          docLink.innerHTML = docLinkHtml;\n",
              "          element.appendChild(docLink);\n",
              "        }\n",
              "      </script>\n",
              "    </div>\n",
              "  </div>\n",
              "  "
            ]
          },
          "metadata": {},
          "execution_count": 18
        }
      ]
    },
    {
      "cell_type": "code",
      "source": [],
      "metadata": {
        "id": "ov7EYCGWWaLS"
      },
      "execution_count": 12,
      "outputs": []
    },
    {
      "cell_type": "code",
      "source": [],
      "metadata": {
        "id": "YnPLkszMWVbL"
      },
      "execution_count": 12,
      "outputs": []
    },
    {
      "cell_type": "code",
      "source": [],
      "metadata": {
        "id": "LcOA6PPRWQLf"
      },
      "execution_count": 12,
      "outputs": []
    },
    {
      "cell_type": "code",
      "source": [],
      "metadata": {
        "id": "9kYYyAD4WO4N"
      },
      "execution_count": 12,
      "outputs": []
    },
    {
      "cell_type": "code",
      "source": [],
      "metadata": {
        "id": "VG-Pe1RhS3jz"
      },
      "execution_count": 12,
      "outputs": []
    },
    {
      "cell_type": "code",
      "source": [],
      "metadata": {
        "id": "8P8dFaROSzn7"
      },
      "execution_count": 12,
      "outputs": []
    },
    {
      "cell_type": "code",
      "source": [],
      "metadata": {
        "id": "Q5pnCLI_Ss9H"
      },
      "execution_count": 12,
      "outputs": []
    },
    {
      "cell_type": "code",
      "source": [],
      "metadata": {
        "id": "VqdBOgzdSU25"
      },
      "execution_count": 12,
      "outputs": []
    },
    {
      "cell_type": "code",
      "source": [],
      "metadata": {
        "id": "R5t8QOB2SH6n"
      },
      "execution_count": 12,
      "outputs": []
    },
    {
      "cell_type": "code",
      "source": [],
      "metadata": {
        "id": "wydQDIC6SGdy"
      },
      "execution_count": 12,
      "outputs": []
    },
    {
      "cell_type": "code",
      "source": [],
      "metadata": {
        "id": "v8TQZPLaM7uw"
      },
      "execution_count": 12,
      "outputs": []
    },
    {
      "cell_type": "code",
      "source": [],
      "metadata": {
        "id": "Brr_P6XEMGM7"
      },
      "execution_count": 12,
      "outputs": []
    },
    {
      "cell_type": "code",
      "source": [],
      "metadata": {
        "id": "DHu1xRDTL6kJ"
      },
      "execution_count": 12,
      "outputs": []
    },
    {
      "cell_type": "code",
      "source": [],
      "metadata": {
        "id": "bjc7bd8gL2pF"
      },
      "execution_count": 12,
      "outputs": []
    },
    {
      "cell_type": "code",
      "source": [],
      "metadata": {
        "id": "dUpZGdRqL0Qk"
      },
      "execution_count": 12,
      "outputs": []
    },
    {
      "cell_type": "code",
      "source": [],
      "metadata": {
        "id": "e39DCOJ2Lp5w"
      },
      "execution_count": 12,
      "outputs": []
    },
    {
      "cell_type": "code",
      "source": [],
      "metadata": {
        "id": "lYeXPYyoLoNS"
      },
      "execution_count": 12,
      "outputs": []
    },
    {
      "cell_type": "code",
      "source": [],
      "metadata": {
        "id": "wLSiixjyLb8y"
      },
      "execution_count": 12,
      "outputs": []
    },
    {
      "cell_type": "code",
      "source": [],
      "metadata": {
        "id": "DhY5NpALLU8b"
      },
      "execution_count": 12,
      "outputs": []
    },
    {
      "cell_type": "code",
      "source": [],
      "metadata": {
        "id": "5BIfF9yoKCOQ"
      },
      "execution_count": 12,
      "outputs": []
    },
    {
      "cell_type": "code",
      "source": [],
      "metadata": {
        "id": "eZcvOvkeJQfs"
      },
      "execution_count": 12,
      "outputs": []
    },
    {
      "cell_type": "code",
      "source": [],
      "metadata": {
        "id": "rD8iGIovJByp"
      },
      "execution_count": 12,
      "outputs": []
    },
    {
      "cell_type": "code",
      "source": [],
      "metadata": {
        "id": "nNlMgrd3Ht9b"
      },
      "execution_count": 12,
      "outputs": []
    }
  ]
}