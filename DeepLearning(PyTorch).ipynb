{
  "nbformat": 4,
  "nbformat_minor": 0,
  "metadata": {
    "colab": {
      "provenance": [],
      "authorship_tag": "ABX9TyPhebbo6P9RGu+0c+heqUUb",
      "include_colab_link": true
    },
    "kernelspec": {
      "name": "python3",
      "display_name": "Python 3"
    },
    "language_info": {
      "name": "python"
    }
  },
  "cells": [
    {
      "cell_type": "markdown",
      "metadata": {
        "id": "view-in-github",
        "colab_type": "text"
      },
      "source": [
        "<a href=\"https://colab.research.google.com/github/BuberDev/Machine_Learning/blob/main/DeepLearning(PyTorch).ipynb\" target=\"_parent\"><img src=\"https://colab.research.google.com/assets/colab-badge.svg\" alt=\"Open In Colab\"/></a>"
      ]
    },
    {
      "cell_type": "code",
      "execution_count": 43,
      "metadata": {
        "colab": {
          "base_uri": "https://localhost:8080/"
        },
        "id": "r0zFPmarS77A",
        "outputId": "6fa17261-c9b8-4a9b-88c9-5ec21dbe7dd1"
      },
      "outputs": [
        {
          "output_type": "execute_result",
          "data": {
            "text/plain": [
              "{1: 'data (prepare and load)',\n",
              " 2: 'build model',\n",
              " 3: 'fitting the model to data (training)',\n",
              " 4: 'making prediction and evaluating a model (interference)',\n",
              " 5: 'saving and loading a model',\n",
              " 6: 'putting it and together'}"
            ]
          },
          "metadata": {},
          "execution_count": 43
        }
      ],
      "source": [
        "what_were_covering = {1: \"data (prepare and load)\",\n",
        "                      2: \"build model\",\n",
        "                      3: \"fitting the model to data (training)\",\n",
        "                      4: \"making prediction and evaluating a model (interference)\",\n",
        "                      5: \"saving and loading a model\",\n",
        "                      6: \"putting it and together\"}\n",
        "\n",
        "what_were_covering"
      ]
    },
    {
      "cell_type": "code",
      "source": [
        "import torch \n",
        "from torch import nn # Contains all of PyTorch's building blocks for neural networks\n",
        "import matplotlib.pyplot as plt\n",
        "\n",
        "# Check PyTorch version\n",
        "torch.__version__ "
      ],
      "metadata": {
        "colab": {
          "base_uri": "https://localhost:8080/",
          "height": 36
        },
        "id": "OZGismwTT6BC",
        "outputId": "c5827010-582c-4968-d62a-b91182eb97cc"
      },
      "execution_count": 44,
      "outputs": [
        {
          "output_type": "execute_result",
          "data": {
            "text/plain": [
              "'1.13.1+cu116'"
            ],
            "application/vnd.google.colaboratory.intrinsic+json": {
              "type": "string"
            }
          },
          "metadata": {},
          "execution_count": 44
        }
      ]
    },
    {
      "cell_type": "markdown",
      "source": [
        "## 1. Data (preparing and loading)\n",
        "\n",
        "Data can be almost everything... in ML\n",
        "- Excel speadsheet\n",
        "- images of any kind\n",
        "- videos (YouTube has a lot of data)\n",
        "- Audio llike songs or podcasts\n",
        "- DNA\n",
        "- Text\n",
        "\n",
        "Machine Learning is a game of two parts:\n",
        "1. Get data into a numerical representation\n",
        "2. Build a model to learn patterns in that numerical representation\n",
        "\n",
        "To showcase this. let's create some known data using the linear regression formula.\n",
        "We'll use a linear regression formula to make a straight line with *known* ***parameters***"
      ],
      "metadata": {
        "id": "4TQYUtR9VXNS"
      }
    },
    {
      "cell_type": "code",
      "source": [
        "# Create *known* parameters\n",
        "weight = 0.7\n",
        "bias = 0.3\n",
        "\n",
        "# Create a model that will estimate those values above (because we know them already) \n",
        "start = 0\n",
        "end = 1\n",
        "step = 0.02\n",
        "X = torch.arange(start, end, step).unsqueeze(dim=1)\n",
        "y = weight * X + bias # Linear Regression formula\n",
        "\n",
        "X[:10], y[:10], len(X), len(y)\n",
        "\n"
      ],
      "metadata": {
        "colab": {
          "base_uri": "https://localhost:8080/"
        },
        "id": "ggXco98SUoQg",
        "outputId": "8d0bf88b-f9ec-46f7-9796-9c7b4d1fc3bd"
      },
      "execution_count": 45,
      "outputs": [
        {
          "output_type": "execute_result",
          "data": {
            "text/plain": [
              "(tensor([[0.0000],\n",
              "         [0.0200],\n",
              "         [0.0400],\n",
              "         [0.0600],\n",
              "         [0.0800],\n",
              "         [0.1000],\n",
              "         [0.1200],\n",
              "         [0.1400],\n",
              "         [0.1600],\n",
              "         [0.1800]]), tensor([[0.3000],\n",
              "         [0.3140],\n",
              "         [0.3280],\n",
              "         [0.3420],\n",
              "         [0.3560],\n",
              "         [0.3700],\n",
              "         [0.3840],\n",
              "         [0.3980],\n",
              "         [0.4120],\n",
              "         [0.4260]]), 50, 50)"
            ]
          },
          "metadata": {},
          "execution_count": 45
        }
      ]
    },
    {
      "cell_type": "markdown",
      "source": [
        "### Spliting data into training and test sets (one of the most important conceepts in ML)"
      ],
      "metadata": {
        "id": "A0hGI4dfcucU"
      }
    },
    {
      "cell_type": "code",
      "source": [
        "# Create a train/test split\n",
        "train_split = int(0.8 * len(X))\n",
        "X_train, y_train = X[:train_split], y[:train_split]\n",
        "X_test, y_test = X[train_split:], y[train_split:]\n",
        "# X_train, y_train\n",
        "len(X_train), len(y_train), len(X_test), len(y_test)"
      ],
      "metadata": {
        "colab": {
          "base_uri": "https://localhost:8080/"
        },
        "id": "nNRb6cOdZlcu",
        "outputId": "09ef79dc-5462-4fab-bc96-6bd3d90c6740"
      },
      "execution_count": 46,
      "outputs": [
        {
          "output_type": "execute_result",
          "data": {
            "text/plain": [
              "(40, 40, 10, 10)"
            ]
          },
          "metadata": {},
          "execution_count": 46
        }
      ]
    },
    {
      "cell_type": "markdown",
      "source": [
        "How might we better visualize our data?\n",
        "This is where the data experts motto comes in!\n",
        "\"Visualize, visualize, visualize!\""
      ],
      "metadata": {
        "id": "mPJ-z-_Hgd87"
      }
    },
    {
      "cell_type": "code",
      "source": [
        "def plot_prediction(train_data=X_train,\n",
        "                    train_labels=y_train,\n",
        "                    test_data=X_test,\n",
        "                    test_labels=y_test,\n",
        "                    predictions=None):\n",
        "  \"\"\"\n",
        "  Plots traning data, test data and compares predictions\n",
        "  \"\"\"\n",
        "  plt.figure(figsize=(10,7))\n",
        "\n",
        "  # Plot training data in blue \n",
        "  plt.scatter(train_data, train_labels, c=\"b\", s=4, label=\"Traning data\")\n",
        "\n",
        "  # Plot test data in green \n",
        "  plt.scatter(test_data, test_labels, c=\"g\", s=4, label=\"Test data\")\n",
        "\n",
        "  # Are there predictions? Chec if they are predictions\n",
        "  if predictions is not None:\n",
        "    # Plot the predictions if they exist\n",
        "    plt.scatter(test_data, predictions, c=\"r\", s=4, label=\"Predictions\")\n",
        "  \n",
        "  # Show the legend\n",
        "  plt.legend(prop={\"size\": 14})"
      ],
      "metadata": {
        "id": "WHV4XFcigCnw"
      },
      "execution_count": 47,
      "outputs": []
    },
    {
      "cell_type": "code",
      "source": [
        "plot_prediction()"
      ],
      "metadata": {
        "colab": {
          "base_uri": "https://localhost:8080/",
          "height": 428
        },
        "id": "i7R7g2d-joS9",
        "outputId": "2818b58f-1fe4-40ed-dcfa-7ec648d21053"
      },
      "execution_count": 48,
      "outputs": [
        {
          "output_type": "display_data",
          "data": {
            "text/plain": [
              "<Figure size 720x504 with 1 Axes>"
            ],
            "image/png": "[encoded data removed]"
          },
          "metadata": {
            "needs_background": "light"
          }
        }
      ]
    },
    {
      "cell_type": "markdown",
      "source": [
        "## 2. Build model\n",
        "Our first PyTorch model!\n",
        "What our model does:\n",
        "- Start with random values (weights & bias)\n",
        "- Look at training data and adjust the random values to better represent (or get closer to) the ideal values (the weight & bias values we used to create the data)\n",
        "\n",
        "How does it so?\n",
        "Through two main algorithms:\n",
        "1. Gradient descent\n",
        "2. Backpropagation"
      ],
      "metadata": {
        "id": "DvOnFdTqkgxa"
      }
    },
    {
      "cell_type": "code",
      "source": [
        "from torch import nn\n",
        "# Create linear regression model class\n",
        "class LinearRegressionModel(nn.Module): # <- Almost everything in PyTorch inherits from nn.Module\n",
        "  def __init__(self):\n",
        "    super().__init__()\n",
        "    self.weight = nn.Parameter(torch.randn(1, # <- start with random weight and try to adjust it to the ideal weight\n",
        "                                            requires_grad=True, # <- can this parameter be updated via gradient descent?\n",
        "                                            dtype=torch.float)) # <- PyTorch loves the datatype torch.float32\n",
        "    self.bias = nn.Parameter(torch.randn(1, # <- start with random bias and try to adjust it to the ideal weight\n",
        "                                         requires_grad=True,# <- can this parameter be updated via gradient descent?\n",
        "                                         dtype=torch.float))# <- PyTorch loves the datatype torch.float32\n",
        "    \n",
        "\n",
        "    # Forward method to define the computation in the model\n",
        "  def forward(self, x: torch.Tensor) -> torch.Tensor: # <- \"x\" is the input data\n",
        "    return self.weight * x + self.bias # This is the Linear Regression formula\n",
        "\n"
      ],
      "metadata": {
        "id": "s4mfsY-PjvK2"
      },
      "execution_count": 49,
      "outputs": []
    },
    {
      "cell_type": "markdown",
      "source": [
        "### PyTorch model building essentials\n",
        "* torch.nn - Contains all of the buildings for computational graphs ( a neural networs)\n",
        "* torch.nn.Parameter - what parameters should our model try and learn, oftrn a PyTorch layer from torch.nn will set these for us \n",
        "* torch.nn.Module - The base class for all neural network modules, if you subclass it,   you should overide forward()\n",
        "* torch.optim - this where the optimizers in PyTorch live, they will help with gradient descent\n",
        "* def forward() - All nn.Module subclasses require you to overwrite forward(), this method defines what happens in the forward computation"
      ],
      "metadata": {
        "id": "IoXYWvbd1DHU"
      }
    },
    {
      "cell_type": "markdown",
      "source": [
        "### Chcecking the contents of our PyTorch model\n",
        "Now we've created a model, let's see what's inside...\n",
        "So we can check our model parameters or what is inside our model using `.parameters()`"
      ],
      "metadata": {
        "id": "sZ6P2N1M4YFQ"
      }
    },
    {
      "cell_type": "code",
      "source": [
        "from torch import nn\n",
        "## Create random seed\n",
        "torch.manual_seed(42)\n",
        "\n",
        "# Create an instance of the model (this is a subclass of nn.Module)\n",
        "model_0 = LinearRegressionModel()\n",
        "\n",
        "# Create out the parameters\n",
        "list(model_0.parameters())"
      ],
      "metadata": {
        "colab": {
          "base_uri": "https://localhost:8080/"
        },
        "id": "I7-_f0SmhnSd",
        "outputId": "a6062330-b0a8-4b2b-d52f-a437e6cf4c37"
      },
      "execution_count": 50,
      "outputs": [
        {
          "output_type": "execute_result",
          "data": {
            "text/plain": [
              "[Parameter containing:\n",
              " tensor([0.3367], requires_grad=True), Parameter containing:\n",
              " tensor([0.1288], requires_grad=True)]"
            ]
          },
          "metadata": {},
          "execution_count": 50
        }
      ]
    },
    {
      "cell_type": "markdown",
      "source": [
        "### Making predicting using `torch.inference_mode()`\n",
        "To check our model's predictive power, let's see how well it predicts `y_test`based on `x_test`\n",
        "When we pass data through our model, it's going to run it through the `forward()`method \n"
      ],
      "metadata": {
        "id": "6KyDHMaXAPto"
      }
    },
    {
      "cell_type": "code",
      "source": [
        "# Make prediction with model\n",
        "with torch.inference_mode():\n",
        "  y_preds = model_0(X_test)\n",
        "y_preds"
      ],
      "metadata": {
        "colab": {
          "base_uri": "https://localhost:8080/"
        },
        "id": "RJLcIwPH5Xx-",
        "outputId": "849f71d0-7ae3-4e13-9cc2-d5b647869bd0"
      },
      "execution_count": 51,
      "outputs": [
        {
          "output_type": "execute_result",
          "data": {
            "text/plain": [
              "tensor([[0.3982],\n",
              "        [0.4049],\n",
              "        [0.4116],\n",
              "        [0.4184],\n",
              "        [0.4251],\n",
              "        [0.4318],\n",
              "        [0.4386],\n",
              "        [0.4453],\n",
              "        [0.4520],\n",
              "        [0.4588]])"
            ]
          },
          "metadata": {},
          "execution_count": 51
        }
      ]
    },
    {
      "cell_type": "code",
      "source": [
        "y_test"
      ],
      "metadata": {
        "colab": {
          "base_uri": "https://localhost:8080/"
        },
        "id": "Et6Qz0PJBhwv",
        "outputId": "bf040cd5-0006-4d64-8cdd-dbfe87e538be"
      },
      "execution_count": 52,
      "outputs": [
        {
          "output_type": "execute_result",
          "data": {
            "text/plain": [
              "tensor([[0.8600],\n",
              "        [0.8740],\n",
              "        [0.8880],\n",
              "        [0.9020],\n",
              "        [0.9160],\n",
              "        [0.9300],\n",
              "        [0.9440],\n",
              "        [0.9580],\n",
              "        [0.9720],\n",
              "        [0.9860]])"
            ]
          },
          "metadata": {},
          "execution_count": 52
        }
      ]
    },
    {
      "cell_type": "code",
      "source": [
        "plot_prediction(predictions=y_preds)"
      ],
      "metadata": {
        "colab": {
          "base_uri": "https://localhost:8080/",
          "height": 428
        },
        "id": "eqQE7XC7BTmM",
        "outputId": "7d93560d-957c-476d-ed6b-df876a5a4730"
      },
      "execution_count": 53,
      "outputs": [
        {
          "output_type": "display_data",
          "data": {
            "text/plain": [
              "<Figure size 720x504 with 1 Axes>"
            ],
            "image/png": "[encoded data removed]"
          },
          "metadata": {
            "needs_background": "light"
          }
        }
      ]
    },
    {
      "cell_type": "markdown",
      "source": [
        "## 3. Train Model\n",
        "\n",
        "The whole idea of training is for a model to move from some *unknown* parameters (thesecmay be random) to some *known* parameters.\n",
        "\n",
        "Or in other words from a poor represenntation of the data to a better representation of the data\n",
        "\n",
        "One way to measure how poor or how wrong your models predictions are, is to use a loss function\n",
        "* Note: Loss function may also be called cost function or criterion in different areas. For our case, we're going to refer to it as a loss function\n",
        "\n",
        "Things we need to train:\n",
        "* **Loss function:** A function to measure how wrong your model's predictions are to the ideal outputs, lower is better\n",
        "* **Optimizer:** Takes into account the loss of model and adjusts the model's parameters(e.g. weight & bias) to improve the loss function\n",
        "\n",
        "And specifically for PyTorch, we need:\n",
        "* A training loop\n",
        "* A testing loop"
      ],
      "metadata": {
        "id": "2GuAJkPMHxNB"
      }
    },
    {
      "cell_type": "code",
      "source": [
        "list(model_0.parameters())"
      ],
      "metadata": {
        "colab": {
          "base_uri": "https://localhost:8080/"
        },
        "id": "6g1mJtmIfX8b",
        "outputId": "e8d62df3-19d8-487d-a224-851e122ca08d"
      },
      "execution_count": 55,
      "outputs": [
        {
          "output_type": "execute_result",
          "data": {
            "text/plain": [
              "[Parameter containing:\n",
              " tensor([0.3367], requires_grad=True), Parameter containing:\n",
              " tensor([0.1288], requires_grad=True)]"
            ]
          },
          "metadata": {},
          "execution_count": 55
        }
      ]
    },
    {
      "cell_type": "code",
      "source": [
        "# Check out our model's parameters (a parameter is a value that the model sets itself)\n",
        "model_0.state_dict()"
      ],
      "metadata": {
        "colab": {
          "base_uri": "https://localhost:8080/"
        },
        "id": "PDWrlgGGfT_m",
        "outputId": "759aceee-2f01-4e80-ed4a-3f6e72136822"
      },
      "execution_count": 56,
      "outputs": [
        {
          "output_type": "execute_result",
          "data": {
            "text/plain": [
              "OrderedDict([('weight', tensor([0.3367])), ('bias', tensor([0.1288]))])"
            ]
          },
          "metadata": {},
          "execution_count": 56
        }
      ]
    },
    {
      "cell_type": "code",
      "source": [
        "# Setup a loss function\n",
        "loss_fn = nn.L1Loss\n",
        "\n",
        "# Setup optimizer (stochastic gradient descent)\n",
        "optimizer = torch.optim.SGD(params=model.parameters(),\n",
        "                            lr=0.001) # lr = learning rate = possibly the most important hyperparameter you can set "
      ],
      "metadata": {
        "colab": {
          "base_uri": "https://localhost:8080/"
        },
        "id": "gzd1mk_BeLqo",
        "outputId": "a7aeeaba-4229-4f6b-ae32-e82febff7dec"
      },
      "execution_count": 57,
      "outputs": [
        {
          "output_type": "execute_result",
          "data": {
            "text/plain": [
              "torch.nn.modules.loss.L1Loss"
            ]
          },
          "metadata": {},
          "execution_count": 57
        }
      ]
    },
    {
      "cell_type": "code",
      "source": [],
      "metadata": {
        "id": "rURvCibxMjCX"
      },
      "execution_count": null,
      "outputs": []
    },
    {
      "cell_type": "code",
      "source": [],
      "metadata": {
        "id": "ZFvPW9FeZhhx"
      },
      "execution_count": 53,
      "outputs": []
    },
    {
      "cell_type": "code",
      "source": [],
      "metadata": {
        "id": "Z50Q2TL_ZdQV"
      },
      "execution_count": 53,
      "outputs": []
    },
    {
      "cell_type": "code",
      "source": [],
      "metadata": {
        "id": "laXJE2MTZYQD"
      },
      "execution_count": 53,
      "outputs": []
    }
  ]
}