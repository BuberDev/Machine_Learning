{
  "nbformat": 4,
  "nbformat_minor": 0,
  "metadata": {
    "colab": {
      "provenance": [],
      "authorship_tag": "ABX9TyNI9379xCUD6x1+RSrGTmXO",
      "include_colab_link": true
    },
    "kernelspec": {
      "name": "python3",
      "display_name": "Python 3"
    },
    "language_info": {
      "name": "python"
    }
  },
  "cells": [
    {
      "cell_type": "markdown",
      "metadata": {
        "id": "view-in-github",
        "colab_type": "text"
      },
      "source": [
        "<a href=\"https://colab.research.google.com/github/BuberDev/Machine_Learning/blob/main/Numpy_Basic_01.ipynb\" target=\"_parent\"><img src=\"https://colab.research.google.com/assets/colab-badge.svg\" alt=\"Open In Colab\"/></a>"
      ]
    },
    {
      "cell_type": "markdown",
      "source": [
        "1. Załaduj moduł numpy"
      ],
      "metadata": {
        "id": "qWl221qkZbXs"
      }
    },
    {
      "cell_type": "code",
      "execution_count": null,
      "metadata": {
        "id": "m4bgSLP6YLx_"
      },
      "outputs": [],
      "source": [
        "import numpy as np\n",
        "import pandas as pd"
      ]
    },
    {
      "cell_type": "code",
      "source": [],
      "metadata": {
        "id": "1Gv8LjyBbYuC"
      },
      "execution_count": null,
      "outputs": []
    },
    {
      "cell_type": "markdown",
      "source": [
        "2. Utwórz w zmiennej a jednowymiarową tablicę z elementami od 0 do 19. Hint: Służy do tego metoda np.arange(...)"
      ],
      "metadata": {
        "id": "5a274_OgZehy"
      }
    },
    {
      "cell_type": "code",
      "source": [
        "a = np.arange(20)\n",
        "a"
      ],
      "metadata": {
        "colab": {
          "base_uri": "https://localhost:8080/"
        },
        "id": "lSpftmT3YRBf",
        "outputId": "2c2d2c1b-c5c7-4452-83ac-18426043f9a5"
      },
      "execution_count": null,
      "outputs": [
        {
          "output_type": "execute_result",
          "data": {
            "text/plain": [
              "array([ 0,  1,  2,  3,  4,  5,  6,  7,  8,  9, 10, 11, 12, 13, 14, 15, 16,\n",
              "       17, 18, 19])"
            ]
          },
          "metadata": {},
          "execution_count": 9
        }
      ]
    },
    {
      "cell_type": "markdown",
      "source": [
        "3. Wyświetl kształt tej tablicy. Hint: służy do tego właściwość shape"
      ],
      "metadata": {
        "id": "CYnhIsvEZlxG"
      }
    },
    {
      "cell_type": "code",
      "source": [
        "a.shape"
      ],
      "metadata": {
        "colab": {
          "base_uri": "https://localhost:8080/"
        },
        "id": "rSAFHNedY6XL",
        "outputId": "fcfc4f98-c970-41ab-e2dd-0f358b69efa5"
      },
      "execution_count": null,
      "outputs": [
        {
          "output_type": "execute_result",
          "data": {
            "text/plain": [
              "(20,)"
            ]
          },
          "metadata": {},
          "execution_count": 11
        }
      ]
    },
    {
      "cell_type": "markdown",
      "source": [
        "4. Wyświetl zerowy element tablicy. Wyświetl czwarty element tablicy. Hint: Korzystaj z [] i numeruj od 0"
      ],
      "metadata": {
        "id": "LPV3jVQGZp0j"
      }
    },
    {
      "cell_type": "code",
      "source": [
        "a[0]"
      ],
      "metadata": {
        "colab": {
          "base_uri": "https://localhost:8080/"
        },
        "id": "oBWLEA8IZBO5",
        "outputId": "71f53122-db3c-4b34-94de-fa08549d74ef"
      },
      "execution_count": null,
      "outputs": [
        {
          "output_type": "execute_result",
          "data": {
            "text/plain": [
              "0"
            ]
          },
          "metadata": {},
          "execution_count": 12
        }
      ]
    },
    {
      "cell_type": "code",
      "source": [
        "a[3]"
      ],
      "metadata": {
        "colab": {
          "base_uri": "https://localhost:8080/"
        },
        "id": "VsQPOlMWZP84",
        "outputId": "c91d05a1-9bcc-4600-cde0-b8fbf6a12068"
      },
      "execution_count": null,
      "outputs": [
        {
          "output_type": "execute_result",
          "data": {
            "text/plain": [
              "3"
            ]
          },
          "metadata": {},
          "execution_count": 16
        }
      ]
    },
    {
      "cell_type": "markdown",
      "source": [
        "5. Zmień kształt tablicy na 2x10. Wynik przekształcenia zapisz w a. Potem ponownie sprawdź kształt i wyświetl zawartość tablicy. Hint: Skorzystaj z metody reshape(...)"
      ],
      "metadata": {
        "id": "-NCVTlBsZx8f"
      }
    },
    {
      "cell_type": "code",
      "source": [
        "a.reshape(2,10)\n",
        "a.shape\n",
        "a"
      ],
      "metadata": {
        "colab": {
          "base_uri": "https://localhost:8080/"
        },
        "id": "Mz4MvSADZSbs",
        "outputId": "6949667d-ac44-497b-df04-edf789900951"
      },
      "execution_count": null,
      "outputs": [
        {
          "output_type": "execute_result",
          "data": {
            "text/plain": [
              "array([ 0,  1,  2,  3,  4,  5,  6,  7,  8,  9, 10, 11, 12, 13, 14, 15, 16,\n",
              "       17, 18, 19])"
            ]
          },
          "metadata": {},
          "execution_count": 15
        }
      ]
    },
    {
      "cell_type": "markdown",
      "source": [
        "6.  Wyświetl element zerowy z przekształconej w poprzednim kroku tablicy. Czy jest to ten sam element co poprzednio?"
      ],
      "metadata": {
        "id": "NbLJaWjBaYft"
      }
    },
    {
      "cell_type": "code",
      "source": [
        "a[0]"
      ],
      "metadata": {
        "colab": {
          "base_uri": "https://localhost:8080/"
        },
        "id": "Kj44m8XZaEYy",
        "outputId": "251f5238-f895-418c-9a12-0aac81962bac"
      },
      "execution_count": null,
      "outputs": [
        {
          "output_type": "execute_result",
          "data": {
            "text/plain": [
              "0"
            ]
          },
          "metadata": {},
          "execution_count": 17
        }
      ]
    },
    {
      "cell_type": "markdown",
      "source": [
        "7. (Uwaga - tu będzie błąd, ale na błędach człowiek się uczy, więc to dobrze). Wyświetl czwarty element z tablicy a"
      ],
      "metadata": {
        "id": "N9VsM1Z7aick"
      }
    },
    {
      "cell_type": "code",
      "source": [
        "a[3]"
      ],
      "metadata": {
        "colab": {
          "base_uri": "https://localhost:8080/"
        },
        "id": "zaDIC6a4adD7",
        "outputId": "34cf4ffd-b0b2-4137-84a0-cc2876598639"
      },
      "execution_count": null,
      "outputs": [
        {
          "output_type": "execute_result",
          "data": {
            "text/plain": [
              "3"
            ]
          },
          "metadata": {},
          "execution_count": 19
        }
      ]
    },
    {
      "cell_type": "markdown",
      "source": [
        "8. A teraz zróbmy to poprawnie. Z tablicy a wyświetl czwarty element znajdujący się w zerowym wierszu. Hint: Musisz dwa razy skorzystać z [][]"
      ],
      "metadata": {
        "id": "8UWNcUSkavN9"
      }
    },
    {
      "cell_type": "code",
      "source": [
        "a[0]\n",
        "a[3]\n",
        "a[0][3]"
      ],
      "metadata": {
        "colab": {
          "base_uri": "https://localhost:8080/",
          "height": 203
        },
        "id": "jMc8lNO2amaf",
        "outputId": "e1cd0be5-c77d-4d74-966c-217f2e9231bd"
      },
      "execution_count": null,
      "outputs": [
        {
          "output_type": "error",
          "ename": "IndexError",
          "evalue": "ignored",
          "traceback": [
            "\u001b[0;31m---------------------------------------------------------------------------\u001b[0m",
            "\u001b[0;31mIndexError\u001b[0m                                Traceback (most recent call last)",
            "\u001b[0;32m<ipython-input-23-af0ee37048e3>\u001b[0m in \u001b[0;36m<module>\u001b[0;34m\u001b[0m\n\u001b[1;32m      1\u001b[0m \u001b[0ma\u001b[0m\u001b[0;34m[\u001b[0m\u001b[0;36m0\u001b[0m\u001b[0;34m]\u001b[0m\u001b[0;34m\u001b[0m\u001b[0;34m\u001b[0m\u001b[0m\n\u001b[1;32m      2\u001b[0m \u001b[0ma\u001b[0m\u001b[0;34m[\u001b[0m\u001b[0;36m3\u001b[0m\u001b[0;34m]\u001b[0m\u001b[0;34m\u001b[0m\u001b[0;34m\u001b[0m\u001b[0m\n\u001b[0;32m----> 3\u001b[0;31m \u001b[0ma\u001b[0m\u001b[0;34m[\u001b[0m\u001b[0;36m0\u001b[0m\u001b[0;34m]\u001b[0m\u001b[0;34m[\u001b[0m\u001b[0;36m3\u001b[0m\u001b[0;34m]\u001b[0m\u001b[0;34m\u001b[0m\u001b[0;34m\u001b[0m\u001b[0m\n\u001b[0m",
            "\u001b[0;31mIndexError\u001b[0m: invalid index to scalar variable."
          ]
        }
      ]
    },
    {
      "cell_type": "markdown",
      "source": [
        "9. Zmień kształt tablicy a na 2x5x2"
      ],
      "metadata": {
        "id": "1_VkxLoipIHH"
      }
    },
    {
      "cell_type": "code",
      "source": [
        "a.reshape(2,5,2)\n",
        "a.shape\n"
      ],
      "metadata": {
        "id": "d88tHO58baD5",
        "colab": {
          "base_uri": "https://localhost:8080/"
        },
        "outputId": "5534782f-8b6c-406a-b106-5770df10b232"
      },
      "execution_count": 26,
      "outputs": [
        {
          "output_type": "execute_result",
          "data": {
            "text/plain": [
              "(20,)"
            ]
          },
          "metadata": {},
          "execution_count": 26
        }
      ]
    },
    {
      "cell_type": "code",
      "source": [
        "a"
      ],
      "metadata": {
        "colab": {
          "base_uri": "https://localhost:8080/"
        },
        "id": "BgfmNWJRpcMN",
        "outputId": "19f6a598-b6bf-4546-d7c0-50b0098d1bac"
      },
      "execution_count": 27,
      "outputs": [
        {
          "output_type": "execute_result",
          "data": {
            "text/plain": [
              "array([ 0,  1,  2,  3,  4,  5,  6,  7,  8,  9, 10, 11, 12, 13, 14, 15, 16,\n",
              "       17, 18, 19])"
            ]
          },
          "metadata": {},
          "execution_count": 27
        }
      ]
    },
    {
      "cell_type": "markdown",
      "source": [
        "10. Wyświetl z tablicy a:\n",
        "\n",
        "zerowy wiersz\n",
        "\n",
        "czwartą kolumnę z zerowego wiersza\n",
        "\n",
        "drugi element z czwartego wiersza w zerowym wierszu"
      ],
      "metadata": {
        "id": "r31i8fDQpjpN"
      }
    },
    {
      "cell_type": "code",
      "source": [
        "a[0]"
      ],
      "metadata": {
        "colab": {
          "base_uri": "https://localhost:8080/"
        },
        "id": "KAccKVCRpdgZ",
        "outputId": "204136df-4d4b-47ce-8fb5-290f07cf50a9"
      },
      "execution_count": 28,
      "outputs": [
        {
          "output_type": "execute_result",
          "data": {
            "text/plain": [
              "0"
            ]
          },
          "metadata": {},
          "execution_count": 28
        }
      ]
    },
    {
      "cell_type": "markdown",
      "source": [
        "12. Tworząc tablicę, możesz od razu definiować jej kształt. Utwórz tablicę b korzystając z parametrów przekazywanych do metody array lub wywołując odpowiednie metody dla już istniejącej tablicy, tak aby zawierała ona elementy parzyste od 0 do 40 o kształcie 4x5\n"
      ],
      "metadata": {
        "id": "SAuJbeHKqDlz"
      }
    },
    {
      "cell_type": "code",
      "source": [
        "b=np.arange(0,40,2).reshape(4,5)\n",
        "b"
      ],
      "metadata": {
        "colab": {
          "base_uri": "https://localhost:8080/"
        },
        "id": "slCEp3PPpvze",
        "outputId": "63e07026-4f7c-47a7-9ba3-99c78bbfe8fc"
      },
      "execution_count": 30,
      "outputs": [
        {
          "output_type": "execute_result",
          "data": {
            "text/plain": [
              "array([[ 0,  2,  4,  6,  8],\n",
              "       [10, 12, 14, 16, 18],\n",
              "       [20, 22, 24, 26, 28],\n",
              "       [30, 32, 34, 36, 38]])"
            ]
          },
          "metadata": {},
          "execution_count": 30
        }
      ]
    },
    {
      "cell_type": "markdown",
      "source": [
        "Polecenie\n",
        "\n",
        "a_python_list =  [2**x for x in range(10)]\n",
        "\n",
        "tworzy standardową pythonową listę dziesięciu kolejnych potęg dwójki. W oparciu o tą listę utwórz obiekt array c\n",
        "\n"
      ],
      "metadata": {
        "id": "lpT3OQPQ9RUJ"
      }
    },
    {
      "cell_type": "code",
      "source": [
        "a_python_list =  [2**x for x in range(10)]"
      ],
      "metadata": {
        "id": "IYNl-yLmqAyF"
      },
      "execution_count": 31,
      "outputs": []
    },
    {
      "cell_type": "code",
      "source": [
        "c = np.array(a_python_list)\n",
        "c"
      ],
      "metadata": {
        "colab": {
          "base_uri": "https://localhost:8080/"
        },
        "id": "m_nvkP1W82g_",
        "outputId": "01227acf-2fab-400e-cf08-b2f34b3ac36b"
      },
      "execution_count": 32,
      "outputs": [
        {
          "output_type": "execute_result",
          "data": {
            "text/plain": [
              "array([  1,   2,   4,   8,  16,  32,  64, 128, 256, 512])"
            ]
          },
          "metadata": {},
          "execution_count": 32
        }
      ]
    },
    {
      "cell_type": "markdown",
      "source": [
        "14. To może się wydawać trochę dziwne, ale czasami w uczeniu maszynowym potrzebne są bardzo specyficzne obiekty array. W tym zadaniu utworzysz takie \"dziwaczne\" tablice\n",
        "\n",
        "Utwórz tablicę zero_array składającą się z 10 zer. Hint: Skorzystaj z metody zeros\n",
        "\n",
        "Utwórz tablicę one_array składającą się z 10 jedynek. Hint: Skorzystaj z metody ones\n",
        "\n",
        "Utwórz tablicę empty_array składającą się ze 100  byle-jakich-liczb. Hint skorzystaj z metody empty\n",
        "Ta metoda tworzy tablicę, która zawiera to, co akurat było w pamięci. Wielokrotne uruchamianie w/w polecenia może dawać różne wyniki, ale to nie jest jakiś świetny sposób na generowanie liczb losowych\n",
        "\n",
        "Utwórz tablicę lucky_array o wymiarach 5x5 składającą się z samych trzynastek. Hint: Skorzystaj z metody full\n",
        "\n",
        "Utwórz tablicę diagonal_array o wymiarach 5x5, która na przekątnej ma jedynki, a pozostałe wartości to zera. Hint: Skorzystaj z metody eye\n",
        "\n",
        "Utwórz tablicę random_array składającą się z 10 losowych liczb. Hint: Skorzystaj z metody np.random.random\n",
        "\n",
        "Utwórz tablicę linspace_array zawierającą 5 elementów, która jako zerową wartość ma 100, jako ostatnią ma wartość 200, i wszystkie elementy różnią się od siebie o tyle samo. Hint: Skorzystaj z metody linspace\n",
        "\n"
      ],
      "metadata": {
        "id": "WpFdUQQU-B8g"
      }
    },
    {
      "cell_type": "code",
      "source": [
        "zero = np.zeros(10)\n",
        "zero"
      ],
      "metadata": {
        "colab": {
          "base_uri": "https://localhost:8080/"
        },
        "id": "d3SE86I39xwI",
        "outputId": "c1997512-2839-4933-de4a-2e8916699af7"
      },
      "execution_count": 34,
      "outputs": [
        {
          "output_type": "execute_result",
          "data": {
            "text/plain": [
              "array([0., 0., 0., 0., 0., 0., 0., 0., 0., 0.])"
            ]
          },
          "metadata": {},
          "execution_count": 34
        }
      ]
    },
    {
      "cell_type": "code",
      "source": [
        "one_array = np.ones(10)\n",
        "one_array"
      ],
      "metadata": {
        "colab": {
          "base_uri": "https://localhost:8080/"
        },
        "id": "0EKeEG7Z-KGC",
        "outputId": "d4e0cf00-792a-49f5-b756-94c1b6b9a350"
      },
      "execution_count": 35,
      "outputs": [
        {
          "output_type": "execute_result",
          "data": {
            "text/plain": [
              "array([1., 1., 1., 1., 1., 1., 1., 1., 1., 1.])"
            ]
          },
          "metadata": {},
          "execution_count": 35
        }
      ]
    },
    {
      "cell_type": "code",
      "source": [
        "empty_array = np.empty(100)\n",
        "empty_array"
      ],
      "metadata": {
        "colab": {
          "base_uri": "https://localhost:8080/"
        },
        "id": "FgqPgd3B-Wmy",
        "outputId": "7596d1b2-d607-412b-a719-69224d025ec5"
      },
      "execution_count": 36,
      "outputs": [
        {
          "output_type": "execute_result",
          "data": {
            "text/plain": [
              "array([2.87854187e-316, 6.90401257e-310, 6.90401257e-310, 6.90403256e-310,\n",
              "       6.90401257e-310, 6.90401257e-310, 6.90403256e-310, 6.90401256e-310,\n",
              "       6.90401258e-310, 6.90401257e-310, 6.90403256e-310, 6.90401258e-310,\n",
              "       6.90401257e-310, 6.90403256e-310, 6.90401258e-310, 6.90401258e-310,\n",
              "       6.90401257e-310, 6.90403256e-310, 6.90401257e-310, 6.90403256e-310,\n",
              "       6.90401257e-310, 6.90401258e-310, 6.90401258e-310, 6.90401258e-310,\n",
              "       6.90401258e-310, 6.90403256e-310, 6.90401257e-310, 6.90401258e-310,\n",
              "       6.90401258e-310, 6.90403256e-310, 6.90401257e-310, 6.90401258e-310,\n",
              "       6.90401256e-310, 6.90401258e-310, 6.90401258e-310, 6.90401258e-310,\n",
              "       6.90401257e-310, 6.90403256e-310, 6.90401257e-310, 6.90403256e-310,\n",
              "       6.90401258e-310, 6.90403256e-310, 6.90401258e-310, 6.90401258e-310,\n",
              "       6.90401256e-310, 6.90403256e-310, 6.90401258e-310, 6.90401258e-310,\n",
              "       6.90401258e-310, 6.90401257e-310, 6.90403256e-310, 6.90401258e-310,\n",
              "       6.90401256e-310, 6.90401256e-310, 6.90401258e-310, 6.90401257e-310,\n",
              "       6.90403256e-310, 6.90401256e-310, 6.90401258e-310, 6.90401258e-310,\n",
              "       6.90403256e-310, 6.90401256e-310, 6.90401258e-310, 6.90401258e-310,\n",
              "       6.90401257e-310, 6.90403256e-310, 6.90401258e-310, 6.90401258e-310,\n",
              "       6.90401257e-310, 6.90401257e-310, 6.90403256e-310, 6.90401256e-310,\n",
              "       6.90401257e-310, 6.90401257e-310, 6.90403256e-310, 6.90401257e-310,\n",
              "       6.90401257e-310, 6.90403256e-310, 6.90401257e-310, 6.90403256e-310,\n",
              "       6.90401257e-310, 6.90401662e-310, 6.90401257e-310, 6.90401257e-310,\n",
              "       6.90401257e-310, 6.90401257e-310, 6.90403256e-310, 6.90401256e-310,\n",
              "       6.90401257e-310, 6.90401257e-310, 6.90403256e-310, 6.90401257e-310,\n",
              "       6.90401257e-310, 6.90401257e-310, 6.90401257e-310, 6.90401257e-310,\n",
              "       6.90401257e-310, 6.90400462e-310, 6.90400462e-310, 6.90400462e-310])"
            ]
          },
          "metadata": {},
          "execution_count": 36
        }
      ]
    },
    {
      "cell_type": "code",
      "source": [
        "funny_array = np.full((5,5),13)\n",
        "funny_array"
      ],
      "metadata": {
        "colab": {
          "base_uri": "https://localhost:8080/"
        },
        "id": "LgxFuWZJ-jfl",
        "outputId": "d5a4d5dd-28b3-43ab-95b7-452b697c4c2e"
      },
      "execution_count": 37,
      "outputs": [
        {
          "output_type": "execute_result",
          "data": {
            "text/plain": [
              "array([[13, 13, 13, 13, 13],\n",
              "       [13, 13, 13, 13, 13],\n",
              "       [13, 13, 13, 13, 13],\n",
              "       [13, 13, 13, 13, 13],\n",
              "       [13, 13, 13, 13, 13]])"
            ]
          },
          "metadata": {},
          "execution_count": 37
        }
      ]
    },
    {
      "cell_type": "code",
      "source": [
        "diagonal_array = np.eye(5)\n",
        "diagonal_array"
      ],
      "metadata": {
        "colab": {
          "base_uri": "https://localhost:8080/"
        },
        "id": "ridAI7T8-2qo",
        "outputId": "2fc5dd2f-4ac2-4b1c-cdd9-f9e4fa24619c"
      },
      "execution_count": 40,
      "outputs": [
        {
          "output_type": "execute_result",
          "data": {
            "text/plain": [
              "array([[1., 0., 0., 0., 0.],\n",
              "       [0., 1., 0., 0., 0.],\n",
              "       [0., 0., 1., 0., 0.],\n",
              "       [0., 0., 0., 1., 0.],\n",
              "       [0., 0., 0., 0., 1.]])"
            ]
          },
          "metadata": {},
          "execution_count": 40
        }
      ]
    },
    {
      "cell_type": "code",
      "source": [
        "random_array = np.random.random(10)\n",
        "random_array"
      ],
      "metadata": {
        "colab": {
          "base_uri": "https://localhost:8080/"
        },
        "id": "d3y7SP2V_EkT",
        "outputId": "7784cfc7-3403-416b-96b9-d8579be23a8e"
      },
      "execution_count": 41,
      "outputs": [
        {
          "output_type": "execute_result",
          "data": {
            "text/plain": [
              "array([0.90474004, 0.27729078, 0.57787892, 0.78673291, 0.86221365,\n",
              "       0.7702521 , 0.94646926, 0.28398818, 0.01328601, 0.35312401])"
            ]
          },
          "metadata": {},
          "execution_count": 41
        }
      ]
    },
    {
      "cell_type": "code",
      "source": [
        "linspace_array = np.linspace(100,200, num=5)\n",
        "linspace_array"
      ],
      "metadata": {
        "colab": {
          "base_uri": "https://localhost:8080/"
        },
        "id": "rFVI_aT8_MI4",
        "outputId": "17bea3a9-ee52-422e-8859-7a34aef40891"
      },
      "execution_count": 43,
      "outputs": [
        {
          "output_type": "execute_result",
          "data": {
            "text/plain": [
              "array([100., 125., 150., 175., 200.])"
            ]
          },
          "metadata": {},
          "execution_count": 43
        }
      ]
    },
    {
      "cell_type": "code",
      "source": [],
      "metadata": {
        "id": "Dbcyw3h3_eyJ"
      },
      "execution_count": null,
      "outputs": []
    },
    {
      "cell_type": "code",
      "source": [],
      "metadata": {
        "id": "kArExkt3_aLZ"
      },
      "execution_count": null,
      "outputs": []
    },
    {
      "cell_type": "code",
      "source": [],
      "metadata": {
        "id": "ADZWT6cB_CNC"
      },
      "execution_count": null,
      "outputs": []
    },
    {
      "cell_type": "code",
      "source": [],
      "metadata": {
        "id": "GTZQjJiU_A0l"
      },
      "execution_count": null,
      "outputs": []
    },
    {
      "cell_type": "code",
      "source": [],
      "metadata": {
        "id": "8_Uaes59-Ik0"
      },
      "execution_count": null,
      "outputs": []
    },
    {
      "cell_type": "code",
      "source": [],
      "metadata": {
        "id": "fJ7WgVcJp0PJ"
      },
      "execution_count": null,
      "outputs": []
    },
    {
      "cell_type": "code",
      "source": [],
      "metadata": {
        "id": "G2egw-mmpVMK"
      },
      "execution_count": null,
      "outputs": []
    },
    {
      "cell_type": "code",
      "source": [],
      "metadata": {
        "id": "YP3Q8Gw7pT1j"
      },
      "execution_count": null,
      "outputs": []
    },
    {
      "cell_type": "code",
      "source": [],
      "metadata": {
        "id": "k6NZvbftbMn_"
      },
      "execution_count": null,
      "outputs": []
    },
    {
      "cell_type": "code",
      "source": [],
      "metadata": {
        "id": "AX3rHpHua3XQ"
      },
      "execution_count": null,
      "outputs": []
    },
    {
      "cell_type": "code",
      "source": [],
      "metadata": {
        "id": "BO8rbt-Gako_"
      },
      "execution_count": null,
      "outputs": []
    },
    {
      "cell_type": "code",
      "source": [],
      "metadata": {
        "id": "9TForjQpZ8N3"
      },
      "execution_count": null,
      "outputs": []
    },
    {
      "cell_type": "code",
      "source": [],
      "metadata": {
        "id": "lelirBcAY_fG"
      },
      "execution_count": null,
      "outputs": []
    },
    {
      "cell_type": "code",
      "source": [],
      "metadata": {
        "id": "iJU2_gtmY34O"
      },
      "execution_count": null,
      "outputs": []
    },
    {
      "cell_type": "code",
      "source": [],
      "metadata": {
        "id": "2B73SVC8YxVu"
      },
      "execution_count": null,
      "outputs": []
    },
    {
      "cell_type": "code",
      "source": [],
      "metadata": {
        "id": "nfiYD08xYuP_"
      },
      "execution_count": null,
      "outputs": []
    },
    {
      "cell_type": "code",
      "source": [],
      "metadata": {
        "id": "eqVScIVJYqcI"
      },
      "execution_count": null,
      "outputs": []
    },
    {
      "cell_type": "code",
      "source": [],
      "metadata": {
        "id": "JF8OleW3YmLC"
      },
      "execution_count": null,
      "outputs": []
    },
    {
      "cell_type": "code",
      "source": [],
      "metadata": {
        "id": "f6uBL5x-YhHJ"
      },
      "execution_count": null,
      "outputs": []
    },
    {
      "cell_type": "code",
      "source": [],
      "metadata": {
        "id": "OEEBItpsYdF9"
      },
      "execution_count": null,
      "outputs": []
    }
  ]
}